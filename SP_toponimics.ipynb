{
  "nbformat": 4,
  "nbformat_minor": 0,
  "metadata": {
    "colab": {
      "provenance": [],
      "collapsed_sections": [
        "OkWhfzemMFXO",
        "9_W0GRiGSqtO",
        "_nhkXkYgDJV-",
        "lJL184SLDNfZ",
        "ntWV9qAcDoza",
        "FS4elFU9Dme0",
        "lg3Zi_vCDfE7",
        "p1ii92EMDU4C",
        "7kV01BdWDRyR",
        "VFm9o8mdDaqN",
        "69pIrjXUDdEk",
        "_iVpPFBfDjlY",
        "kCnHcYqqLe1H",
        "44KixungSG2T",
        "BmtwXMaM7Bbv"
      ]
    },
    "kernelspec": {
      "name": "python3",
      "display_name": "Python 3"
    },
    "language_info": {
      "name": "python"
    },
    "widgets": {
      "application/vnd.jupyter.widget-state+json": {
        "7ee54c8bef6e44cfa7a94c57938d1a9e": {
          "model_module": "@jupyter-widgets/controls",
          "model_name": "HBoxModel",
          "model_module_version": "1.5.0",
          "state": {
            "_dom_classes": [],
            "_model_module": "@jupyter-widgets/controls",
            "_model_module_version": "1.5.0",
            "_model_name": "HBoxModel",
            "_view_count": null,
            "_view_module": "@jupyter-widgets/controls",
            "_view_module_version": "1.5.0",
            "_view_name": "HBoxView",
            "box_style": "",
            "children": [
              "IPY_MODEL_2b305767d7bb48ca8a012046fc7562ee",
              "IPY_MODEL_2abefe6c06164127a6cd0863ac3d21cd",
              "IPY_MODEL_ccf6d87ff9fd4b8b81e185bcd4b43feb"
            ],
            "layout": "IPY_MODEL_4dbd6c4d9dc4466a8e29fa616e5d333e"
          }
        },
        "2b305767d7bb48ca8a012046fc7562ee": {
          "model_module": "@jupyter-widgets/controls",
          "model_name": "HTMLModel",
          "model_module_version": "1.5.0",
          "state": {
            "_dom_classes": [],
            "_model_module": "@jupyter-widgets/controls",
            "_model_module_version": "1.5.0",
            "_model_name": "HTMLModel",
            "_view_count": null,
            "_view_module": "@jupyter-widgets/controls",
            "_view_module_version": "1.5.0",
            "_view_name": "HTMLView",
            "description": "",
            "description_tooltip": null,
            "layout": "IPY_MODEL_f57118f7dd4444118e44e3b5c6a48b0e",
            "placeholder": "​",
            "style": "IPY_MODEL_dd7d205d57d6488c8723c4c2afceca5a",
            "value": "100%"
          }
        },
        "2abefe6c06164127a6cd0863ac3d21cd": {
          "model_module": "@jupyter-widgets/controls",
          "model_name": "FloatProgressModel",
          "model_module_version": "1.5.0",
          "state": {
            "_dom_classes": [],
            "_model_module": "@jupyter-widgets/controls",
            "_model_module_version": "1.5.0",
            "_model_name": "FloatProgressModel",
            "_view_count": null,
            "_view_module": "@jupyter-widgets/controls",
            "_view_module_version": "1.5.0",
            "_view_name": "ProgressView",
            "bar_style": "success",
            "description": "",
            "description_tooltip": null,
            "layout": "IPY_MODEL_77a6698e29274c39b3aef201cd857cf7",
            "max": 64445,
            "min": 0,
            "orientation": "horizontal",
            "style": "IPY_MODEL_729fdef13a36442ea354c5de45d6c76f",
            "value": 64445
          }
        },
        "ccf6d87ff9fd4b8b81e185bcd4b43feb": {
          "model_module": "@jupyter-widgets/controls",
          "model_name": "HTMLModel",
          "model_module_version": "1.5.0",
          "state": {
            "_dom_classes": [],
            "_model_module": "@jupyter-widgets/controls",
            "_model_module_version": "1.5.0",
            "_model_name": "HTMLModel",
            "_view_count": null,
            "_view_module": "@jupyter-widgets/controls",
            "_view_module_version": "1.5.0",
            "_view_name": "HTMLView",
            "description": "",
            "description_tooltip": null,
            "layout": "IPY_MODEL_05689fd08e1b4d35869db44786b3afa2",
            "placeholder": "​",
            "style": "IPY_MODEL_6e82a27695284931bcff976746163c7a",
            "value": " 64445/64445 [2:28:40&lt;00:00,  7.10it/s]"
          }
        },
        "4dbd6c4d9dc4466a8e29fa616e5d333e": {
          "model_module": "@jupyter-widgets/base",
          "model_name": "LayoutModel",
          "model_module_version": "1.2.0",
          "state": {
            "_model_module": "@jupyter-widgets/base",
            "_model_module_version": "1.2.0",
            "_model_name": "LayoutModel",
            "_view_count": null,
            "_view_module": "@jupyter-widgets/base",
            "_view_module_version": "1.2.0",
            "_view_name": "LayoutView",
            "align_content": null,
            "align_items": null,
            "align_self": null,
            "border": null,
            "bottom": null,
            "display": null,
            "flex": null,
            "flex_flow": null,
            "grid_area": null,
            "grid_auto_columns": null,
            "grid_auto_flow": null,
            "grid_auto_rows": null,
            "grid_column": null,
            "grid_gap": null,
            "grid_row": null,
            "grid_template_areas": null,
            "grid_template_columns": null,
            "grid_template_rows": null,
            "height": null,
            "justify_content": null,
            "justify_items": null,
            "left": null,
            "margin": null,
            "max_height": null,
            "max_width": null,
            "min_height": null,
            "min_width": null,
            "object_fit": null,
            "object_position": null,
            "order": null,
            "overflow": null,
            "overflow_x": null,
            "overflow_y": null,
            "padding": null,
            "right": null,
            "top": null,
            "visibility": null,
            "width": null
          }
        },
        "f57118f7dd4444118e44e3b5c6a48b0e": {
          "model_module": "@jupyter-widgets/base",
          "model_name": "LayoutModel",
          "model_module_version": "1.2.0",
          "state": {
            "_model_module": "@jupyter-widgets/base",
            "_model_module_version": "1.2.0",
            "_model_name": "LayoutModel",
            "_view_count": null,
            "_view_module": "@jupyter-widgets/base",
            "_view_module_version": "1.2.0",
            "_view_name": "LayoutView",
            "align_content": null,
            "align_items": null,
            "align_self": null,
            "border": null,
            "bottom": null,
            "display": null,
            "flex": null,
            "flex_flow": null,
            "grid_area": null,
            "grid_auto_columns": null,
            "grid_auto_flow": null,
            "grid_auto_rows": null,
            "grid_column": null,
            "grid_gap": null,
            "grid_row": null,
            "grid_template_areas": null,
            "grid_template_columns": null,
            "grid_template_rows": null,
            "height": null,
            "justify_content": null,
            "justify_items": null,
            "left": null,
            "margin": null,
            "max_height": null,
            "max_width": null,
            "min_height": null,
            "min_width": null,
            "object_fit": null,
            "object_position": null,
            "order": null,
            "overflow": null,
            "overflow_x": null,
            "overflow_y": null,
            "padding": null,
            "right": null,
            "top": null,
            "visibility": null,
            "width": null
          }
        },
        "dd7d205d57d6488c8723c4c2afceca5a": {
          "model_module": "@jupyter-widgets/controls",
          "model_name": "DescriptionStyleModel",
          "model_module_version": "1.5.0",
          "state": {
            "_model_module": "@jupyter-widgets/controls",
            "_model_module_version": "1.5.0",
            "_model_name": "DescriptionStyleModel",
            "_view_count": null,
            "_view_module": "@jupyter-widgets/base",
            "_view_module_version": "1.2.0",
            "_view_name": "StyleView",
            "description_width": ""
          }
        },
        "77a6698e29274c39b3aef201cd857cf7": {
          "model_module": "@jupyter-widgets/base",
          "model_name": "LayoutModel",
          "model_module_version": "1.2.0",
          "state": {
            "_model_module": "@jupyter-widgets/base",
            "_model_module_version": "1.2.0",
            "_model_name": "LayoutModel",
            "_view_count": null,
            "_view_module": "@jupyter-widgets/base",
            "_view_module_version": "1.2.0",
            "_view_name": "LayoutView",
            "align_content": null,
            "align_items": null,
            "align_self": null,
            "border": null,
            "bottom": null,
            "display": null,
            "flex": null,
            "flex_flow": null,
            "grid_area": null,
            "grid_auto_columns": null,
            "grid_auto_flow": null,
            "grid_auto_rows": null,
            "grid_column": null,
            "grid_gap": null,
            "grid_row": null,
            "grid_template_areas": null,
            "grid_template_columns": null,
            "grid_template_rows": null,
            "height": null,
            "justify_content": null,
            "justify_items": null,
            "left": null,
            "margin": null,
            "max_height": null,
            "max_width": null,
            "min_height": null,
            "min_width": null,
            "object_fit": null,
            "object_position": null,
            "order": null,
            "overflow": null,
            "overflow_x": null,
            "overflow_y": null,
            "padding": null,
            "right": null,
            "top": null,
            "visibility": null,
            "width": null
          }
        },
        "729fdef13a36442ea354c5de45d6c76f": {
          "model_module": "@jupyter-widgets/controls",
          "model_name": "ProgressStyleModel",
          "model_module_version": "1.5.0",
          "state": {
            "_model_module": "@jupyter-widgets/controls",
            "_model_module_version": "1.5.0",
            "_model_name": "ProgressStyleModel",
            "_view_count": null,
            "_view_module": "@jupyter-widgets/base",
            "_view_module_version": "1.2.0",
            "_view_name": "StyleView",
            "bar_color": null,
            "description_width": ""
          }
        },
        "05689fd08e1b4d35869db44786b3afa2": {
          "model_module": "@jupyter-widgets/base",
          "model_name": "LayoutModel",
          "model_module_version": "1.2.0",
          "state": {
            "_model_module": "@jupyter-widgets/base",
            "_model_module_version": "1.2.0",
            "_model_name": "LayoutModel",
            "_view_count": null,
            "_view_module": "@jupyter-widgets/base",
            "_view_module_version": "1.2.0",
            "_view_name": "LayoutView",
            "align_content": null,
            "align_items": null,
            "align_self": null,
            "border": null,
            "bottom": null,
            "display": null,
            "flex": null,
            "flex_flow": null,
            "grid_area": null,
            "grid_auto_columns": null,
            "grid_auto_flow": null,
            "grid_auto_rows": null,
            "grid_column": null,
            "grid_gap": null,
            "grid_row": null,
            "grid_template_areas": null,
            "grid_template_columns": null,
            "grid_template_rows": null,
            "height": null,
            "justify_content": null,
            "justify_items": null,
            "left": null,
            "margin": null,
            "max_height": null,
            "max_width": null,
            "min_height": null,
            "min_width": null,
            "object_fit": null,
            "object_position": null,
            "order": null,
            "overflow": null,
            "overflow_x": null,
            "overflow_y": null,
            "padding": null,
            "right": null,
            "top": null,
            "visibility": null,
            "width": null
          }
        },
        "6e82a27695284931bcff976746163c7a": {
          "model_module": "@jupyter-widgets/controls",
          "model_name": "DescriptionStyleModel",
          "model_module_version": "1.5.0",
          "state": {
            "_model_module": "@jupyter-widgets/controls",
            "_model_module_version": "1.5.0",
            "_model_name": "DescriptionStyleModel",
            "_view_count": null,
            "_view_module": "@jupyter-widgets/base",
            "_view_module_version": "1.2.0",
            "_view_name": "StyleView",
            "description_width": ""
          }
        },
        "adb89ed2d61444039980b830842ffa2a": {
          "model_module": "@jupyter-widgets/controls",
          "model_name": "HBoxModel",
          "model_module_version": "1.5.0",
          "state": {
            "_dom_classes": [],
            "_model_module": "@jupyter-widgets/controls",
            "_model_module_version": "1.5.0",
            "_model_name": "HBoxModel",
            "_view_count": null,
            "_view_module": "@jupyter-widgets/controls",
            "_view_module_version": "1.5.0",
            "_view_name": "HBoxView",
            "box_style": "",
            "children": [
              "IPY_MODEL_2e1e64458ffe4cf8a429a0758b80e33c",
              "IPY_MODEL_a7dcdb26eceb458ea796040227386c0c",
              "IPY_MODEL_c410877cecd141f480de176c76894d9b"
            ],
            "layout": "IPY_MODEL_0a4ca48f72e64292afd6b73a9e6ef256"
          }
        },
        "2e1e64458ffe4cf8a429a0758b80e33c": {
          "model_module": "@jupyter-widgets/controls",
          "model_name": "HTMLModel",
          "model_module_version": "1.5.0",
          "state": {
            "_dom_classes": [],
            "_model_module": "@jupyter-widgets/controls",
            "_model_module_version": "1.5.0",
            "_model_name": "HTMLModel",
            "_view_count": null,
            "_view_module": "@jupyter-widgets/controls",
            "_view_module_version": "1.5.0",
            "_view_name": "HTMLView",
            "description": "",
            "description_tooltip": null,
            "layout": "IPY_MODEL_0ad915232e1b4de79d4d645d7cf44b28",
            "placeholder": "​",
            "style": "IPY_MODEL_aff5ad35b7d84c29b032d27d9d1a9e3f",
            "value": "100%"
          }
        },
        "a7dcdb26eceb458ea796040227386c0c": {
          "model_module": "@jupyter-widgets/controls",
          "model_name": "FloatProgressModel",
          "model_module_version": "1.5.0",
          "state": {
            "_dom_classes": [],
            "_model_module": "@jupyter-widgets/controls",
            "_model_module_version": "1.5.0",
            "_model_name": "FloatProgressModel",
            "_view_count": null,
            "_view_module": "@jupyter-widgets/controls",
            "_view_module_version": "1.5.0",
            "_view_name": "ProgressView",
            "bar_style": "success",
            "description": "",
            "description_tooltip": null,
            "layout": "IPY_MODEL_fe40e91df9fc4082be5a54b04f373c8e",
            "max": 64453,
            "min": 0,
            "orientation": "horizontal",
            "style": "IPY_MODEL_8d32e296989f4a8599454e90423adc80",
            "value": 64453
          }
        },
        "c410877cecd141f480de176c76894d9b": {
          "model_module": "@jupyter-widgets/controls",
          "model_name": "HTMLModel",
          "model_module_version": "1.5.0",
          "state": {
            "_dom_classes": [],
            "_model_module": "@jupyter-widgets/controls",
            "_model_module_version": "1.5.0",
            "_model_name": "HTMLModel",
            "_view_count": null,
            "_view_module": "@jupyter-widgets/controls",
            "_view_module_version": "1.5.0",
            "_view_name": "HTMLView",
            "description": "",
            "description_tooltip": null,
            "layout": "IPY_MODEL_5a32188b00804b68958433bd8063292e",
            "placeholder": "​",
            "style": "IPY_MODEL_25f5584b16744fddb73488c3854e77fc",
            "value": " 64453/64453 [00:18&lt;00:00, 568.29it/s]"
          }
        },
        "0a4ca48f72e64292afd6b73a9e6ef256": {
          "model_module": "@jupyter-widgets/base",
          "model_name": "LayoutModel",
          "model_module_version": "1.2.0",
          "state": {
            "_model_module": "@jupyter-widgets/base",
            "_model_module_version": "1.2.0",
            "_model_name": "LayoutModel",
            "_view_count": null,
            "_view_module": "@jupyter-widgets/base",
            "_view_module_version": "1.2.0",
            "_view_name": "LayoutView",
            "align_content": null,
            "align_items": null,
            "align_self": null,
            "border": null,
            "bottom": null,
            "display": null,
            "flex": null,
            "flex_flow": null,
            "grid_area": null,
            "grid_auto_columns": null,
            "grid_auto_flow": null,
            "grid_auto_rows": null,
            "grid_column": null,
            "grid_gap": null,
            "grid_row": null,
            "grid_template_areas": null,
            "grid_template_columns": null,
            "grid_template_rows": null,
            "height": null,
            "justify_content": null,
            "justify_items": null,
            "left": null,
            "margin": null,
            "max_height": null,
            "max_width": null,
            "min_height": null,
            "min_width": null,
            "object_fit": null,
            "object_position": null,
            "order": null,
            "overflow": null,
            "overflow_x": null,
            "overflow_y": null,
            "padding": null,
            "right": null,
            "top": null,
            "visibility": null,
            "width": null
          }
        },
        "0ad915232e1b4de79d4d645d7cf44b28": {
          "model_module": "@jupyter-widgets/base",
          "model_name": "LayoutModel",
          "model_module_version": "1.2.0",
          "state": {
            "_model_module": "@jupyter-widgets/base",
            "_model_module_version": "1.2.0",
            "_model_name": "LayoutModel",
            "_view_count": null,
            "_view_module": "@jupyter-widgets/base",
            "_view_module_version": "1.2.0",
            "_view_name": "LayoutView",
            "align_content": null,
            "align_items": null,
            "align_self": null,
            "border": null,
            "bottom": null,
            "display": null,
            "flex": null,
            "flex_flow": null,
            "grid_area": null,
            "grid_auto_columns": null,
            "grid_auto_flow": null,
            "grid_auto_rows": null,
            "grid_column": null,
            "grid_gap": null,
            "grid_row": null,
            "grid_template_areas": null,
            "grid_template_columns": null,
            "grid_template_rows": null,
            "height": null,
            "justify_content": null,
            "justify_items": null,
            "left": null,
            "margin": null,
            "max_height": null,
            "max_width": null,
            "min_height": null,
            "min_width": null,
            "object_fit": null,
            "object_position": null,
            "order": null,
            "overflow": null,
            "overflow_x": null,
            "overflow_y": null,
            "padding": null,
            "right": null,
            "top": null,
            "visibility": null,
            "width": null
          }
        },
        "aff5ad35b7d84c29b032d27d9d1a9e3f": {
          "model_module": "@jupyter-widgets/controls",
          "model_name": "DescriptionStyleModel",
          "model_module_version": "1.5.0",
          "state": {
            "_model_module": "@jupyter-widgets/controls",
            "_model_module_version": "1.5.0",
            "_model_name": "DescriptionStyleModel",
            "_view_count": null,
            "_view_module": "@jupyter-widgets/base",
            "_view_module_version": "1.2.0",
            "_view_name": "StyleView",
            "description_width": ""
          }
        },
        "fe40e91df9fc4082be5a54b04f373c8e": {
          "model_module": "@jupyter-widgets/base",
          "model_name": "LayoutModel",
          "model_module_version": "1.2.0",
          "state": {
            "_model_module": "@jupyter-widgets/base",
            "_model_module_version": "1.2.0",
            "_model_name": "LayoutModel",
            "_view_count": null,
            "_view_module": "@jupyter-widgets/base",
            "_view_module_version": "1.2.0",
            "_view_name": "LayoutView",
            "align_content": null,
            "align_items": null,
            "align_self": null,
            "border": null,
            "bottom": null,
            "display": null,
            "flex": null,
            "flex_flow": null,
            "grid_area": null,
            "grid_auto_columns": null,
            "grid_auto_flow": null,
            "grid_auto_rows": null,
            "grid_column": null,
            "grid_gap": null,
            "grid_row": null,
            "grid_template_areas": null,
            "grid_template_columns": null,
            "grid_template_rows": null,
            "height": null,
            "justify_content": null,
            "justify_items": null,
            "left": null,
            "margin": null,
            "max_height": null,
            "max_width": null,
            "min_height": null,
            "min_width": null,
            "object_fit": null,
            "object_position": null,
            "order": null,
            "overflow": null,
            "overflow_x": null,
            "overflow_y": null,
            "padding": null,
            "right": null,
            "top": null,
            "visibility": null,
            "width": null
          }
        },
        "8d32e296989f4a8599454e90423adc80": {
          "model_module": "@jupyter-widgets/controls",
          "model_name": "ProgressStyleModel",
          "model_module_version": "1.5.0",
          "state": {
            "_model_module": "@jupyter-widgets/controls",
            "_model_module_version": "1.5.0",
            "_model_name": "ProgressStyleModel",
            "_view_count": null,
            "_view_module": "@jupyter-widgets/base",
            "_view_module_version": "1.2.0",
            "_view_name": "StyleView",
            "bar_color": null,
            "description_width": ""
          }
        },
        "5a32188b00804b68958433bd8063292e": {
          "model_module": "@jupyter-widgets/base",
          "model_name": "LayoutModel",
          "model_module_version": "1.2.0",
          "state": {
            "_model_module": "@jupyter-widgets/base",
            "_model_module_version": "1.2.0",
            "_model_name": "LayoutModel",
            "_view_count": null,
            "_view_module": "@jupyter-widgets/base",
            "_view_module_version": "1.2.0",
            "_view_name": "LayoutView",
            "align_content": null,
            "align_items": null,
            "align_self": null,
            "border": null,
            "bottom": null,
            "display": null,
            "flex": null,
            "flex_flow": null,
            "grid_area": null,
            "grid_auto_columns": null,
            "grid_auto_flow": null,
            "grid_auto_rows": null,
            "grid_column": null,
            "grid_gap": null,
            "grid_row": null,
            "grid_template_areas": null,
            "grid_template_columns": null,
            "grid_template_rows": null,
            "height": null,
            "justify_content": null,
            "justify_items": null,
            "left": null,
            "margin": null,
            "max_height": null,
            "max_width": null,
            "min_height": null,
            "min_width": null,
            "object_fit": null,
            "object_position": null,
            "order": null,
            "overflow": null,
            "overflow_x": null,
            "overflow_y": null,
            "padding": null,
            "right": null,
            "top": null,
            "visibility": null,
            "width": null
          }
        },
        "25f5584b16744fddb73488c3854e77fc": {
          "model_module": "@jupyter-widgets/controls",
          "model_name": "DescriptionStyleModel",
          "model_module_version": "1.5.0",
          "state": {
            "_model_module": "@jupyter-widgets/controls",
            "_model_module_version": "1.5.0",
            "_model_name": "DescriptionStyleModel",
            "_view_count": null,
            "_view_module": "@jupyter-widgets/base",
            "_view_module_version": "1.2.0",
            "_view_name": "StyleView",
            "description_width": ""
          }
        },
        "33e735b8f70649f597e98d56d4070c08": {
          "model_module": "@jupyter-widgets/controls",
          "model_name": "HBoxModel",
          "model_module_version": "1.5.0",
          "state": {
            "_dom_classes": [],
            "_model_module": "@jupyter-widgets/controls",
            "_model_module_version": "1.5.0",
            "_model_name": "HBoxModel",
            "_view_count": null,
            "_view_module": "@jupyter-widgets/controls",
            "_view_module_version": "1.5.0",
            "_view_name": "HBoxView",
            "box_style": "",
            "children": [
              "IPY_MODEL_b7c3a35d432e4d7fb77f00ff4f75172f",
              "IPY_MODEL_4f3e73af9d1f4f3b8f2015c03e2831d3",
              "IPY_MODEL_81ed00adb10640b4883321cf922f2abe"
            ],
            "layout": "IPY_MODEL_b0a546df1d784f14ab6459c1637d0f58"
          }
        },
        "b7c3a35d432e4d7fb77f00ff4f75172f": {
          "model_module": "@jupyter-widgets/controls",
          "model_name": "HTMLModel",
          "model_module_version": "1.5.0",
          "state": {
            "_dom_classes": [],
            "_model_module": "@jupyter-widgets/controls",
            "_model_module_version": "1.5.0",
            "_model_name": "HTMLModel",
            "_view_count": null,
            "_view_module": "@jupyter-widgets/controls",
            "_view_module_version": "1.5.0",
            "_view_name": "HTMLView",
            "description": "",
            "description_tooltip": null,
            "layout": "IPY_MODEL_c5e6ae78af984a95bed10f704bba4557",
            "placeholder": "​",
            "style": "IPY_MODEL_3f2b3542d80546b2a5805406b867af97",
            "value": "100%"
          }
        },
        "4f3e73af9d1f4f3b8f2015c03e2831d3": {
          "model_module": "@jupyter-widgets/controls",
          "model_name": "FloatProgressModel",
          "model_module_version": "1.5.0",
          "state": {
            "_dom_classes": [],
            "_model_module": "@jupyter-widgets/controls",
            "_model_module_version": "1.5.0",
            "_model_name": "FloatProgressModel",
            "_view_count": null,
            "_view_module": "@jupyter-widgets/controls",
            "_view_module_version": "1.5.0",
            "_view_name": "ProgressView",
            "bar_style": "success",
            "description": "",
            "description_tooltip": null,
            "layout": "IPY_MODEL_baf4041a936d416494ed0ceea92d501b",
            "max": 312,
            "min": 0,
            "orientation": "horizontal",
            "style": "IPY_MODEL_4195673fa6684ac48218a98d900579ff",
            "value": 312
          }
        },
        "81ed00adb10640b4883321cf922f2abe": {
          "model_module": "@jupyter-widgets/controls",
          "model_name": "HTMLModel",
          "model_module_version": "1.5.0",
          "state": {
            "_dom_classes": [],
            "_model_module": "@jupyter-widgets/controls",
            "_model_module_version": "1.5.0",
            "_model_name": "HTMLModel",
            "_view_count": null,
            "_view_module": "@jupyter-widgets/controls",
            "_view_module_version": "1.5.0",
            "_view_name": "HTMLView",
            "description": "",
            "description_tooltip": null,
            "layout": "IPY_MODEL_fdf9f50eb46047fb8aadb889d0a8776c",
            "placeholder": "​",
            "style": "IPY_MODEL_89cd4bb385dc41789a7645a7b75b5ce7",
            "value": " 312/312 [01:05&lt;00:00,  5.05it/s]"
          }
        },
        "b0a546df1d784f14ab6459c1637d0f58": {
          "model_module": "@jupyter-widgets/base",
          "model_name": "LayoutModel",
          "model_module_version": "1.2.0",
          "state": {
            "_model_module": "@jupyter-widgets/base",
            "_model_module_version": "1.2.0",
            "_model_name": "LayoutModel",
            "_view_count": null,
            "_view_module": "@jupyter-widgets/base",
            "_view_module_version": "1.2.0",
            "_view_name": "LayoutView",
            "align_content": null,
            "align_items": null,
            "align_self": null,
            "border": null,
            "bottom": null,
            "display": null,
            "flex": null,
            "flex_flow": null,
            "grid_area": null,
            "grid_auto_columns": null,
            "grid_auto_flow": null,
            "grid_auto_rows": null,
            "grid_column": null,
            "grid_gap": null,
            "grid_row": null,
            "grid_template_areas": null,
            "grid_template_columns": null,
            "grid_template_rows": null,
            "height": null,
            "justify_content": null,
            "justify_items": null,
            "left": null,
            "margin": null,
            "max_height": null,
            "max_width": null,
            "min_height": null,
            "min_width": null,
            "object_fit": null,
            "object_position": null,
            "order": null,
            "overflow": null,
            "overflow_x": null,
            "overflow_y": null,
            "padding": null,
            "right": null,
            "top": null,
            "visibility": null,
            "width": null
          }
        },
        "c5e6ae78af984a95bed10f704bba4557": {
          "model_module": "@jupyter-widgets/base",
          "model_name": "LayoutModel",
          "model_module_version": "1.2.0",
          "state": {
            "_model_module": "@jupyter-widgets/base",
            "_model_module_version": "1.2.0",
            "_model_name": "LayoutModel",
            "_view_count": null,
            "_view_module": "@jupyter-widgets/base",
            "_view_module_version": "1.2.0",
            "_view_name": "LayoutView",
            "align_content": null,
            "align_items": null,
            "align_self": null,
            "border": null,
            "bottom": null,
            "display": null,
            "flex": null,
            "flex_flow": null,
            "grid_area": null,
            "grid_auto_columns": null,
            "grid_auto_flow": null,
            "grid_auto_rows": null,
            "grid_column": null,
            "grid_gap": null,
            "grid_row": null,
            "grid_template_areas": null,
            "grid_template_columns": null,
            "grid_template_rows": null,
            "height": null,
            "justify_content": null,
            "justify_items": null,
            "left": null,
            "margin": null,
            "max_height": null,
            "max_width": null,
            "min_height": null,
            "min_width": null,
            "object_fit": null,
            "object_position": null,
            "order": null,
            "overflow": null,
            "overflow_x": null,
            "overflow_y": null,
            "padding": null,
            "right": null,
            "top": null,
            "visibility": null,
            "width": null
          }
        },
        "3f2b3542d80546b2a5805406b867af97": {
          "model_module": "@jupyter-widgets/controls",
          "model_name": "DescriptionStyleModel",
          "model_module_version": "1.5.0",
          "state": {
            "_model_module": "@jupyter-widgets/controls",
            "_model_module_version": "1.5.0",
            "_model_name": "DescriptionStyleModel",
            "_view_count": null,
            "_view_module": "@jupyter-widgets/base",
            "_view_module_version": "1.2.0",
            "_view_name": "StyleView",
            "description_width": ""
          }
        },
        "baf4041a936d416494ed0ceea92d501b": {
          "model_module": "@jupyter-widgets/base",
          "model_name": "LayoutModel",
          "model_module_version": "1.2.0",
          "state": {
            "_model_module": "@jupyter-widgets/base",
            "_model_module_version": "1.2.0",
            "_model_name": "LayoutModel",
            "_view_count": null,
            "_view_module": "@jupyter-widgets/base",
            "_view_module_version": "1.2.0",
            "_view_name": "LayoutView",
            "align_content": null,
            "align_items": null,
            "align_self": null,
            "border": null,
            "bottom": null,
            "display": null,
            "flex": null,
            "flex_flow": null,
            "grid_area": null,
            "grid_auto_columns": null,
            "grid_auto_flow": null,
            "grid_auto_rows": null,
            "grid_column": null,
            "grid_gap": null,
            "grid_row": null,
            "grid_template_areas": null,
            "grid_template_columns": null,
            "grid_template_rows": null,
            "height": null,
            "justify_content": null,
            "justify_items": null,
            "left": null,
            "margin": null,
            "max_height": null,
            "max_width": null,
            "min_height": null,
            "min_width": null,
            "object_fit": null,
            "object_position": null,
            "order": null,
            "overflow": null,
            "overflow_x": null,
            "overflow_y": null,
            "padding": null,
            "right": null,
            "top": null,
            "visibility": null,
            "width": null
          }
        },
        "4195673fa6684ac48218a98d900579ff": {
          "model_module": "@jupyter-widgets/controls",
          "model_name": "ProgressStyleModel",
          "model_module_version": "1.5.0",
          "state": {
            "_model_module": "@jupyter-widgets/controls",
            "_model_module_version": "1.5.0",
            "_model_name": "ProgressStyleModel",
            "_view_count": null,
            "_view_module": "@jupyter-widgets/base",
            "_view_module_version": "1.2.0",
            "_view_name": "StyleView",
            "bar_color": null,
            "description_width": ""
          }
        },
        "fdf9f50eb46047fb8aadb889d0a8776c": {
          "model_module": "@jupyter-widgets/base",
          "model_name": "LayoutModel",
          "model_module_version": "1.2.0",
          "state": {
            "_model_module": "@jupyter-widgets/base",
            "_model_module_version": "1.2.0",
            "_model_name": "LayoutModel",
            "_view_count": null,
            "_view_module": "@jupyter-widgets/base",
            "_view_module_version": "1.2.0",
            "_view_name": "LayoutView",
            "align_content": null,
            "align_items": null,
            "align_self": null,
            "border": null,
            "bottom": null,
            "display": null,
            "flex": null,
            "flex_flow": null,
            "grid_area": null,
            "grid_auto_columns": null,
            "grid_auto_flow": null,
            "grid_auto_rows": null,
            "grid_column": null,
            "grid_gap": null,
            "grid_row": null,
            "grid_template_areas": null,
            "grid_template_columns": null,
            "grid_template_rows": null,
            "height": null,
            "justify_content": null,
            "justify_items": null,
            "left": null,
            "margin": null,
            "max_height": null,
            "max_width": null,
            "min_height": null,
            "min_width": null,
            "object_fit": null,
            "object_position": null,
            "order": null,
            "overflow": null,
            "overflow_x": null,
            "overflow_y": null,
            "padding": null,
            "right": null,
            "top": null,
            "visibility": null,
            "width": null
          }
        },
        "89cd4bb385dc41789a7645a7b75b5ce7": {
          "model_module": "@jupyter-widgets/controls",
          "model_name": "DescriptionStyleModel",
          "model_module_version": "1.5.0",
          "state": {
            "_model_module": "@jupyter-widgets/controls",
            "_model_module_version": "1.5.0",
            "_model_name": "DescriptionStyleModel",
            "_view_count": null,
            "_view_module": "@jupyter-widgets/base",
            "_view_module_version": "1.2.0",
            "_view_name": "StyleView",
            "description_width": ""
          }
        },
        "120f312f75e249b9aac6671812ca8172": {
          "model_module": "@jupyter-widgets/controls",
          "model_name": "HBoxModel",
          "model_module_version": "1.5.0",
          "state": {
            "_dom_classes": [],
            "_model_module": "@jupyter-widgets/controls",
            "_model_module_version": "1.5.0",
            "_model_name": "HBoxModel",
            "_view_count": null,
            "_view_module": "@jupyter-widgets/controls",
            "_view_module_version": "1.5.0",
            "_view_name": "HBoxView",
            "box_style": "",
            "children": [
              "IPY_MODEL_66f0cd24a9904867956ab500f94cc41a",
              "IPY_MODEL_b6795a592887437a965824c7ba61d0f4",
              "IPY_MODEL_2a0ddc0aaff240e1a704b3fcb59294f9"
            ],
            "layout": "IPY_MODEL_a6ee86bde98846deb245eaa5cc10e5a6"
          }
        },
        "66f0cd24a9904867956ab500f94cc41a": {
          "model_module": "@jupyter-widgets/controls",
          "model_name": "HTMLModel",
          "model_module_version": "1.5.0",
          "state": {
            "_dom_classes": [],
            "_model_module": "@jupyter-widgets/controls",
            "_model_module_version": "1.5.0",
            "_model_name": "HTMLModel",
            "_view_count": null,
            "_view_module": "@jupyter-widgets/controls",
            "_view_module_version": "1.5.0",
            "_view_name": "HTMLView",
            "description": "",
            "description_tooltip": null,
            "layout": "IPY_MODEL_bce667b91f7d49c7a061780ef4040e97",
            "placeholder": "​",
            "style": "IPY_MODEL_e3f29d3a97fe43a2a1fb6a44e0fa54a0",
            "value": "100%"
          }
        },
        "b6795a592887437a965824c7ba61d0f4": {
          "model_module": "@jupyter-widgets/controls",
          "model_name": "FloatProgressModel",
          "model_module_version": "1.5.0",
          "state": {
            "_dom_classes": [],
            "_model_module": "@jupyter-widgets/controls",
            "_model_module_version": "1.5.0",
            "_model_name": "FloatProgressModel",
            "_view_count": null,
            "_view_module": "@jupyter-widgets/controls",
            "_view_module_version": "1.5.0",
            "_view_name": "ProgressView",
            "bar_style": "success",
            "description": "",
            "description_tooltip": null,
            "layout": "IPY_MODEL_ef07e9f2f5934c15978e5a5c1fe9bfda",
            "max": 64453,
            "min": 0,
            "orientation": "horizontal",
            "style": "IPY_MODEL_8403f3f9ccab4697b87f300c02720b53",
            "value": 64453
          }
        },
        "2a0ddc0aaff240e1a704b3fcb59294f9": {
          "model_module": "@jupyter-widgets/controls",
          "model_name": "HTMLModel",
          "model_module_version": "1.5.0",
          "state": {
            "_dom_classes": [],
            "_model_module": "@jupyter-widgets/controls",
            "_model_module_version": "1.5.0",
            "_model_name": "HTMLModel",
            "_view_count": null,
            "_view_module": "@jupyter-widgets/controls",
            "_view_module_version": "1.5.0",
            "_view_name": "HTMLView",
            "description": "",
            "description_tooltip": null,
            "layout": "IPY_MODEL_9e40688d6b8c4131bd82341dcb5b2174",
            "placeholder": "​",
            "style": "IPY_MODEL_3b52573c037d423aa85837804b718180",
            "value": " 64453/64453 [00:11&lt;00:00, 4247.24it/s]"
          }
        },
        "a6ee86bde98846deb245eaa5cc10e5a6": {
          "model_module": "@jupyter-widgets/base",
          "model_name": "LayoutModel",
          "model_module_version": "1.2.0",
          "state": {
            "_model_module": "@jupyter-widgets/base",
            "_model_module_version": "1.2.0",
            "_model_name": "LayoutModel",
            "_view_count": null,
            "_view_module": "@jupyter-widgets/base",
            "_view_module_version": "1.2.0",
            "_view_name": "LayoutView",
            "align_content": null,
            "align_items": null,
            "align_self": null,
            "border": null,
            "bottom": null,
            "display": null,
            "flex": null,
            "flex_flow": null,
            "grid_area": null,
            "grid_auto_columns": null,
            "grid_auto_flow": null,
            "grid_auto_rows": null,
            "grid_column": null,
            "grid_gap": null,
            "grid_row": null,
            "grid_template_areas": null,
            "grid_template_columns": null,
            "grid_template_rows": null,
            "height": null,
            "justify_content": null,
            "justify_items": null,
            "left": null,
            "margin": null,
            "max_height": null,
            "max_width": null,
            "min_height": null,
            "min_width": null,
            "object_fit": null,
            "object_position": null,
            "order": null,
            "overflow": null,
            "overflow_x": null,
            "overflow_y": null,
            "padding": null,
            "right": null,
            "top": null,
            "visibility": null,
            "width": null
          }
        },
        "bce667b91f7d49c7a061780ef4040e97": {
          "model_module": "@jupyter-widgets/base",
          "model_name": "LayoutModel",
          "model_module_version": "1.2.0",
          "state": {
            "_model_module": "@jupyter-widgets/base",
            "_model_module_version": "1.2.0",
            "_model_name": "LayoutModel",
            "_view_count": null,
            "_view_module": "@jupyter-widgets/base",
            "_view_module_version": "1.2.0",
            "_view_name": "LayoutView",
            "align_content": null,
            "align_items": null,
            "align_self": null,
            "border": null,
            "bottom": null,
            "display": null,
            "flex": null,
            "flex_flow": null,
            "grid_area": null,
            "grid_auto_columns": null,
            "grid_auto_flow": null,
            "grid_auto_rows": null,
            "grid_column": null,
            "grid_gap": null,
            "grid_row": null,
            "grid_template_areas": null,
            "grid_template_columns": null,
            "grid_template_rows": null,
            "height": null,
            "justify_content": null,
            "justify_items": null,
            "left": null,
            "margin": null,
            "max_height": null,
            "max_width": null,
            "min_height": null,
            "min_width": null,
            "object_fit": null,
            "object_position": null,
            "order": null,
            "overflow": null,
            "overflow_x": null,
            "overflow_y": null,
            "padding": null,
            "right": null,
            "top": null,
            "visibility": null,
            "width": null
          }
        },
        "e3f29d3a97fe43a2a1fb6a44e0fa54a0": {
          "model_module": "@jupyter-widgets/controls",
          "model_name": "DescriptionStyleModel",
          "model_module_version": "1.5.0",
          "state": {
            "_model_module": "@jupyter-widgets/controls",
            "_model_module_version": "1.5.0",
            "_model_name": "DescriptionStyleModel",
            "_view_count": null,
            "_view_module": "@jupyter-widgets/base",
            "_view_module_version": "1.2.0",
            "_view_name": "StyleView",
            "description_width": ""
          }
        },
        "ef07e9f2f5934c15978e5a5c1fe9bfda": {
          "model_module": "@jupyter-widgets/base",
          "model_name": "LayoutModel",
          "model_module_version": "1.2.0",
          "state": {
            "_model_module": "@jupyter-widgets/base",
            "_model_module_version": "1.2.0",
            "_model_name": "LayoutModel",
            "_view_count": null,
            "_view_module": "@jupyter-widgets/base",
            "_view_module_version": "1.2.0",
            "_view_name": "LayoutView",
            "align_content": null,
            "align_items": null,
            "align_self": null,
            "border": null,
            "bottom": null,
            "display": null,
            "flex": null,
            "flex_flow": null,
            "grid_area": null,
            "grid_auto_columns": null,
            "grid_auto_flow": null,
            "grid_auto_rows": null,
            "grid_column": null,
            "grid_gap": null,
            "grid_row": null,
            "grid_template_areas": null,
            "grid_template_columns": null,
            "grid_template_rows": null,
            "height": null,
            "justify_content": null,
            "justify_items": null,
            "left": null,
            "margin": null,
            "max_height": null,
            "max_width": null,
            "min_height": null,
            "min_width": null,
            "object_fit": null,
            "object_position": null,
            "order": null,
            "overflow": null,
            "overflow_x": null,
            "overflow_y": null,
            "padding": null,
            "right": null,
            "top": null,
            "visibility": null,
            "width": null
          }
        },
        "8403f3f9ccab4697b87f300c02720b53": {
          "model_module": "@jupyter-widgets/controls",
          "model_name": "ProgressStyleModel",
          "model_module_version": "1.5.0",
          "state": {
            "_model_module": "@jupyter-widgets/controls",
            "_model_module_version": "1.5.0",
            "_model_name": "ProgressStyleModel",
            "_view_count": null,
            "_view_module": "@jupyter-widgets/base",
            "_view_module_version": "1.2.0",
            "_view_name": "StyleView",
            "bar_color": null,
            "description_width": ""
          }
        },
        "9e40688d6b8c4131bd82341dcb5b2174": {
          "model_module": "@jupyter-widgets/base",
          "model_name": "LayoutModel",
          "model_module_version": "1.2.0",
          "state": {
            "_model_module": "@jupyter-widgets/base",
            "_model_module_version": "1.2.0",
            "_model_name": "LayoutModel",
            "_view_count": null,
            "_view_module": "@jupyter-widgets/base",
            "_view_module_version": "1.2.0",
            "_view_name": "LayoutView",
            "align_content": null,
            "align_items": null,
            "align_self": null,
            "border": null,
            "bottom": null,
            "display": null,
            "flex": null,
            "flex_flow": null,
            "grid_area": null,
            "grid_auto_columns": null,
            "grid_auto_flow": null,
            "grid_auto_rows": null,
            "grid_column": null,
            "grid_gap": null,
            "grid_row": null,
            "grid_template_areas": null,
            "grid_template_columns": null,
            "grid_template_rows": null,
            "height": null,
            "justify_content": null,
            "justify_items": null,
            "left": null,
            "margin": null,
            "max_height": null,
            "max_width": null,
            "min_height": null,
            "min_width": null,
            "object_fit": null,
            "object_position": null,
            "order": null,
            "overflow": null,
            "overflow_x": null,
            "overflow_y": null,
            "padding": null,
            "right": null,
            "top": null,
            "visibility": null,
            "width": null
          }
        },
        "3b52573c037d423aa85837804b718180": {
          "model_module": "@jupyter-widgets/controls",
          "model_name": "DescriptionStyleModel",
          "model_module_version": "1.5.0",
          "state": {
            "_model_module": "@jupyter-widgets/controls",
            "_model_module_version": "1.5.0",
            "_model_name": "DescriptionStyleModel",
            "_view_count": null,
            "_view_module": "@jupyter-widgets/base",
            "_view_module_version": "1.2.0",
            "_view_name": "StyleView",
            "description_width": ""
          }
        },
        "2668efaee8104303b42cfd6777abee66": {
          "model_module": "@jupyter-widgets/controls",
          "model_name": "HBoxModel",
          "model_module_version": "1.5.0",
          "state": {
            "_dom_classes": [],
            "_model_module": "@jupyter-widgets/controls",
            "_model_module_version": "1.5.0",
            "_model_name": "HBoxModel",
            "_view_count": null,
            "_view_module": "@jupyter-widgets/controls",
            "_view_module_version": "1.5.0",
            "_view_name": "HBoxView",
            "box_style": "",
            "children": [
              "IPY_MODEL_49768c7e6ab94ba8a87ca71e331b3a7e",
              "IPY_MODEL_ccab4a4e378242f6b0e9df1a460d4203",
              "IPY_MODEL_528676b148024d629c38f871c0da92f6"
            ],
            "layout": "IPY_MODEL_ac6ecea7c257476e81e0cc345737b0a8"
          }
        },
        "49768c7e6ab94ba8a87ca71e331b3a7e": {
          "model_module": "@jupyter-widgets/controls",
          "model_name": "HTMLModel",
          "model_module_version": "1.5.0",
          "state": {
            "_dom_classes": [],
            "_model_module": "@jupyter-widgets/controls",
            "_model_module_version": "1.5.0",
            "_model_name": "HTMLModel",
            "_view_count": null,
            "_view_module": "@jupyter-widgets/controls",
            "_view_module_version": "1.5.0",
            "_view_name": "HTMLView",
            "description": "",
            "description_tooltip": null,
            "layout": "IPY_MODEL_c98ea59383c84c99b908dfd85cdbe869",
            "placeholder": "​",
            "style": "IPY_MODEL_a38e27155e1e4d14a3e5c150e524326e",
            "value": "100%"
          }
        },
        "ccab4a4e378242f6b0e9df1a460d4203": {
          "model_module": "@jupyter-widgets/controls",
          "model_name": "FloatProgressModel",
          "model_module_version": "1.5.0",
          "state": {
            "_dom_classes": [],
            "_model_module": "@jupyter-widgets/controls",
            "_model_module_version": "1.5.0",
            "_model_name": "FloatProgressModel",
            "_view_count": null,
            "_view_module": "@jupyter-widgets/controls",
            "_view_module_version": "1.5.0",
            "_view_name": "ProgressView",
            "bar_style": "success",
            "description": "",
            "description_tooltip": null,
            "layout": "IPY_MODEL_d56f8d627e474bf6a6b33a2faf1d783b",
            "max": 64577,
            "min": 0,
            "orientation": "horizontal",
            "style": "IPY_MODEL_61d1297691d342d0a2c23ebf7751ff16",
            "value": 64577
          }
        },
        "528676b148024d629c38f871c0da92f6": {
          "model_module": "@jupyter-widgets/controls",
          "model_name": "HTMLModel",
          "model_module_version": "1.5.0",
          "state": {
            "_dom_classes": [],
            "_model_module": "@jupyter-widgets/controls",
            "_model_module_version": "1.5.0",
            "_model_name": "HTMLModel",
            "_view_count": null,
            "_view_module": "@jupyter-widgets/controls",
            "_view_module_version": "1.5.0",
            "_view_name": "HTMLView",
            "description": "",
            "description_tooltip": null,
            "layout": "IPY_MODEL_9b83dec6f0c74e79a98a545e5ab0cf45",
            "placeholder": "​",
            "style": "IPY_MODEL_a7a4f46895de49d78ca45d04ea04b900",
            "value": " 64577/64577 [02:55&lt;00:00, 363.77it/s]"
          }
        },
        "ac6ecea7c257476e81e0cc345737b0a8": {
          "model_module": "@jupyter-widgets/base",
          "model_name": "LayoutModel",
          "model_module_version": "1.2.0",
          "state": {
            "_model_module": "@jupyter-widgets/base",
            "_model_module_version": "1.2.0",
            "_model_name": "LayoutModel",
            "_view_count": null,
            "_view_module": "@jupyter-widgets/base",
            "_view_module_version": "1.2.0",
            "_view_name": "LayoutView",
            "align_content": null,
            "align_items": null,
            "align_self": null,
            "border": null,
            "bottom": null,
            "display": null,
            "flex": null,
            "flex_flow": null,
            "grid_area": null,
            "grid_auto_columns": null,
            "grid_auto_flow": null,
            "grid_auto_rows": null,
            "grid_column": null,
            "grid_gap": null,
            "grid_row": null,
            "grid_template_areas": null,
            "grid_template_columns": null,
            "grid_template_rows": null,
            "height": null,
            "justify_content": null,
            "justify_items": null,
            "left": null,
            "margin": null,
            "max_height": null,
            "max_width": null,
            "min_height": null,
            "min_width": null,
            "object_fit": null,
            "object_position": null,
            "order": null,
            "overflow": null,
            "overflow_x": null,
            "overflow_y": null,
            "padding": null,
            "right": null,
            "top": null,
            "visibility": null,
            "width": null
          }
        },
        "c98ea59383c84c99b908dfd85cdbe869": {
          "model_module": "@jupyter-widgets/base",
          "model_name": "LayoutModel",
          "model_module_version": "1.2.0",
          "state": {
            "_model_module": "@jupyter-widgets/base",
            "_model_module_version": "1.2.0",
            "_model_name": "LayoutModel",
            "_view_count": null,
            "_view_module": "@jupyter-widgets/base",
            "_view_module_version": "1.2.0",
            "_view_name": "LayoutView",
            "align_content": null,
            "align_items": null,
            "align_self": null,
            "border": null,
            "bottom": null,
            "display": null,
            "flex": null,
            "flex_flow": null,
            "grid_area": null,
            "grid_auto_columns": null,
            "grid_auto_flow": null,
            "grid_auto_rows": null,
            "grid_column": null,
            "grid_gap": null,
            "grid_row": null,
            "grid_template_areas": null,
            "grid_template_columns": null,
            "grid_template_rows": null,
            "height": null,
            "justify_content": null,
            "justify_items": null,
            "left": null,
            "margin": null,
            "max_height": null,
            "max_width": null,
            "min_height": null,
            "min_width": null,
            "object_fit": null,
            "object_position": null,
            "order": null,
            "overflow": null,
            "overflow_x": null,
            "overflow_y": null,
            "padding": null,
            "right": null,
            "top": null,
            "visibility": null,
            "width": null
          }
        },
        "a38e27155e1e4d14a3e5c150e524326e": {
          "model_module": "@jupyter-widgets/controls",
          "model_name": "DescriptionStyleModel",
          "model_module_version": "1.5.0",
          "state": {
            "_model_module": "@jupyter-widgets/controls",
            "_model_module_version": "1.5.0",
            "_model_name": "DescriptionStyleModel",
            "_view_count": null,
            "_view_module": "@jupyter-widgets/base",
            "_view_module_version": "1.2.0",
            "_view_name": "StyleView",
            "description_width": ""
          }
        },
        "d56f8d627e474bf6a6b33a2faf1d783b": {
          "model_module": "@jupyter-widgets/base",
          "model_name": "LayoutModel",
          "model_module_version": "1.2.0",
          "state": {
            "_model_module": "@jupyter-widgets/base",
            "_model_module_version": "1.2.0",
            "_model_name": "LayoutModel",
            "_view_count": null,
            "_view_module": "@jupyter-widgets/base",
            "_view_module_version": "1.2.0",
            "_view_name": "LayoutView",
            "align_content": null,
            "align_items": null,
            "align_self": null,
            "border": null,
            "bottom": null,
            "display": null,
            "flex": null,
            "flex_flow": null,
            "grid_area": null,
            "grid_auto_columns": null,
            "grid_auto_flow": null,
            "grid_auto_rows": null,
            "grid_column": null,
            "grid_gap": null,
            "grid_row": null,
            "grid_template_areas": null,
            "grid_template_columns": null,
            "grid_template_rows": null,
            "height": null,
            "justify_content": null,
            "justify_items": null,
            "left": null,
            "margin": null,
            "max_height": null,
            "max_width": null,
            "min_height": null,
            "min_width": null,
            "object_fit": null,
            "object_position": null,
            "order": null,
            "overflow": null,
            "overflow_x": null,
            "overflow_y": null,
            "padding": null,
            "right": null,
            "top": null,
            "visibility": null,
            "width": null
          }
        },
        "61d1297691d342d0a2c23ebf7751ff16": {
          "model_module": "@jupyter-widgets/controls",
          "model_name": "ProgressStyleModel",
          "model_module_version": "1.5.0",
          "state": {
            "_model_module": "@jupyter-widgets/controls",
            "_model_module_version": "1.5.0",
            "_model_name": "ProgressStyleModel",
            "_view_count": null,
            "_view_module": "@jupyter-widgets/base",
            "_view_module_version": "1.2.0",
            "_view_name": "StyleView",
            "bar_color": null,
            "description_width": ""
          }
        },
        "9b83dec6f0c74e79a98a545e5ab0cf45": {
          "model_module": "@jupyter-widgets/base",
          "model_name": "LayoutModel",
          "model_module_version": "1.2.0",
          "state": {
            "_model_module": "@jupyter-widgets/base",
            "_model_module_version": "1.2.0",
            "_model_name": "LayoutModel",
            "_view_count": null,
            "_view_module": "@jupyter-widgets/base",
            "_view_module_version": "1.2.0",
            "_view_name": "LayoutView",
            "align_content": null,
            "align_items": null,
            "align_self": null,
            "border": null,
            "bottom": null,
            "display": null,
            "flex": null,
            "flex_flow": null,
            "grid_area": null,
            "grid_auto_columns": null,
            "grid_auto_flow": null,
            "grid_auto_rows": null,
            "grid_column": null,
            "grid_gap": null,
            "grid_row": null,
            "grid_template_areas": null,
            "grid_template_columns": null,
            "grid_template_rows": null,
            "height": null,
            "justify_content": null,
            "justify_items": null,
            "left": null,
            "margin": null,
            "max_height": null,
            "max_width": null,
            "min_height": null,
            "min_width": null,
            "object_fit": null,
            "object_position": null,
            "order": null,
            "overflow": null,
            "overflow_x": null,
            "overflow_y": null,
            "padding": null,
            "right": null,
            "top": null,
            "visibility": null,
            "width": null
          }
        },
        "a7a4f46895de49d78ca45d04ea04b900": {
          "model_module": "@jupyter-widgets/controls",
          "model_name": "DescriptionStyleModel",
          "model_module_version": "1.5.0",
          "state": {
            "_model_module": "@jupyter-widgets/controls",
            "_model_module_version": "1.5.0",
            "_model_name": "DescriptionStyleModel",
            "_view_count": null,
            "_view_module": "@jupyter-widgets/base",
            "_view_module_version": "1.2.0",
            "_view_name": "StyleView",
            "description_width": ""
          }
        },
        "908a8dea91b6452c93ec113e80d9c0d5": {
          "model_module": "@jupyter-widgets/controls",
          "model_name": "HBoxModel",
          "model_module_version": "1.5.0",
          "state": {
            "_dom_classes": [],
            "_model_module": "@jupyter-widgets/controls",
            "_model_module_version": "1.5.0",
            "_model_name": "HBoxModel",
            "_view_count": null,
            "_view_module": "@jupyter-widgets/controls",
            "_view_module_version": "1.5.0",
            "_view_name": "HBoxView",
            "box_style": "",
            "children": [
              "IPY_MODEL_cfe37643009e448b9422dbd0ad4ecbb2",
              "IPY_MODEL_bc54498cb3ce43a1a6395f0f57318729",
              "IPY_MODEL_0d65e9324a75434ba18a84c705f55c34"
            ],
            "layout": "IPY_MODEL_28ae8942967545c09b9d84afabb795c7"
          }
        },
        "cfe37643009e448b9422dbd0ad4ecbb2": {
          "model_module": "@jupyter-widgets/controls",
          "model_name": "HTMLModel",
          "model_module_version": "1.5.0",
          "state": {
            "_dom_classes": [],
            "_model_module": "@jupyter-widgets/controls",
            "_model_module_version": "1.5.0",
            "_model_name": "HTMLModel",
            "_view_count": null,
            "_view_module": "@jupyter-widgets/controls",
            "_view_module_version": "1.5.0",
            "_view_name": "HTMLView",
            "description": "",
            "description_tooltip": null,
            "layout": "IPY_MODEL_82d301557b7042559cb26d7b292e7af4",
            "placeholder": "​",
            "style": "IPY_MODEL_85d1a558f24b4b3d90de8437090c0924",
            "value": "100%"
          }
        },
        "bc54498cb3ce43a1a6395f0f57318729": {
          "model_module": "@jupyter-widgets/controls",
          "model_name": "FloatProgressModel",
          "model_module_version": "1.5.0",
          "state": {
            "_dom_classes": [],
            "_model_module": "@jupyter-widgets/controls",
            "_model_module_version": "1.5.0",
            "_model_name": "FloatProgressModel",
            "_view_count": null,
            "_view_module": "@jupyter-widgets/controls",
            "_view_module_version": "1.5.0",
            "_view_name": "ProgressView",
            "bar_style": "success",
            "description": "",
            "description_tooltip": null,
            "layout": "IPY_MODEL_bfa571be4b47451a8bda310563c298e1",
            "max": 64494,
            "min": 0,
            "orientation": "horizontal",
            "style": "IPY_MODEL_a9c7411885df43abbda9c1e904f40c85",
            "value": 64494
          }
        },
        "0d65e9324a75434ba18a84c705f55c34": {
          "model_module": "@jupyter-widgets/controls",
          "model_name": "HTMLModel",
          "model_module_version": "1.5.0",
          "state": {
            "_dom_classes": [],
            "_model_module": "@jupyter-widgets/controls",
            "_model_module_version": "1.5.0",
            "_model_name": "HTMLModel",
            "_view_count": null,
            "_view_module": "@jupyter-widgets/controls",
            "_view_module_version": "1.5.0",
            "_view_name": "HTMLView",
            "description": "",
            "description_tooltip": null,
            "layout": "IPY_MODEL_4bc2e30842324db5a337f7427631cf3f",
            "placeholder": "​",
            "style": "IPY_MODEL_a23b83cc5a794b959da57fd88ce71c64",
            "value": " 64494/64494 [43:54&lt;00:00, 14.59it/s]"
          }
        },
        "28ae8942967545c09b9d84afabb795c7": {
          "model_module": "@jupyter-widgets/base",
          "model_name": "LayoutModel",
          "model_module_version": "1.2.0",
          "state": {
            "_model_module": "@jupyter-widgets/base",
            "_model_module_version": "1.2.0",
            "_model_name": "LayoutModel",
            "_view_count": null,
            "_view_module": "@jupyter-widgets/base",
            "_view_module_version": "1.2.0",
            "_view_name": "LayoutView",
            "align_content": null,
            "align_items": null,
            "align_self": null,
            "border": null,
            "bottom": null,
            "display": null,
            "flex": null,
            "flex_flow": null,
            "grid_area": null,
            "grid_auto_columns": null,
            "grid_auto_flow": null,
            "grid_auto_rows": null,
            "grid_column": null,
            "grid_gap": null,
            "grid_row": null,
            "grid_template_areas": null,
            "grid_template_columns": null,
            "grid_template_rows": null,
            "height": null,
            "justify_content": null,
            "justify_items": null,
            "left": null,
            "margin": null,
            "max_height": null,
            "max_width": null,
            "min_height": null,
            "min_width": null,
            "object_fit": null,
            "object_position": null,
            "order": null,
            "overflow": null,
            "overflow_x": null,
            "overflow_y": null,
            "padding": null,
            "right": null,
            "top": null,
            "visibility": null,
            "width": null
          }
        },
        "82d301557b7042559cb26d7b292e7af4": {
          "model_module": "@jupyter-widgets/base",
          "model_name": "LayoutModel",
          "model_module_version": "1.2.0",
          "state": {
            "_model_module": "@jupyter-widgets/base",
            "_model_module_version": "1.2.0",
            "_model_name": "LayoutModel",
            "_view_count": null,
            "_view_module": "@jupyter-widgets/base",
            "_view_module_version": "1.2.0",
            "_view_name": "LayoutView",
            "align_content": null,
            "align_items": null,
            "align_self": null,
            "border": null,
            "bottom": null,
            "display": null,
            "flex": null,
            "flex_flow": null,
            "grid_area": null,
            "grid_auto_columns": null,
            "grid_auto_flow": null,
            "grid_auto_rows": null,
            "grid_column": null,
            "grid_gap": null,
            "grid_row": null,
            "grid_template_areas": null,
            "grid_template_columns": null,
            "grid_template_rows": null,
            "height": null,
            "justify_content": null,
            "justify_items": null,
            "left": null,
            "margin": null,
            "max_height": null,
            "max_width": null,
            "min_height": null,
            "min_width": null,
            "object_fit": null,
            "object_position": null,
            "order": null,
            "overflow": null,
            "overflow_x": null,
            "overflow_y": null,
            "padding": null,
            "right": null,
            "top": null,
            "visibility": null,
            "width": null
          }
        },
        "85d1a558f24b4b3d90de8437090c0924": {
          "model_module": "@jupyter-widgets/controls",
          "model_name": "DescriptionStyleModel",
          "model_module_version": "1.5.0",
          "state": {
            "_model_module": "@jupyter-widgets/controls",
            "_model_module_version": "1.5.0",
            "_model_name": "DescriptionStyleModel",
            "_view_count": null,
            "_view_module": "@jupyter-widgets/base",
            "_view_module_version": "1.2.0",
            "_view_name": "StyleView",
            "description_width": ""
          }
        },
        "bfa571be4b47451a8bda310563c298e1": {
          "model_module": "@jupyter-widgets/base",
          "model_name": "LayoutModel",
          "model_module_version": "1.2.0",
          "state": {
            "_model_module": "@jupyter-widgets/base",
            "_model_module_version": "1.2.0",
            "_model_name": "LayoutModel",
            "_view_count": null,
            "_view_module": "@jupyter-widgets/base",
            "_view_module_version": "1.2.0",
            "_view_name": "LayoutView",
            "align_content": null,
            "align_items": null,
            "align_self": null,
            "border": null,
            "bottom": null,
            "display": null,
            "flex": null,
            "flex_flow": null,
            "grid_area": null,
            "grid_auto_columns": null,
            "grid_auto_flow": null,
            "grid_auto_rows": null,
            "grid_column": null,
            "grid_gap": null,
            "grid_row": null,
            "grid_template_areas": null,
            "grid_template_columns": null,
            "grid_template_rows": null,
            "height": null,
            "justify_content": null,
            "justify_items": null,
            "left": null,
            "margin": null,
            "max_height": null,
            "max_width": null,
            "min_height": null,
            "min_width": null,
            "object_fit": null,
            "object_position": null,
            "order": null,
            "overflow": null,
            "overflow_x": null,
            "overflow_y": null,
            "padding": null,
            "right": null,
            "top": null,
            "visibility": null,
            "width": null
          }
        },
        "a9c7411885df43abbda9c1e904f40c85": {
          "model_module": "@jupyter-widgets/controls",
          "model_name": "ProgressStyleModel",
          "model_module_version": "1.5.0",
          "state": {
            "_model_module": "@jupyter-widgets/controls",
            "_model_module_version": "1.5.0",
            "_model_name": "ProgressStyleModel",
            "_view_count": null,
            "_view_module": "@jupyter-widgets/base",
            "_view_module_version": "1.2.0",
            "_view_name": "StyleView",
            "bar_color": null,
            "description_width": ""
          }
        },
        "4bc2e30842324db5a337f7427631cf3f": {
          "model_module": "@jupyter-widgets/base",
          "model_name": "LayoutModel",
          "model_module_version": "1.2.0",
          "state": {
            "_model_module": "@jupyter-widgets/base",
            "_model_module_version": "1.2.0",
            "_model_name": "LayoutModel",
            "_view_count": null,
            "_view_module": "@jupyter-widgets/base",
            "_view_module_version": "1.2.0",
            "_view_name": "LayoutView",
            "align_content": null,
            "align_items": null,
            "align_self": null,
            "border": null,
            "bottom": null,
            "display": null,
            "flex": null,
            "flex_flow": null,
            "grid_area": null,
            "grid_auto_columns": null,
            "grid_auto_flow": null,
            "grid_auto_rows": null,
            "grid_column": null,
            "grid_gap": null,
            "grid_row": null,
            "grid_template_areas": null,
            "grid_template_columns": null,
            "grid_template_rows": null,
            "height": null,
            "justify_content": null,
            "justify_items": null,
            "left": null,
            "margin": null,
            "max_height": null,
            "max_width": null,
            "min_height": null,
            "min_width": null,
            "object_fit": null,
            "object_position": null,
            "order": null,
            "overflow": null,
            "overflow_x": null,
            "overflow_y": null,
            "padding": null,
            "right": null,
            "top": null,
            "visibility": null,
            "width": null
          }
        },
        "a23b83cc5a794b959da57fd88ce71c64": {
          "model_module": "@jupyter-widgets/controls",
          "model_name": "DescriptionStyleModel",
          "model_module_version": "1.5.0",
          "state": {
            "_model_module": "@jupyter-widgets/controls",
            "_model_module_version": "1.5.0",
            "_model_name": "DescriptionStyleModel",
            "_view_count": null,
            "_view_module": "@jupyter-widgets/base",
            "_view_module_version": "1.2.0",
            "_view_name": "StyleView",
            "description_width": ""
          }
        },
        "0e87d0312e00428d9b4d3550c04673f9": {
          "model_module": "@jupyter-widgets/controls",
          "model_name": "HBoxModel",
          "model_module_version": "1.5.0",
          "state": {
            "_dom_classes": [],
            "_model_module": "@jupyter-widgets/controls",
            "_model_module_version": "1.5.0",
            "_model_name": "HBoxModel",
            "_view_count": null,
            "_view_module": "@jupyter-widgets/controls",
            "_view_module_version": "1.5.0",
            "_view_name": "HBoxView",
            "box_style": "",
            "children": [
              "IPY_MODEL_977017fce86545b39489c73124922f02",
              "IPY_MODEL_86d9eb4a600d403ba9d28d6d620c47d0",
              "IPY_MODEL_f7a59c1eff07478a92bc7bb5b2276a66"
            ],
            "layout": "IPY_MODEL_81d607a75cc9437cbfb2dfe21ffd9ec6"
          }
        },
        "977017fce86545b39489c73124922f02": {
          "model_module": "@jupyter-widgets/controls",
          "model_name": "HTMLModel",
          "model_module_version": "1.5.0",
          "state": {
            "_dom_classes": [],
            "_model_module": "@jupyter-widgets/controls",
            "_model_module_version": "1.5.0",
            "_model_name": "HTMLModel",
            "_view_count": null,
            "_view_module": "@jupyter-widgets/controls",
            "_view_module_version": "1.5.0",
            "_view_name": "HTMLView",
            "description": "",
            "description_tooltip": null,
            "layout": "IPY_MODEL_1b3a08dac07e453c840d1d0e08cd5b50",
            "placeholder": "​",
            "style": "IPY_MODEL_a8dfa527e8ab406eb9a50669aeadc981",
            "value": "100%"
          }
        },
        "86d9eb4a600d403ba9d28d6d620c47d0": {
          "model_module": "@jupyter-widgets/controls",
          "model_name": "FloatProgressModel",
          "model_module_version": "1.5.0",
          "state": {
            "_dom_classes": [],
            "_model_module": "@jupyter-widgets/controls",
            "_model_module_version": "1.5.0",
            "_model_name": "FloatProgressModel",
            "_view_count": null,
            "_view_module": "@jupyter-widgets/controls",
            "_view_module_version": "1.5.0",
            "_view_name": "ProgressView",
            "bar_style": "success",
            "description": "",
            "description_tooltip": null,
            "layout": "IPY_MODEL_65eeef926c5f4604aa4690f987dae539",
            "max": 5,
            "min": 0,
            "orientation": "horizontal",
            "style": "IPY_MODEL_59d6077068eb442e9c9f64c0761ff93f",
            "value": 5
          }
        },
        "f7a59c1eff07478a92bc7bb5b2276a66": {
          "model_module": "@jupyter-widgets/controls",
          "model_name": "HTMLModel",
          "model_module_version": "1.5.0",
          "state": {
            "_dom_classes": [],
            "_model_module": "@jupyter-widgets/controls",
            "_model_module_version": "1.5.0",
            "_model_name": "HTMLModel",
            "_view_count": null,
            "_view_module": "@jupyter-widgets/controls",
            "_view_module_version": "1.5.0",
            "_view_name": "HTMLView",
            "description": "",
            "description_tooltip": null,
            "layout": "IPY_MODEL_bae27089df52441fb1175e8b61322057",
            "placeholder": "​",
            "style": "IPY_MODEL_735d4687e06f4c659f7d69bcd29e16ea",
            "value": " 5/5 [00:00&lt;00:00,  9.26it/s]"
          }
        },
        "81d607a75cc9437cbfb2dfe21ffd9ec6": {
          "model_module": "@jupyter-widgets/base",
          "model_name": "LayoutModel",
          "model_module_version": "1.2.0",
          "state": {
            "_model_module": "@jupyter-widgets/base",
            "_model_module_version": "1.2.0",
            "_model_name": "LayoutModel",
            "_view_count": null,
            "_view_module": "@jupyter-widgets/base",
            "_view_module_version": "1.2.0",
            "_view_name": "LayoutView",
            "align_content": null,
            "align_items": null,
            "align_self": null,
            "border": null,
            "bottom": null,
            "display": null,
            "flex": null,
            "flex_flow": null,
            "grid_area": null,
            "grid_auto_columns": null,
            "grid_auto_flow": null,
            "grid_auto_rows": null,
            "grid_column": null,
            "grid_gap": null,
            "grid_row": null,
            "grid_template_areas": null,
            "grid_template_columns": null,
            "grid_template_rows": null,
            "height": null,
            "justify_content": null,
            "justify_items": null,
            "left": null,
            "margin": null,
            "max_height": null,
            "max_width": null,
            "min_height": null,
            "min_width": null,
            "object_fit": null,
            "object_position": null,
            "order": null,
            "overflow": null,
            "overflow_x": null,
            "overflow_y": null,
            "padding": null,
            "right": null,
            "top": null,
            "visibility": null,
            "width": null
          }
        },
        "1b3a08dac07e453c840d1d0e08cd5b50": {
          "model_module": "@jupyter-widgets/base",
          "model_name": "LayoutModel",
          "model_module_version": "1.2.0",
          "state": {
            "_model_module": "@jupyter-widgets/base",
            "_model_module_version": "1.2.0",
            "_model_name": "LayoutModel",
            "_view_count": null,
            "_view_module": "@jupyter-widgets/base",
            "_view_module_version": "1.2.0",
            "_view_name": "LayoutView",
            "align_content": null,
            "align_items": null,
            "align_self": null,
            "border": null,
            "bottom": null,
            "display": null,
            "flex": null,
            "flex_flow": null,
            "grid_area": null,
            "grid_auto_columns": null,
            "grid_auto_flow": null,
            "grid_auto_rows": null,
            "grid_column": null,
            "grid_gap": null,
            "grid_row": null,
            "grid_template_areas": null,
            "grid_template_columns": null,
            "grid_template_rows": null,
            "height": null,
            "justify_content": null,
            "justify_items": null,
            "left": null,
            "margin": null,
            "max_height": null,
            "max_width": null,
            "min_height": null,
            "min_width": null,
            "object_fit": null,
            "object_position": null,
            "order": null,
            "overflow": null,
            "overflow_x": null,
            "overflow_y": null,
            "padding": null,
            "right": null,
            "top": null,
            "visibility": null,
            "width": null
          }
        },
        "a8dfa527e8ab406eb9a50669aeadc981": {
          "model_module": "@jupyter-widgets/controls",
          "model_name": "DescriptionStyleModel",
          "model_module_version": "1.5.0",
          "state": {
            "_model_module": "@jupyter-widgets/controls",
            "_model_module_version": "1.5.0",
            "_model_name": "DescriptionStyleModel",
            "_view_count": null,
            "_view_module": "@jupyter-widgets/base",
            "_view_module_version": "1.2.0",
            "_view_name": "StyleView",
            "description_width": ""
          }
        },
        "65eeef926c5f4604aa4690f987dae539": {
          "model_module": "@jupyter-widgets/base",
          "model_name": "LayoutModel",
          "model_module_version": "1.2.0",
          "state": {
            "_model_module": "@jupyter-widgets/base",
            "_model_module_version": "1.2.0",
            "_model_name": "LayoutModel",
            "_view_count": null,
            "_view_module": "@jupyter-widgets/base",
            "_view_module_version": "1.2.0",
            "_view_name": "LayoutView",
            "align_content": null,
            "align_items": null,
            "align_self": null,
            "border": null,
            "bottom": null,
            "display": null,
            "flex": null,
            "flex_flow": null,
            "grid_area": null,
            "grid_auto_columns": null,
            "grid_auto_flow": null,
            "grid_auto_rows": null,
            "grid_column": null,
            "grid_gap": null,
            "grid_row": null,
            "grid_template_areas": null,
            "grid_template_columns": null,
            "grid_template_rows": null,
            "height": null,
            "justify_content": null,
            "justify_items": null,
            "left": null,
            "margin": null,
            "max_height": null,
            "max_width": null,
            "min_height": null,
            "min_width": null,
            "object_fit": null,
            "object_position": null,
            "order": null,
            "overflow": null,
            "overflow_x": null,
            "overflow_y": null,
            "padding": null,
            "right": null,
            "top": null,
            "visibility": null,
            "width": null
          }
        },
        "59d6077068eb442e9c9f64c0761ff93f": {
          "model_module": "@jupyter-widgets/controls",
          "model_name": "ProgressStyleModel",
          "model_module_version": "1.5.0",
          "state": {
            "_model_module": "@jupyter-widgets/controls",
            "_model_module_version": "1.5.0",
            "_model_name": "ProgressStyleModel",
            "_view_count": null,
            "_view_module": "@jupyter-widgets/base",
            "_view_module_version": "1.2.0",
            "_view_name": "StyleView",
            "bar_color": null,
            "description_width": ""
          }
        },
        "bae27089df52441fb1175e8b61322057": {
          "model_module": "@jupyter-widgets/base",
          "model_name": "LayoutModel",
          "model_module_version": "1.2.0",
          "state": {
            "_model_module": "@jupyter-widgets/base",
            "_model_module_version": "1.2.0",
            "_model_name": "LayoutModel",
            "_view_count": null,
            "_view_module": "@jupyter-widgets/base",
            "_view_module_version": "1.2.0",
            "_view_name": "LayoutView",
            "align_content": null,
            "align_items": null,
            "align_self": null,
            "border": null,
            "bottom": null,
            "display": null,
            "flex": null,
            "flex_flow": null,
            "grid_area": null,
            "grid_auto_columns": null,
            "grid_auto_flow": null,
            "grid_auto_rows": null,
            "grid_column": null,
            "grid_gap": null,
            "grid_row": null,
            "grid_template_areas": null,
            "grid_template_columns": null,
            "grid_template_rows": null,
            "height": null,
            "justify_content": null,
            "justify_items": null,
            "left": null,
            "margin": null,
            "max_height": null,
            "max_width": null,
            "min_height": null,
            "min_width": null,
            "object_fit": null,
            "object_position": null,
            "order": null,
            "overflow": null,
            "overflow_x": null,
            "overflow_y": null,
            "padding": null,
            "right": null,
            "top": null,
            "visibility": null,
            "width": null
          }
        },
        "735d4687e06f4c659f7d69bcd29e16ea": {
          "model_module": "@jupyter-widgets/controls",
          "model_name": "DescriptionStyleModel",
          "model_module_version": "1.5.0",
          "state": {
            "_model_module": "@jupyter-widgets/controls",
            "_model_module_version": "1.5.0",
            "_model_name": "DescriptionStyleModel",
            "_view_count": null,
            "_view_module": "@jupyter-widgets/base",
            "_view_module_version": "1.2.0",
            "_view_name": "StyleView",
            "description_width": ""
          }
        },
        "271b7ff00b9841e2800a63aee861fb1c": {
          "model_module": "@jupyter-widgets/controls",
          "model_name": "HBoxModel",
          "model_module_version": "1.5.0",
          "state": {
            "_dom_classes": [],
            "_model_module": "@jupyter-widgets/controls",
            "_model_module_version": "1.5.0",
            "_model_name": "HBoxModel",
            "_view_count": null,
            "_view_module": "@jupyter-widgets/controls",
            "_view_module_version": "1.5.0",
            "_view_name": "HBoxView",
            "box_style": "",
            "children": [
              "IPY_MODEL_973f0fb52eb14409bbe0e3b3dca65d64",
              "IPY_MODEL_1cf3bf3aea8949f88398b87beade8f68",
              "IPY_MODEL_438e81eb47954539b40d4a07ed1cc379"
            ],
            "layout": "IPY_MODEL_d379cb3b74a24abba632bef3ee6f1530"
          }
        },
        "973f0fb52eb14409bbe0e3b3dca65d64": {
          "model_module": "@jupyter-widgets/controls",
          "model_name": "HTMLModel",
          "model_module_version": "1.5.0",
          "state": {
            "_dom_classes": [],
            "_model_module": "@jupyter-widgets/controls",
            "_model_module_version": "1.5.0",
            "_model_name": "HTMLModel",
            "_view_count": null,
            "_view_module": "@jupyter-widgets/controls",
            "_view_module_version": "1.5.0",
            "_view_name": "HTMLView",
            "description": "",
            "description_tooltip": null,
            "layout": "IPY_MODEL_0a78aefe7b754c53a089603ad17de1c4",
            "placeholder": "​",
            "style": "IPY_MODEL_fedc0f5f006341dbab4a21e117d4af9c",
            "value": "100%"
          }
        },
        "1cf3bf3aea8949f88398b87beade8f68": {
          "model_module": "@jupyter-widgets/controls",
          "model_name": "FloatProgressModel",
          "model_module_version": "1.5.0",
          "state": {
            "_dom_classes": [],
            "_model_module": "@jupyter-widgets/controls",
            "_model_module_version": "1.5.0",
            "_model_name": "FloatProgressModel",
            "_view_count": null,
            "_view_module": "@jupyter-widgets/controls",
            "_view_module_version": "1.5.0",
            "_view_name": "ProgressView",
            "bar_style": "success",
            "description": "",
            "description_tooltip": null,
            "layout": "IPY_MODEL_d7862b909d534765acf62be1f6592fcd",
            "max": 64473,
            "min": 0,
            "orientation": "horizontal",
            "style": "IPY_MODEL_2b644821c89a4957ac2d5108c8231430",
            "value": 64473
          }
        },
        "438e81eb47954539b40d4a07ed1cc379": {
          "model_module": "@jupyter-widgets/controls",
          "model_name": "HTMLModel",
          "model_module_version": "1.5.0",
          "state": {
            "_dom_classes": [],
            "_model_module": "@jupyter-widgets/controls",
            "_model_module_version": "1.5.0",
            "_model_name": "HTMLModel",
            "_view_count": null,
            "_view_module": "@jupyter-widgets/controls",
            "_view_module_version": "1.5.0",
            "_view_name": "HTMLView",
            "description": "",
            "description_tooltip": null,
            "layout": "IPY_MODEL_b749a24202934cd5b77b6d9aaed2b340",
            "placeholder": "​",
            "style": "IPY_MODEL_a51fdafa58e1461a8b9615c38ebb440b",
            "value": " 64473/64473 [00:25&lt;00:00, 3393.15it/s]"
          }
        },
        "d379cb3b74a24abba632bef3ee6f1530": {
          "model_module": "@jupyter-widgets/base",
          "model_name": "LayoutModel",
          "model_module_version": "1.2.0",
          "state": {
            "_model_module": "@jupyter-widgets/base",
            "_model_module_version": "1.2.0",
            "_model_name": "LayoutModel",
            "_view_count": null,
            "_view_module": "@jupyter-widgets/base",
            "_view_module_version": "1.2.0",
            "_view_name": "LayoutView",
            "align_content": null,
            "align_items": null,
            "align_self": null,
            "border": null,
            "bottom": null,
            "display": null,
            "flex": null,
            "flex_flow": null,
            "grid_area": null,
            "grid_auto_columns": null,
            "grid_auto_flow": null,
            "grid_auto_rows": null,
            "grid_column": null,
            "grid_gap": null,
            "grid_row": null,
            "grid_template_areas": null,
            "grid_template_columns": null,
            "grid_template_rows": null,
            "height": null,
            "justify_content": null,
            "justify_items": null,
            "left": null,
            "margin": null,
            "max_height": null,
            "max_width": null,
            "min_height": null,
            "min_width": null,
            "object_fit": null,
            "object_position": null,
            "order": null,
            "overflow": null,
            "overflow_x": null,
            "overflow_y": null,
            "padding": null,
            "right": null,
            "top": null,
            "visibility": null,
            "width": null
          }
        },
        "0a78aefe7b754c53a089603ad17de1c4": {
          "model_module": "@jupyter-widgets/base",
          "model_name": "LayoutModel",
          "model_module_version": "1.2.0",
          "state": {
            "_model_module": "@jupyter-widgets/base",
            "_model_module_version": "1.2.0",
            "_model_name": "LayoutModel",
            "_view_count": null,
            "_view_module": "@jupyter-widgets/base",
            "_view_module_version": "1.2.0",
            "_view_name": "LayoutView",
            "align_content": null,
            "align_items": null,
            "align_self": null,
            "border": null,
            "bottom": null,
            "display": null,
            "flex": null,
            "flex_flow": null,
            "grid_area": null,
            "grid_auto_columns": null,
            "grid_auto_flow": null,
            "grid_auto_rows": null,
            "grid_column": null,
            "grid_gap": null,
            "grid_row": null,
            "grid_template_areas": null,
            "grid_template_columns": null,
            "grid_template_rows": null,
            "height": null,
            "justify_content": null,
            "justify_items": null,
            "left": null,
            "margin": null,
            "max_height": null,
            "max_width": null,
            "min_height": null,
            "min_width": null,
            "object_fit": null,
            "object_position": null,
            "order": null,
            "overflow": null,
            "overflow_x": null,
            "overflow_y": null,
            "padding": null,
            "right": null,
            "top": null,
            "visibility": null,
            "width": null
          }
        },
        "fedc0f5f006341dbab4a21e117d4af9c": {
          "model_module": "@jupyter-widgets/controls",
          "model_name": "DescriptionStyleModel",
          "model_module_version": "1.5.0",
          "state": {
            "_model_module": "@jupyter-widgets/controls",
            "_model_module_version": "1.5.0",
            "_model_name": "DescriptionStyleModel",
            "_view_count": null,
            "_view_module": "@jupyter-widgets/base",
            "_view_module_version": "1.2.0",
            "_view_name": "StyleView",
            "description_width": ""
          }
        },
        "d7862b909d534765acf62be1f6592fcd": {
          "model_module": "@jupyter-widgets/base",
          "model_name": "LayoutModel",
          "model_module_version": "1.2.0",
          "state": {
            "_model_module": "@jupyter-widgets/base",
            "_model_module_version": "1.2.0",
            "_model_name": "LayoutModel",
            "_view_count": null,
            "_view_module": "@jupyter-widgets/base",
            "_view_module_version": "1.2.0",
            "_view_name": "LayoutView",
            "align_content": null,
            "align_items": null,
            "align_self": null,
            "border": null,
            "bottom": null,
            "display": null,
            "flex": null,
            "flex_flow": null,
            "grid_area": null,
            "grid_auto_columns": null,
            "grid_auto_flow": null,
            "grid_auto_rows": null,
            "grid_column": null,
            "grid_gap": null,
            "grid_row": null,
            "grid_template_areas": null,
            "grid_template_columns": null,
            "grid_template_rows": null,
            "height": null,
            "justify_content": null,
            "justify_items": null,
            "left": null,
            "margin": null,
            "max_height": null,
            "max_width": null,
            "min_height": null,
            "min_width": null,
            "object_fit": null,
            "object_position": null,
            "order": null,
            "overflow": null,
            "overflow_x": null,
            "overflow_y": null,
            "padding": null,
            "right": null,
            "top": null,
            "visibility": null,
            "width": null
          }
        },
        "2b644821c89a4957ac2d5108c8231430": {
          "model_module": "@jupyter-widgets/controls",
          "model_name": "ProgressStyleModel",
          "model_module_version": "1.5.0",
          "state": {
            "_model_module": "@jupyter-widgets/controls",
            "_model_module_version": "1.5.0",
            "_model_name": "ProgressStyleModel",
            "_view_count": null,
            "_view_module": "@jupyter-widgets/base",
            "_view_module_version": "1.2.0",
            "_view_name": "StyleView",
            "bar_color": null,
            "description_width": ""
          }
        },
        "b749a24202934cd5b77b6d9aaed2b340": {
          "model_module": "@jupyter-widgets/base",
          "model_name": "LayoutModel",
          "model_module_version": "1.2.0",
          "state": {
            "_model_module": "@jupyter-widgets/base",
            "_model_module_version": "1.2.0",
            "_model_name": "LayoutModel",
            "_view_count": null,
            "_view_module": "@jupyter-widgets/base",
            "_view_module_version": "1.2.0",
            "_view_name": "LayoutView",
            "align_content": null,
            "align_items": null,
            "align_self": null,
            "border": null,
            "bottom": null,
            "display": null,
            "flex": null,
            "flex_flow": null,
            "grid_area": null,
            "grid_auto_columns": null,
            "grid_auto_flow": null,
            "grid_auto_rows": null,
            "grid_column": null,
            "grid_gap": null,
            "grid_row": null,
            "grid_template_areas": null,
            "grid_template_columns": null,
            "grid_template_rows": null,
            "height": null,
            "justify_content": null,
            "justify_items": null,
            "left": null,
            "margin": null,
            "max_height": null,
            "max_width": null,
            "min_height": null,
            "min_width": null,
            "object_fit": null,
            "object_position": null,
            "order": null,
            "overflow": null,
            "overflow_x": null,
            "overflow_y": null,
            "padding": null,
            "right": null,
            "top": null,
            "visibility": null,
            "width": null
          }
        },
        "a51fdafa58e1461a8b9615c38ebb440b": {
          "model_module": "@jupyter-widgets/controls",
          "model_name": "DescriptionStyleModel",
          "model_module_version": "1.5.0",
          "state": {
            "_model_module": "@jupyter-widgets/controls",
            "_model_module_version": "1.5.0",
            "_model_name": "DescriptionStyleModel",
            "_view_count": null,
            "_view_module": "@jupyter-widgets/base",
            "_view_module_version": "1.2.0",
            "_view_name": "StyleView",
            "description_width": ""
          }
        },
        "83e2a088f53d482da22c95ef7a7a1132": {
          "model_module": "@jupyter-widgets/controls",
          "model_name": "HBoxModel",
          "model_module_version": "1.5.0",
          "state": {
            "_dom_classes": [],
            "_model_module": "@jupyter-widgets/controls",
            "_model_module_version": "1.5.0",
            "_model_name": "HBoxModel",
            "_view_count": null,
            "_view_module": "@jupyter-widgets/controls",
            "_view_module_version": "1.5.0",
            "_view_name": "HBoxView",
            "box_style": "",
            "children": [
              "IPY_MODEL_3865b589547547b69709b67e8653b5a0",
              "IPY_MODEL_eeb1c2b767634a1aafa5bd2a6dffa269",
              "IPY_MODEL_3481e475340e43779133438fe71d0f71"
            ],
            "layout": "IPY_MODEL_515f738fded34f9a90400f20f443510c"
          }
        },
        "3865b589547547b69709b67e8653b5a0": {
          "model_module": "@jupyter-widgets/controls",
          "model_name": "HTMLModel",
          "model_module_version": "1.5.0",
          "state": {
            "_dom_classes": [],
            "_model_module": "@jupyter-widgets/controls",
            "_model_module_version": "1.5.0",
            "_model_name": "HTMLModel",
            "_view_count": null,
            "_view_module": "@jupyter-widgets/controls",
            "_view_module_version": "1.5.0",
            "_view_name": "HTMLView",
            "description": "",
            "description_tooltip": null,
            "layout": "IPY_MODEL_3ac7ba04ba57444fb72229a777addd63",
            "placeholder": "​",
            "style": "IPY_MODEL_cbb222f29f3e47a499236e85d5350a14",
            "value": "100%"
          }
        },
        "eeb1c2b767634a1aafa5bd2a6dffa269": {
          "model_module": "@jupyter-widgets/controls",
          "model_name": "FloatProgressModel",
          "model_module_version": "1.5.0",
          "state": {
            "_dom_classes": [],
            "_model_module": "@jupyter-widgets/controls",
            "_model_module_version": "1.5.0",
            "_model_name": "FloatProgressModel",
            "_view_count": null,
            "_view_module": "@jupyter-widgets/controls",
            "_view_module_version": "1.5.0",
            "_view_name": "ProgressView",
            "bar_style": "success",
            "description": "",
            "description_tooltip": null,
            "layout": "IPY_MODEL_a82aa4be3a0f4061a49a0e0c79ba6910",
            "max": 64454,
            "min": 0,
            "orientation": "horizontal",
            "style": "IPY_MODEL_2498439822564e72bc65ed11309d9948",
            "value": 64454
          }
        },
        "3481e475340e43779133438fe71d0f71": {
          "model_module": "@jupyter-widgets/controls",
          "model_name": "HTMLModel",
          "model_module_version": "1.5.0",
          "state": {
            "_dom_classes": [],
            "_model_module": "@jupyter-widgets/controls",
            "_model_module_version": "1.5.0",
            "_model_name": "HTMLModel",
            "_view_count": null,
            "_view_module": "@jupyter-widgets/controls",
            "_view_module_version": "1.5.0",
            "_view_name": "HTMLView",
            "description": "",
            "description_tooltip": null,
            "layout": "IPY_MODEL_02946caa812e48f5b91a2b3a164a5407",
            "placeholder": "​",
            "style": "IPY_MODEL_e24c864c17094128a88d70b4566901ab",
            "value": " 64454/64454 [00:02&lt;00:00, 31534.23it/s]"
          }
        },
        "515f738fded34f9a90400f20f443510c": {
          "model_module": "@jupyter-widgets/base",
          "model_name": "LayoutModel",
          "model_module_version": "1.2.0",
          "state": {
            "_model_module": "@jupyter-widgets/base",
            "_model_module_version": "1.2.0",
            "_model_name": "LayoutModel",
            "_view_count": null,
            "_view_module": "@jupyter-widgets/base",
            "_view_module_version": "1.2.0",
            "_view_name": "LayoutView",
            "align_content": null,
            "align_items": null,
            "align_self": null,
            "border": null,
            "bottom": null,
            "display": null,
            "flex": null,
            "flex_flow": null,
            "grid_area": null,
            "grid_auto_columns": null,
            "grid_auto_flow": null,
            "grid_auto_rows": null,
            "grid_column": null,
            "grid_gap": null,
            "grid_row": null,
            "grid_template_areas": null,
            "grid_template_columns": null,
            "grid_template_rows": null,
            "height": null,
            "justify_content": null,
            "justify_items": null,
            "left": null,
            "margin": null,
            "max_height": null,
            "max_width": null,
            "min_height": null,
            "min_width": null,
            "object_fit": null,
            "object_position": null,
            "order": null,
            "overflow": null,
            "overflow_x": null,
            "overflow_y": null,
            "padding": null,
            "right": null,
            "top": null,
            "visibility": null,
            "width": null
          }
        },
        "3ac7ba04ba57444fb72229a777addd63": {
          "model_module": "@jupyter-widgets/base",
          "model_name": "LayoutModel",
          "model_module_version": "1.2.0",
          "state": {
            "_model_module": "@jupyter-widgets/base",
            "_model_module_version": "1.2.0",
            "_model_name": "LayoutModel",
            "_view_count": null,
            "_view_module": "@jupyter-widgets/base",
            "_view_module_version": "1.2.0",
            "_view_name": "LayoutView",
            "align_content": null,
            "align_items": null,
            "align_self": null,
            "border": null,
            "bottom": null,
            "display": null,
            "flex": null,
            "flex_flow": null,
            "grid_area": null,
            "grid_auto_columns": null,
            "grid_auto_flow": null,
            "grid_auto_rows": null,
            "grid_column": null,
            "grid_gap": null,
            "grid_row": null,
            "grid_template_areas": null,
            "grid_template_columns": null,
            "grid_template_rows": null,
            "height": null,
            "justify_content": null,
            "justify_items": null,
            "left": null,
            "margin": null,
            "max_height": null,
            "max_width": null,
            "min_height": null,
            "min_width": null,
            "object_fit": null,
            "object_position": null,
            "order": null,
            "overflow": null,
            "overflow_x": null,
            "overflow_y": null,
            "padding": null,
            "right": null,
            "top": null,
            "visibility": null,
            "width": null
          }
        },
        "cbb222f29f3e47a499236e85d5350a14": {
          "model_module": "@jupyter-widgets/controls",
          "model_name": "DescriptionStyleModel",
          "model_module_version": "1.5.0",
          "state": {
            "_model_module": "@jupyter-widgets/controls",
            "_model_module_version": "1.5.0",
            "_model_name": "DescriptionStyleModel",
            "_view_count": null,
            "_view_module": "@jupyter-widgets/base",
            "_view_module_version": "1.2.0",
            "_view_name": "StyleView",
            "description_width": ""
          }
        },
        "a82aa4be3a0f4061a49a0e0c79ba6910": {
          "model_module": "@jupyter-widgets/base",
          "model_name": "LayoutModel",
          "model_module_version": "1.2.0",
          "state": {
            "_model_module": "@jupyter-widgets/base",
            "_model_module_version": "1.2.0",
            "_model_name": "LayoutModel",
            "_view_count": null,
            "_view_module": "@jupyter-widgets/base",
            "_view_module_version": "1.2.0",
            "_view_name": "LayoutView",
            "align_content": null,
            "align_items": null,
            "align_self": null,
            "border": null,
            "bottom": null,
            "display": null,
            "flex": null,
            "flex_flow": null,
            "grid_area": null,
            "grid_auto_columns": null,
            "grid_auto_flow": null,
            "grid_auto_rows": null,
            "grid_column": null,
            "grid_gap": null,
            "grid_row": null,
            "grid_template_areas": null,
            "grid_template_columns": null,
            "grid_template_rows": null,
            "height": null,
            "justify_content": null,
            "justify_items": null,
            "left": null,
            "margin": null,
            "max_height": null,
            "max_width": null,
            "min_height": null,
            "min_width": null,
            "object_fit": null,
            "object_position": null,
            "order": null,
            "overflow": null,
            "overflow_x": null,
            "overflow_y": null,
            "padding": null,
            "right": null,
            "top": null,
            "visibility": null,
            "width": null
          }
        },
        "2498439822564e72bc65ed11309d9948": {
          "model_module": "@jupyter-widgets/controls",
          "model_name": "ProgressStyleModel",
          "model_module_version": "1.5.0",
          "state": {
            "_model_module": "@jupyter-widgets/controls",
            "_model_module_version": "1.5.0",
            "_model_name": "ProgressStyleModel",
            "_view_count": null,
            "_view_module": "@jupyter-widgets/base",
            "_view_module_version": "1.2.0",
            "_view_name": "StyleView",
            "bar_color": null,
            "description_width": ""
          }
        },
        "02946caa812e48f5b91a2b3a164a5407": {
          "model_module": "@jupyter-widgets/base",
          "model_name": "LayoutModel",
          "model_module_version": "1.2.0",
          "state": {
            "_model_module": "@jupyter-widgets/base",
            "_model_module_version": "1.2.0",
            "_model_name": "LayoutModel",
            "_view_count": null,
            "_view_module": "@jupyter-widgets/base",
            "_view_module_version": "1.2.0",
            "_view_name": "LayoutView",
            "align_content": null,
            "align_items": null,
            "align_self": null,
            "border": null,
            "bottom": null,
            "display": null,
            "flex": null,
            "flex_flow": null,
            "grid_area": null,
            "grid_auto_columns": null,
            "grid_auto_flow": null,
            "grid_auto_rows": null,
            "grid_column": null,
            "grid_gap": null,
            "grid_row": null,
            "grid_template_areas": null,
            "grid_template_columns": null,
            "grid_template_rows": null,
            "height": null,
            "justify_content": null,
            "justify_items": null,
            "left": null,
            "margin": null,
            "max_height": null,
            "max_width": null,
            "min_height": null,
            "min_width": null,
            "object_fit": null,
            "object_position": null,
            "order": null,
            "overflow": null,
            "overflow_x": null,
            "overflow_y": null,
            "padding": null,
            "right": null,
            "top": null,
            "visibility": null,
            "width": null
          }
        },
        "e24c864c17094128a88d70b4566901ab": {
          "model_module": "@jupyter-widgets/controls",
          "model_name": "DescriptionStyleModel",
          "model_module_version": "1.5.0",
          "state": {
            "_model_module": "@jupyter-widgets/controls",
            "_model_module_version": "1.5.0",
            "_model_name": "DescriptionStyleModel",
            "_view_count": null,
            "_view_module": "@jupyter-widgets/base",
            "_view_module_version": "1.2.0",
            "_view_name": "StyleView",
            "description_width": ""
          }
        },
        "8f900fdf1fef4d578ec2988b071e5aae": {
          "model_module": "@jupyter-widgets/controls",
          "model_name": "HBoxModel",
          "model_module_version": "1.5.0",
          "state": {
            "_dom_classes": [],
            "_model_module": "@jupyter-widgets/controls",
            "_model_module_version": "1.5.0",
            "_model_name": "HBoxModel",
            "_view_count": null,
            "_view_module": "@jupyter-widgets/controls",
            "_view_module_version": "1.5.0",
            "_view_name": "HBoxView",
            "box_style": "",
            "children": [
              "IPY_MODEL_9188ef89315d40b68ba82c967236e528",
              "IPY_MODEL_c7051a71278b4c058902062ffd01a4f1",
              "IPY_MODEL_a4d53810fa0c4321a78b2f728527291d"
            ],
            "layout": "IPY_MODEL_b3a764d949c84bafab804002cff792c4"
          }
        },
        "9188ef89315d40b68ba82c967236e528": {
          "model_module": "@jupyter-widgets/controls",
          "model_name": "HTMLModel",
          "model_module_version": "1.5.0",
          "state": {
            "_dom_classes": [],
            "_model_module": "@jupyter-widgets/controls",
            "_model_module_version": "1.5.0",
            "_model_name": "HTMLModel",
            "_view_count": null,
            "_view_module": "@jupyter-widgets/controls",
            "_view_module_version": "1.5.0",
            "_view_name": "HTMLView",
            "description": "",
            "description_tooltip": null,
            "layout": "IPY_MODEL_99cba4e1de6741c6bf97b802e399e618",
            "placeholder": "​",
            "style": "IPY_MODEL_eb14cdae342c4f22acd43e89fdfab2b8",
            "value": "100%"
          }
        },
        "c7051a71278b4c058902062ffd01a4f1": {
          "model_module": "@jupyter-widgets/controls",
          "model_name": "FloatProgressModel",
          "model_module_version": "1.5.0",
          "state": {
            "_dom_classes": [],
            "_model_module": "@jupyter-widgets/controls",
            "_model_module_version": "1.5.0",
            "_model_name": "FloatProgressModel",
            "_view_count": null,
            "_view_module": "@jupyter-widgets/controls",
            "_view_module_version": "1.5.0",
            "_view_name": "ProgressView",
            "bar_style": "success",
            "description": "",
            "description_tooltip": null,
            "layout": "IPY_MODEL_e53ae67612ec47e489aac1a69a858041",
            "max": 64454,
            "min": 0,
            "orientation": "horizontal",
            "style": "IPY_MODEL_623036a197a14fc49b16905ecb7109ad",
            "value": 64454
          }
        },
        "a4d53810fa0c4321a78b2f728527291d": {
          "model_module": "@jupyter-widgets/controls",
          "model_name": "HTMLModel",
          "model_module_version": "1.5.0",
          "state": {
            "_dom_classes": [],
            "_model_module": "@jupyter-widgets/controls",
            "_model_module_version": "1.5.0",
            "_model_name": "HTMLModel",
            "_view_count": null,
            "_view_module": "@jupyter-widgets/controls",
            "_view_module_version": "1.5.0",
            "_view_name": "HTMLView",
            "description": "",
            "description_tooltip": null,
            "layout": "IPY_MODEL_f73659ef7264417996ef427275c71479",
            "placeholder": "​",
            "style": "IPY_MODEL_0435bf2b052d4fdb8d0a10453e5a65fa",
            "value": " 64454/64454 [03:13&lt;00:00, 368.13it/s]"
          }
        },
        "b3a764d949c84bafab804002cff792c4": {
          "model_module": "@jupyter-widgets/base",
          "model_name": "LayoutModel",
          "model_module_version": "1.2.0",
          "state": {
            "_model_module": "@jupyter-widgets/base",
            "_model_module_version": "1.2.0",
            "_model_name": "LayoutModel",
            "_view_count": null,
            "_view_module": "@jupyter-widgets/base",
            "_view_module_version": "1.2.0",
            "_view_name": "LayoutView",
            "align_content": null,
            "align_items": null,
            "align_self": null,
            "border": null,
            "bottom": null,
            "display": null,
            "flex": null,
            "flex_flow": null,
            "grid_area": null,
            "grid_auto_columns": null,
            "grid_auto_flow": null,
            "grid_auto_rows": null,
            "grid_column": null,
            "grid_gap": null,
            "grid_row": null,
            "grid_template_areas": null,
            "grid_template_columns": null,
            "grid_template_rows": null,
            "height": null,
            "justify_content": null,
            "justify_items": null,
            "left": null,
            "margin": null,
            "max_height": null,
            "max_width": null,
            "min_height": null,
            "min_width": null,
            "object_fit": null,
            "object_position": null,
            "order": null,
            "overflow": null,
            "overflow_x": null,
            "overflow_y": null,
            "padding": null,
            "right": null,
            "top": null,
            "visibility": null,
            "width": null
          }
        },
        "99cba4e1de6741c6bf97b802e399e618": {
          "model_module": "@jupyter-widgets/base",
          "model_name": "LayoutModel",
          "model_module_version": "1.2.0",
          "state": {
            "_model_module": "@jupyter-widgets/base",
            "_model_module_version": "1.2.0",
            "_model_name": "LayoutModel",
            "_view_count": null,
            "_view_module": "@jupyter-widgets/base",
            "_view_module_version": "1.2.0",
            "_view_name": "LayoutView",
            "align_content": null,
            "align_items": null,
            "align_self": null,
            "border": null,
            "bottom": null,
            "display": null,
            "flex": null,
            "flex_flow": null,
            "grid_area": null,
            "grid_auto_columns": null,
            "grid_auto_flow": null,
            "grid_auto_rows": null,
            "grid_column": null,
            "grid_gap": null,
            "grid_row": null,
            "grid_template_areas": null,
            "grid_template_columns": null,
            "grid_template_rows": null,
            "height": null,
            "justify_content": null,
            "justify_items": null,
            "left": null,
            "margin": null,
            "max_height": null,
            "max_width": null,
            "min_height": null,
            "min_width": null,
            "object_fit": null,
            "object_position": null,
            "order": null,
            "overflow": null,
            "overflow_x": null,
            "overflow_y": null,
            "padding": null,
            "right": null,
            "top": null,
            "visibility": null,
            "width": null
          }
        },
        "eb14cdae342c4f22acd43e89fdfab2b8": {
          "model_module": "@jupyter-widgets/controls",
          "model_name": "DescriptionStyleModel",
          "model_module_version": "1.5.0",
          "state": {
            "_model_module": "@jupyter-widgets/controls",
            "_model_module_version": "1.5.0",
            "_model_name": "DescriptionStyleModel",
            "_view_count": null,
            "_view_module": "@jupyter-widgets/base",
            "_view_module_version": "1.2.0",
            "_view_name": "StyleView",
            "description_width": ""
          }
        },
        "e53ae67612ec47e489aac1a69a858041": {
          "model_module": "@jupyter-widgets/base",
          "model_name": "LayoutModel",
          "model_module_version": "1.2.0",
          "state": {
            "_model_module": "@jupyter-widgets/base",
            "_model_module_version": "1.2.0",
            "_model_name": "LayoutModel",
            "_view_count": null,
            "_view_module": "@jupyter-widgets/base",
            "_view_module_version": "1.2.0",
            "_view_name": "LayoutView",
            "align_content": null,
            "align_items": null,
            "align_self": null,
            "border": null,
            "bottom": null,
            "display": null,
            "flex": null,
            "flex_flow": null,
            "grid_area": null,
            "grid_auto_columns": null,
            "grid_auto_flow": null,
            "grid_auto_rows": null,
            "grid_column": null,
            "grid_gap": null,
            "grid_row": null,
            "grid_template_areas": null,
            "grid_template_columns": null,
            "grid_template_rows": null,
            "height": null,
            "justify_content": null,
            "justify_items": null,
            "left": null,
            "margin": null,
            "max_height": null,
            "max_width": null,
            "min_height": null,
            "min_width": null,
            "object_fit": null,
            "object_position": null,
            "order": null,
            "overflow": null,
            "overflow_x": null,
            "overflow_y": null,
            "padding": null,
            "right": null,
            "top": null,
            "visibility": null,
            "width": null
          }
        },
        "623036a197a14fc49b16905ecb7109ad": {
          "model_module": "@jupyter-widgets/controls",
          "model_name": "ProgressStyleModel",
          "model_module_version": "1.5.0",
          "state": {
            "_model_module": "@jupyter-widgets/controls",
            "_model_module_version": "1.5.0",
            "_model_name": "ProgressStyleModel",
            "_view_count": null,
            "_view_module": "@jupyter-widgets/base",
            "_view_module_version": "1.2.0",
            "_view_name": "StyleView",
            "bar_color": null,
            "description_width": ""
          }
        },
        "f73659ef7264417996ef427275c71479": {
          "model_module": "@jupyter-widgets/base",
          "model_name": "LayoutModel",
          "model_module_version": "1.2.0",
          "state": {
            "_model_module": "@jupyter-widgets/base",
            "_model_module_version": "1.2.0",
            "_model_name": "LayoutModel",
            "_view_count": null,
            "_view_module": "@jupyter-widgets/base",
            "_view_module_version": "1.2.0",
            "_view_name": "LayoutView",
            "align_content": null,
            "align_items": null,
            "align_self": null,
            "border": null,
            "bottom": null,
            "display": null,
            "flex": null,
            "flex_flow": null,
            "grid_area": null,
            "grid_auto_columns": null,
            "grid_auto_flow": null,
            "grid_auto_rows": null,
            "grid_column": null,
            "grid_gap": null,
            "grid_row": null,
            "grid_template_areas": null,
            "grid_template_columns": null,
            "grid_template_rows": null,
            "height": null,
            "justify_content": null,
            "justify_items": null,
            "left": null,
            "margin": null,
            "max_height": null,
            "max_width": null,
            "min_height": null,
            "min_width": null,
            "object_fit": null,
            "object_position": null,
            "order": null,
            "overflow": null,
            "overflow_x": null,
            "overflow_y": null,
            "padding": null,
            "right": null,
            "top": null,
            "visibility": null,
            "width": null
          }
        },
        "0435bf2b052d4fdb8d0a10453e5a65fa": {
          "model_module": "@jupyter-widgets/controls",
          "model_name": "DescriptionStyleModel",
          "model_module_version": "1.5.0",
          "state": {
            "_model_module": "@jupyter-widgets/controls",
            "_model_module_version": "1.5.0",
            "_model_name": "DescriptionStyleModel",
            "_view_count": null,
            "_view_module": "@jupyter-widgets/base",
            "_view_module_version": "1.2.0",
            "_view_name": "StyleView",
            "description_width": ""
          }
        },
        "aac2031343964883946eabb60c23e84c": {
          "model_module": "@jupyter-widgets/controls",
          "model_name": "HBoxModel",
          "model_module_version": "1.5.0",
          "state": {
            "_dom_classes": [],
            "_model_module": "@jupyter-widgets/controls",
            "_model_module_version": "1.5.0",
            "_model_name": "HBoxModel",
            "_view_count": null,
            "_view_module": "@jupyter-widgets/controls",
            "_view_module_version": "1.5.0",
            "_view_name": "HBoxView",
            "box_style": "",
            "children": [
              "IPY_MODEL_068b61f17c274de3be70200c90b52da5",
              "IPY_MODEL_d3d5e0e0bc184bbbbf519f58c8b6d51d",
              "IPY_MODEL_5b092537b1d84eb697a7330d2bedcb70"
            ],
            "layout": "IPY_MODEL_1b4a63e1845d4fcca7fb213c36482b7d"
          }
        },
        "068b61f17c274de3be70200c90b52da5": {
          "model_module": "@jupyter-widgets/controls",
          "model_name": "HTMLModel",
          "model_module_version": "1.5.0",
          "state": {
            "_dom_classes": [],
            "_model_module": "@jupyter-widgets/controls",
            "_model_module_version": "1.5.0",
            "_model_name": "HTMLModel",
            "_view_count": null,
            "_view_module": "@jupyter-widgets/controls",
            "_view_module_version": "1.5.0",
            "_view_name": "HTMLView",
            "description": "",
            "description_tooltip": null,
            "layout": "IPY_MODEL_0865fc48f9c54519ab7e4467798d18cf",
            "placeholder": "​",
            "style": "IPY_MODEL_36167d87a4004ea9bd5983675ee5ad36",
            "value": "100%"
          }
        },
        "d3d5e0e0bc184bbbbf519f58c8b6d51d": {
          "model_module": "@jupyter-widgets/controls",
          "model_name": "FloatProgressModel",
          "model_module_version": "1.5.0",
          "state": {
            "_dom_classes": [],
            "_model_module": "@jupyter-widgets/controls",
            "_model_module_version": "1.5.0",
            "_model_name": "FloatProgressModel",
            "_view_count": null,
            "_view_module": "@jupyter-widgets/controls",
            "_view_module_version": "1.5.0",
            "_view_name": "ProgressView",
            "bar_style": "success",
            "description": "",
            "description_tooltip": null,
            "layout": "IPY_MODEL_de19d43ef18143e3a6cc6728bb60b69a",
            "max": 407,
            "min": 0,
            "orientation": "horizontal",
            "style": "IPY_MODEL_be0c4e56f5af45f4b2edf150ddd3677f",
            "value": 407
          }
        },
        "5b092537b1d84eb697a7330d2bedcb70": {
          "model_module": "@jupyter-widgets/controls",
          "model_name": "HTMLModel",
          "model_module_version": "1.5.0",
          "state": {
            "_dom_classes": [],
            "_model_module": "@jupyter-widgets/controls",
            "_model_module_version": "1.5.0",
            "_model_name": "HTMLModel",
            "_view_count": null,
            "_view_module": "@jupyter-widgets/controls",
            "_view_module_version": "1.5.0",
            "_view_name": "HTMLView",
            "description": "",
            "description_tooltip": null,
            "layout": "IPY_MODEL_4b04e07cf75c47598d2edf156cbb4954",
            "placeholder": "​",
            "style": "IPY_MODEL_6848f20e9a1e4e1e9228919d205143c3",
            "value": " 407/407 [1:20:02&lt;00:00,  7.35s/it]"
          }
        },
        "1b4a63e1845d4fcca7fb213c36482b7d": {
          "model_module": "@jupyter-widgets/base",
          "model_name": "LayoutModel",
          "model_module_version": "1.2.0",
          "state": {
            "_model_module": "@jupyter-widgets/base",
            "_model_module_version": "1.2.0",
            "_model_name": "LayoutModel",
            "_view_count": null,
            "_view_module": "@jupyter-widgets/base",
            "_view_module_version": "1.2.0",
            "_view_name": "LayoutView",
            "align_content": null,
            "align_items": null,
            "align_self": null,
            "border": null,
            "bottom": null,
            "display": null,
            "flex": null,
            "flex_flow": null,
            "grid_area": null,
            "grid_auto_columns": null,
            "grid_auto_flow": null,
            "grid_auto_rows": null,
            "grid_column": null,
            "grid_gap": null,
            "grid_row": null,
            "grid_template_areas": null,
            "grid_template_columns": null,
            "grid_template_rows": null,
            "height": null,
            "justify_content": null,
            "justify_items": null,
            "left": null,
            "margin": null,
            "max_height": null,
            "max_width": null,
            "min_height": null,
            "min_width": null,
            "object_fit": null,
            "object_position": null,
            "order": null,
            "overflow": null,
            "overflow_x": null,
            "overflow_y": null,
            "padding": null,
            "right": null,
            "top": null,
            "visibility": null,
            "width": null
          }
        },
        "0865fc48f9c54519ab7e4467798d18cf": {
          "model_module": "@jupyter-widgets/base",
          "model_name": "LayoutModel",
          "model_module_version": "1.2.0",
          "state": {
            "_model_module": "@jupyter-widgets/base",
            "_model_module_version": "1.2.0",
            "_model_name": "LayoutModel",
            "_view_count": null,
            "_view_module": "@jupyter-widgets/base",
            "_view_module_version": "1.2.0",
            "_view_name": "LayoutView",
            "align_content": null,
            "align_items": null,
            "align_self": null,
            "border": null,
            "bottom": null,
            "display": null,
            "flex": null,
            "flex_flow": null,
            "grid_area": null,
            "grid_auto_columns": null,
            "grid_auto_flow": null,
            "grid_auto_rows": null,
            "grid_column": null,
            "grid_gap": null,
            "grid_row": null,
            "grid_template_areas": null,
            "grid_template_columns": null,
            "grid_template_rows": null,
            "height": null,
            "justify_content": null,
            "justify_items": null,
            "left": null,
            "margin": null,
            "max_height": null,
            "max_width": null,
            "min_height": null,
            "min_width": null,
            "object_fit": null,
            "object_position": null,
            "order": null,
            "overflow": null,
            "overflow_x": null,
            "overflow_y": null,
            "padding": null,
            "right": null,
            "top": null,
            "visibility": null,
            "width": null
          }
        },
        "36167d87a4004ea9bd5983675ee5ad36": {
          "model_module": "@jupyter-widgets/controls",
          "model_name": "DescriptionStyleModel",
          "model_module_version": "1.5.0",
          "state": {
            "_model_module": "@jupyter-widgets/controls",
            "_model_module_version": "1.5.0",
            "_model_name": "DescriptionStyleModel",
            "_view_count": null,
            "_view_module": "@jupyter-widgets/base",
            "_view_module_version": "1.2.0",
            "_view_name": "StyleView",
            "description_width": ""
          }
        },
        "de19d43ef18143e3a6cc6728bb60b69a": {
          "model_module": "@jupyter-widgets/base",
          "model_name": "LayoutModel",
          "model_module_version": "1.2.0",
          "state": {
            "_model_module": "@jupyter-widgets/base",
            "_model_module_version": "1.2.0",
            "_model_name": "LayoutModel",
            "_view_count": null,
            "_view_module": "@jupyter-widgets/base",
            "_view_module_version": "1.2.0",
            "_view_name": "LayoutView",
            "align_content": null,
            "align_items": null,
            "align_self": null,
            "border": null,
            "bottom": null,
            "display": null,
            "flex": null,
            "flex_flow": null,
            "grid_area": null,
            "grid_auto_columns": null,
            "grid_auto_flow": null,
            "grid_auto_rows": null,
            "grid_column": null,
            "grid_gap": null,
            "grid_row": null,
            "grid_template_areas": null,
            "grid_template_columns": null,
            "grid_template_rows": null,
            "height": null,
            "justify_content": null,
            "justify_items": null,
            "left": null,
            "margin": null,
            "max_height": null,
            "max_width": null,
            "min_height": null,
            "min_width": null,
            "object_fit": null,
            "object_position": null,
            "order": null,
            "overflow": null,
            "overflow_x": null,
            "overflow_y": null,
            "padding": null,
            "right": null,
            "top": null,
            "visibility": null,
            "width": null
          }
        },
        "be0c4e56f5af45f4b2edf150ddd3677f": {
          "model_module": "@jupyter-widgets/controls",
          "model_name": "ProgressStyleModel",
          "model_module_version": "1.5.0",
          "state": {
            "_model_module": "@jupyter-widgets/controls",
            "_model_module_version": "1.5.0",
            "_model_name": "ProgressStyleModel",
            "_view_count": null,
            "_view_module": "@jupyter-widgets/base",
            "_view_module_version": "1.2.0",
            "_view_name": "StyleView",
            "bar_color": null,
            "description_width": ""
          }
        },
        "4b04e07cf75c47598d2edf156cbb4954": {
          "model_module": "@jupyter-widgets/base",
          "model_name": "LayoutModel",
          "model_module_version": "1.2.0",
          "state": {
            "_model_module": "@jupyter-widgets/base",
            "_model_module_version": "1.2.0",
            "_model_name": "LayoutModel",
            "_view_count": null,
            "_view_module": "@jupyter-widgets/base",
            "_view_module_version": "1.2.0",
            "_view_name": "LayoutView",
            "align_content": null,
            "align_items": null,
            "align_self": null,
            "border": null,
            "bottom": null,
            "display": null,
            "flex": null,
            "flex_flow": null,
            "grid_area": null,
            "grid_auto_columns": null,
            "grid_auto_flow": null,
            "grid_auto_rows": null,
            "grid_column": null,
            "grid_gap": null,
            "grid_row": null,
            "grid_template_areas": null,
            "grid_template_columns": null,
            "grid_template_rows": null,
            "height": null,
            "justify_content": null,
            "justify_items": null,
            "left": null,
            "margin": null,
            "max_height": null,
            "max_width": null,
            "min_height": null,
            "min_width": null,
            "object_fit": null,
            "object_position": null,
            "order": null,
            "overflow": null,
            "overflow_x": null,
            "overflow_y": null,
            "padding": null,
            "right": null,
            "top": null,
            "visibility": null,
            "width": null
          }
        },
        "6848f20e9a1e4e1e9228919d205143c3": {
          "model_module": "@jupyter-widgets/controls",
          "model_name": "DescriptionStyleModel",
          "model_module_version": "1.5.0",
          "state": {
            "_model_module": "@jupyter-widgets/controls",
            "_model_module_version": "1.5.0",
            "_model_name": "DescriptionStyleModel",
            "_view_count": null,
            "_view_module": "@jupyter-widgets/base",
            "_view_module_version": "1.2.0",
            "_view_name": "StyleView",
            "description_width": ""
          }
        },
        "12d1b5049ad441399f1026332e8c1944": {
          "model_module": "@jupyter-widgets/controls",
          "model_name": "HBoxModel",
          "model_module_version": "1.5.0",
          "state": {
            "_dom_classes": [],
            "_model_module": "@jupyter-widgets/controls",
            "_model_module_version": "1.5.0",
            "_model_name": "HBoxModel",
            "_view_count": null,
            "_view_module": "@jupyter-widgets/controls",
            "_view_module_version": "1.5.0",
            "_view_name": "HBoxView",
            "box_style": "",
            "children": [
              "IPY_MODEL_e97179c91ca142bb82a2a95dc3e7b773",
              "IPY_MODEL_5544d451afb444b2acef2c3e004a9cda",
              "IPY_MODEL_3bd28b93180a43db8b3e6fe6315ef0c2"
            ],
            "layout": "IPY_MODEL_f1d3cf2ab86c4377ad1ce0575040ee70"
          }
        },
        "e97179c91ca142bb82a2a95dc3e7b773": {
          "model_module": "@jupyter-widgets/controls",
          "model_name": "HTMLModel",
          "model_module_version": "1.5.0",
          "state": {
            "_dom_classes": [],
            "_model_module": "@jupyter-widgets/controls",
            "_model_module_version": "1.5.0",
            "_model_name": "HTMLModel",
            "_view_count": null,
            "_view_module": "@jupyter-widgets/controls",
            "_view_module_version": "1.5.0",
            "_view_name": "HTMLView",
            "description": "",
            "description_tooltip": null,
            "layout": "IPY_MODEL_f680db95bf0f42c7bd431a6cdb20c007",
            "placeholder": "​",
            "style": "IPY_MODEL_580f91dcea4f4ff3a99321aea2f50e14",
            "value": "100%"
          }
        },
        "5544d451afb444b2acef2c3e004a9cda": {
          "model_module": "@jupyter-widgets/controls",
          "model_name": "FloatProgressModel",
          "model_module_version": "1.5.0",
          "state": {
            "_dom_classes": [],
            "_model_module": "@jupyter-widgets/controls",
            "_model_module_version": "1.5.0",
            "_model_name": "FloatProgressModel",
            "_view_count": null,
            "_view_module": "@jupyter-widgets/controls",
            "_view_module_version": "1.5.0",
            "_view_name": "ProgressView",
            "bar_style": "success",
            "description": "",
            "description_tooltip": null,
            "layout": "IPY_MODEL_fe0f19f2fa1f4d02b0357674be3dcddf",
            "max": 407,
            "min": 0,
            "orientation": "horizontal",
            "style": "IPY_MODEL_75af7155738c4c3e94d42a59ecfb6d3d",
            "value": 407
          }
        },
        "3bd28b93180a43db8b3e6fe6315ef0c2": {
          "model_module": "@jupyter-widgets/controls",
          "model_name": "HTMLModel",
          "model_module_version": "1.5.0",
          "state": {
            "_dom_classes": [],
            "_model_module": "@jupyter-widgets/controls",
            "_model_module_version": "1.5.0",
            "_model_name": "HTMLModel",
            "_view_count": null,
            "_view_module": "@jupyter-widgets/controls",
            "_view_module_version": "1.5.0",
            "_view_name": "HTMLView",
            "description": "",
            "description_tooltip": null,
            "layout": "IPY_MODEL_cfd4022054ec412899ad4d5c2576300f",
            "placeholder": "​",
            "style": "IPY_MODEL_eeb4c2aff1ef4f5bb28eed137885960d",
            "value": " 407/407 [2:53:12&lt;00:00, 15.09s/it]"
          }
        },
        "f1d3cf2ab86c4377ad1ce0575040ee70": {
          "model_module": "@jupyter-widgets/base",
          "model_name": "LayoutModel",
          "model_module_version": "1.2.0",
          "state": {
            "_model_module": "@jupyter-widgets/base",
            "_model_module_version": "1.2.0",
            "_model_name": "LayoutModel",
            "_view_count": null,
            "_view_module": "@jupyter-widgets/base",
            "_view_module_version": "1.2.0",
            "_view_name": "LayoutView",
            "align_content": null,
            "align_items": null,
            "align_self": null,
            "border": null,
            "bottom": null,
            "display": null,
            "flex": null,
            "flex_flow": null,
            "grid_area": null,
            "grid_auto_columns": null,
            "grid_auto_flow": null,
            "grid_auto_rows": null,
            "grid_column": null,
            "grid_gap": null,
            "grid_row": null,
            "grid_template_areas": null,
            "grid_template_columns": null,
            "grid_template_rows": null,
            "height": null,
            "justify_content": null,
            "justify_items": null,
            "left": null,
            "margin": null,
            "max_height": null,
            "max_width": null,
            "min_height": null,
            "min_width": null,
            "object_fit": null,
            "object_position": null,
            "order": null,
            "overflow": null,
            "overflow_x": null,
            "overflow_y": null,
            "padding": null,
            "right": null,
            "top": null,
            "visibility": null,
            "width": null
          }
        },
        "f680db95bf0f42c7bd431a6cdb20c007": {
          "model_module": "@jupyter-widgets/base",
          "model_name": "LayoutModel",
          "model_module_version": "1.2.0",
          "state": {
            "_model_module": "@jupyter-widgets/base",
            "_model_module_version": "1.2.0",
            "_model_name": "LayoutModel",
            "_view_count": null,
            "_view_module": "@jupyter-widgets/base",
            "_view_module_version": "1.2.0",
            "_view_name": "LayoutView",
            "align_content": null,
            "align_items": null,
            "align_self": null,
            "border": null,
            "bottom": null,
            "display": null,
            "flex": null,
            "flex_flow": null,
            "grid_area": null,
            "grid_auto_columns": null,
            "grid_auto_flow": null,
            "grid_auto_rows": null,
            "grid_column": null,
            "grid_gap": null,
            "grid_row": null,
            "grid_template_areas": null,
            "grid_template_columns": null,
            "grid_template_rows": null,
            "height": null,
            "justify_content": null,
            "justify_items": null,
            "left": null,
            "margin": null,
            "max_height": null,
            "max_width": null,
            "min_height": null,
            "min_width": null,
            "object_fit": null,
            "object_position": null,
            "order": null,
            "overflow": null,
            "overflow_x": null,
            "overflow_y": null,
            "padding": null,
            "right": null,
            "top": null,
            "visibility": null,
            "width": null
          }
        },
        "580f91dcea4f4ff3a99321aea2f50e14": {
          "model_module": "@jupyter-widgets/controls",
          "model_name": "DescriptionStyleModel",
          "model_module_version": "1.5.0",
          "state": {
            "_model_module": "@jupyter-widgets/controls",
            "_model_module_version": "1.5.0",
            "_model_name": "DescriptionStyleModel",
            "_view_count": null,
            "_view_module": "@jupyter-widgets/base",
            "_view_module_version": "1.2.0",
            "_view_name": "StyleView",
            "description_width": ""
          }
        },
        "fe0f19f2fa1f4d02b0357674be3dcddf": {
          "model_module": "@jupyter-widgets/base",
          "model_name": "LayoutModel",
          "model_module_version": "1.2.0",
          "state": {
            "_model_module": "@jupyter-widgets/base",
            "_model_module_version": "1.2.0",
            "_model_name": "LayoutModel",
            "_view_count": null,
            "_view_module": "@jupyter-widgets/base",
            "_view_module_version": "1.2.0",
            "_view_name": "LayoutView",
            "align_content": null,
            "align_items": null,
            "align_self": null,
            "border": null,
            "bottom": null,
            "display": null,
            "flex": null,
            "flex_flow": null,
            "grid_area": null,
            "grid_auto_columns": null,
            "grid_auto_flow": null,
            "grid_auto_rows": null,
            "grid_column": null,
            "grid_gap": null,
            "grid_row": null,
            "grid_template_areas": null,
            "grid_template_columns": null,
            "grid_template_rows": null,
            "height": null,
            "justify_content": null,
            "justify_items": null,
            "left": null,
            "margin": null,
            "max_height": null,
            "max_width": null,
            "min_height": null,
            "min_width": null,
            "object_fit": null,
            "object_position": null,
            "order": null,
            "overflow": null,
            "overflow_x": null,
            "overflow_y": null,
            "padding": null,
            "right": null,
            "top": null,
            "visibility": null,
            "width": null
          }
        },
        "75af7155738c4c3e94d42a59ecfb6d3d": {
          "model_module": "@jupyter-widgets/controls",
          "model_name": "ProgressStyleModel",
          "model_module_version": "1.5.0",
          "state": {
            "_model_module": "@jupyter-widgets/controls",
            "_model_module_version": "1.5.0",
            "_model_name": "ProgressStyleModel",
            "_view_count": null,
            "_view_module": "@jupyter-widgets/base",
            "_view_module_version": "1.2.0",
            "_view_name": "StyleView",
            "bar_color": null,
            "description_width": ""
          }
        },
        "cfd4022054ec412899ad4d5c2576300f": {
          "model_module": "@jupyter-widgets/base",
          "model_name": "LayoutModel",
          "model_module_version": "1.2.0",
          "state": {
            "_model_module": "@jupyter-widgets/base",
            "_model_module_version": "1.2.0",
            "_model_name": "LayoutModel",
            "_view_count": null,
            "_view_module": "@jupyter-widgets/base",
            "_view_module_version": "1.2.0",
            "_view_name": "LayoutView",
            "align_content": null,
            "align_items": null,
            "align_self": null,
            "border": null,
            "bottom": null,
            "display": null,
            "flex": null,
            "flex_flow": null,
            "grid_area": null,
            "grid_auto_columns": null,
            "grid_auto_flow": null,
            "grid_auto_rows": null,
            "grid_column": null,
            "grid_gap": null,
            "grid_row": null,
            "grid_template_areas": null,
            "grid_template_columns": null,
            "grid_template_rows": null,
            "height": null,
            "justify_content": null,
            "justify_items": null,
            "left": null,
            "margin": null,
            "max_height": null,
            "max_width": null,
            "min_height": null,
            "min_width": null,
            "object_fit": null,
            "object_position": null,
            "order": null,
            "overflow": null,
            "overflow_x": null,
            "overflow_y": null,
            "padding": null,
            "right": null,
            "top": null,
            "visibility": null,
            "width": null
          }
        },
        "eeb4c2aff1ef4f5bb28eed137885960d": {
          "model_module": "@jupyter-widgets/controls",
          "model_name": "DescriptionStyleModel",
          "model_module_version": "1.5.0",
          "state": {
            "_model_module": "@jupyter-widgets/controls",
            "_model_module_version": "1.5.0",
            "_model_name": "DescriptionStyleModel",
            "_view_count": null,
            "_view_module": "@jupyter-widgets/base",
            "_view_module_version": "1.2.0",
            "_view_name": "StyleView",
            "description_width": ""
          }
        }
      }
    }
  },
  "cells": [
    {
      "cell_type": "markdown",
      "source": [
        "[Папка](https://drive.google.com/drive/folders/1ifRQQG7T9FKXGw2gnX31d_88VbfcRQh5?usp=sharing) со всеми необходимыми данными."
      ],
      "metadata": {
        "id": "hpCfNAPaISP-"
      }
    },
    {
      "cell_type": "markdown",
      "source": [
        "Код обработки текстов библиотеками stanza, natasha, SpaCy, polyglot находится в самом конце (первый подпункт в пункте \"Сравнение инструментов\").\n",
        "_________________________________\n",
        "В пункте \"Работа с таблицей с ответами\" представлин код обработки выявленных ошибок.\n",
        "_________________________________\n",
        "В пункте \"Лемматизация и нахождение микротопонимов Санкт-Петербурга\" представлена работа с картотекой и последующим поисков топонимов по выборке.\n",
        "_________________________________\n",
        "В пункет \"ML\" производится работа с статистическими моделями.\n",
        "\n"
      ],
      "metadata": {
        "id": "nUpeXog3Eint"
      }
    },
    {
      "cell_type": "markdown",
      "source": [
        "## Работа с таблицей с ответами"
      ],
      "metadata": {
        "id": "9_W0GRiGSqtO"
      }
    },
    {
      "cell_type": "code",
      "source": [
        "!pip install pymorphy2"
      ],
      "metadata": {
        "id": "0gwBDRwJlGb4"
      },
      "execution_count": null,
      "outputs": []
    },
    {
      "cell_type": "code",
      "source": [
        "import re\n",
        "from tqdm.auto import tqdm\n",
        "from nltk.tokenize import word_tokenize\n",
        "import pymorphy2\n",
        "import nltk\n",
        "from google.colab import drive\n",
        "import pandas as pd\n",
        "\n",
        "\n",
        "drive.mount('/content/drive')\n",
        "nltk.download('punkt')\n",
        "morph = pymorphy2.MorphAnalyzer()"
      ],
      "metadata": {
        "id": "NNk_F2QfkyyY"
      },
      "execution_count": null,
      "outputs": []
    },
    {
      "cell_type": "code",
      "source": [
        "with open('./drive/My Drive/course_work/stanza_with_answers.csv', encoding='utf-8', errors='ignore') as csvfile:\n",
        "    stanza_df = pd.read_csv(csvfile, sep=';')"
      ],
      "metadata": {
        "id": "kU38el9rUtbl"
      },
      "execution_count": 3,
      "outputs": []
    },
    {
      "cell_type": "code",
      "source": [
        "with open('./drive/My Drive/course_work/sentences.csv', encoding='utf-8', errors='ignore') as csvfile:\n",
        "    sents_df = pd.read_csv(csvfile, sep='\\t')"
      ],
      "metadata": {
        "id": "tMf-ZBPCcaeU"
      },
      "execution_count": 4,
      "outputs": []
    },
    {
      "cell_type": "code",
      "source": [
        "sents_df.head(3)"
      ],
      "metadata": {
        "colab": {
          "base_uri": "https://localhost:8080/",
          "height": 143
        },
        "id": "twxf-fp7cvhA",
        "outputId": "88244217-2c7e-4e25-819d-c036f05f5f07"
      },
      "execution_count": null,
      "outputs": [
        {
          "output_type": "execute_result",
          "data": {
            "text/plain": [
              "                            text  index                     sentence\n",
              "0  akhsharumov.kontsy_v_vodu.txt      1  Николай Дмитревич Ахшарумов\n",
              "1  akhsharumov.kontsy_v_vodu.txt      2                 Концы в воду\n",
              "2  akhsharumov.kontsy_v_vodu.txt      3                      Часть I"
            ],
            "text/html": [
              "\n",
              "  <div id=\"df-9b45d855-3122-4b28-adc3-47cc310ef3a4\">\n",
              "    <div class=\"colab-df-container\">\n",
              "      <div>\n",
              "<style scoped>\n",
              "    .dataframe tbody tr th:only-of-type {\n",
              "        vertical-align: middle;\n",
              "    }\n",
              "\n",
              "    .dataframe tbody tr th {\n",
              "        vertical-align: top;\n",
              "    }\n",
              "\n",
              "    .dataframe thead th {\n",
              "        text-align: right;\n",
              "    }\n",
              "</style>\n",
              "<table border=\"1\" class=\"dataframe\">\n",
              "  <thead>\n",
              "    <tr style=\"text-align: right;\">\n",
              "      <th></th>\n",
              "      <th>text</th>\n",
              "      <th>index</th>\n",
              "      <th>sentence</th>\n",
              "    </tr>\n",
              "  </thead>\n",
              "  <tbody>\n",
              "    <tr>\n",
              "      <th>0</th>\n",
              "      <td>akhsharumov.kontsy_v_vodu.txt</td>\n",
              "      <td>1</td>\n",
              "      <td>Николай Дмитревич Ахшарумов</td>\n",
              "    </tr>\n",
              "    <tr>\n",
              "      <th>1</th>\n",
              "      <td>akhsharumov.kontsy_v_vodu.txt</td>\n",
              "      <td>2</td>\n",
              "      <td>Концы в воду</td>\n",
              "    </tr>\n",
              "    <tr>\n",
              "      <th>2</th>\n",
              "      <td>akhsharumov.kontsy_v_vodu.txt</td>\n",
              "      <td>3</td>\n",
              "      <td>Часть I</td>\n",
              "    </tr>\n",
              "  </tbody>\n",
              "</table>\n",
              "</div>\n",
              "      <button class=\"colab-df-convert\" onclick=\"convertToInteractive('df-9b45d855-3122-4b28-adc3-47cc310ef3a4')\"\n",
              "              title=\"Convert this dataframe to an interactive table.\"\n",
              "              style=\"display:none;\">\n",
              "        \n",
              "  <svg xmlns=\"http://www.w3.org/2000/svg\" height=\"24px\"viewBox=\"0 0 24 24\"\n",
              "       width=\"24px\">\n",
              "    <path d=\"M0 0h24v24H0V0z\" fill=\"none\"/>\n",
              "    <path d=\"M18.56 5.44l.94 2.06.94-2.06 2.06-.94-2.06-.94-.94-2.06-.94 2.06-2.06.94zm-11 1L8.5 8.5l.94-2.06 2.06-.94-2.06-.94L8.5 2.5l-.94 2.06-2.06.94zm10 10l.94 2.06.94-2.06 2.06-.94-2.06-.94-.94-2.06-.94 2.06-2.06.94z\"/><path d=\"M17.41 7.96l-1.37-1.37c-.4-.4-.92-.59-1.43-.59-.52 0-1.04.2-1.43.59L10.3 9.45l-7.72 7.72c-.78.78-.78 2.05 0 2.83L4 21.41c.39.39.9.59 1.41.59.51 0 1.02-.2 1.41-.59l7.78-7.78 2.81-2.81c.8-.78.8-2.07 0-2.86zM5.41 20L4 18.59l7.72-7.72 1.47 1.35L5.41 20z\"/>\n",
              "  </svg>\n",
              "      </button>\n",
              "      \n",
              "  <style>\n",
              "    .colab-df-container {\n",
              "      display:flex;\n",
              "      flex-wrap:wrap;\n",
              "      gap: 12px;\n",
              "    }\n",
              "\n",
              "    .colab-df-convert {\n",
              "      background-color: #E8F0FE;\n",
              "      border: none;\n",
              "      border-radius: 50%;\n",
              "      cursor: pointer;\n",
              "      display: none;\n",
              "      fill: #1967D2;\n",
              "      height: 32px;\n",
              "      padding: 0 0 0 0;\n",
              "      width: 32px;\n",
              "    }\n",
              "\n",
              "    .colab-df-convert:hover {\n",
              "      background-color: #E2EBFA;\n",
              "      box-shadow: 0px 1px 2px rgba(60, 64, 67, 0.3), 0px 1px 3px 1px rgba(60, 64, 67, 0.15);\n",
              "      fill: #174EA6;\n",
              "    }\n",
              "\n",
              "    [theme=dark] .colab-df-convert {\n",
              "      background-color: #3B4455;\n",
              "      fill: #D2E3FC;\n",
              "    }\n",
              "\n",
              "    [theme=dark] .colab-df-convert:hover {\n",
              "      background-color: #434B5C;\n",
              "      box-shadow: 0px 1px 3px 1px rgba(0, 0, 0, 0.15);\n",
              "      filter: drop-shadow(0px 1px 2px rgba(0, 0, 0, 0.3));\n",
              "      fill: #FFFFFF;\n",
              "    }\n",
              "  </style>\n",
              "\n",
              "      <script>\n",
              "        const buttonEl =\n",
              "          document.querySelector('#df-9b45d855-3122-4b28-adc3-47cc310ef3a4 button.colab-df-convert');\n",
              "        buttonEl.style.display =\n",
              "          google.colab.kernel.accessAllowed ? 'block' : 'none';\n",
              "\n",
              "        async function convertToInteractive(key) {\n",
              "          const element = document.querySelector('#df-9b45d855-3122-4b28-adc3-47cc310ef3a4');\n",
              "          const dataTable =\n",
              "            await google.colab.kernel.invokeFunction('convertToInteractive',\n",
              "                                                     [key], {});\n",
              "          if (!dataTable) return;\n",
              "\n",
              "          const docLinkHtml = 'Like what you see? Visit the ' +\n",
              "            '<a target=\"_blank\" href=https://colab.research.google.com/notebooks/data_table.ipynb>data table notebook</a>'\n",
              "            + ' to learn more about interactive tables.';\n",
              "          element.innerHTML = '';\n",
              "          dataTable['output_type'] = 'display_data';\n",
              "          await google.colab.output.renderOutput(dataTable, element);\n",
              "          const docLink = document.createElement('div');\n",
              "          docLink.innerHTML = docLinkHtml;\n",
              "          element.appendChild(docLink);\n",
              "        }\n",
              "      </script>\n",
              "    </div>\n",
              "  </div>\n",
              "  "
            ]
          },
          "metadata": {},
          "execution_count": 195
        }
      ]
    },
    {
      "cell_type": "code",
      "source": [
        "stanza_df.head(3)"
      ],
      "metadata": {
        "colab": {
          "base_uri": "https://localhost:8080/",
          "height": 143
        },
        "id": "pAQhfsP4VDw1",
        "outputId": "b208b99a-1c4b-472c-fa53-ae38740e7d3f"
      },
      "execution_count": null,
      "outputs": [
        {
          "output_type": "execute_result",
          "data": {
            "text/plain": [
              "   index                           text    entity  \\\n",
              "0      1  akhsharumov.kontsy_v_vodu.txt         Р   \n",
              "1      2  akhsharumov.kontsy_v_vodu.txt    Москву   \n",
              "2      3  akhsharumov.kontsy_v_vodu.txt  Спальных   \n",
              "\n",
              "                                             entries is_place is_sp  \\\n",
              "0  [512, 4098, 6, 3463, 6538, 1166, 1039, 3857, 1...        Y     N   \n",
              "1             [1185, 1250, 6, 3783, 1228, 110, 1343]        Y     N   \n",
              "2                                                [7]        N     N   \n",
              "\n",
              "        comments  \n",
              "0  пропуск части  \n",
              "1            NaN  \n",
              "2            NaN  "
            ],
            "text/html": [
              "\n",
              "  <div id=\"df-940ca40f-e090-45cd-84ce-1b840b418ef8\">\n",
              "    <div class=\"colab-df-container\">\n",
              "      <div>\n",
              "<style scoped>\n",
              "    .dataframe tbody tr th:only-of-type {\n",
              "        vertical-align: middle;\n",
              "    }\n",
              "\n",
              "    .dataframe tbody tr th {\n",
              "        vertical-align: top;\n",
              "    }\n",
              "\n",
              "    .dataframe thead th {\n",
              "        text-align: right;\n",
              "    }\n",
              "</style>\n",
              "<table border=\"1\" class=\"dataframe\">\n",
              "  <thead>\n",
              "    <tr style=\"text-align: right;\">\n",
              "      <th></th>\n",
              "      <th>index</th>\n",
              "      <th>text</th>\n",
              "      <th>entity</th>\n",
              "      <th>entries</th>\n",
              "      <th>is_place</th>\n",
              "      <th>is_sp</th>\n",
              "      <th>comments</th>\n",
              "    </tr>\n",
              "  </thead>\n",
              "  <tbody>\n",
              "    <tr>\n",
              "      <th>0</th>\n",
              "      <td>1</td>\n",
              "      <td>akhsharumov.kontsy_v_vodu.txt</td>\n",
              "      <td>Р</td>\n",
              "      <td>[512, 4098, 6, 3463, 6538, 1166, 1039, 3857, 1...</td>\n",
              "      <td>Y</td>\n",
              "      <td>N</td>\n",
              "      <td>пропуск части</td>\n",
              "    </tr>\n",
              "    <tr>\n",
              "      <th>1</th>\n",
              "      <td>2</td>\n",
              "      <td>akhsharumov.kontsy_v_vodu.txt</td>\n",
              "      <td>Москву</td>\n",
              "      <td>[1185, 1250, 6, 3783, 1228, 110, 1343]</td>\n",
              "      <td>Y</td>\n",
              "      <td>N</td>\n",
              "      <td>NaN</td>\n",
              "    </tr>\n",
              "    <tr>\n",
              "      <th>2</th>\n",
              "      <td>3</td>\n",
              "      <td>akhsharumov.kontsy_v_vodu.txt</td>\n",
              "      <td>Спальных</td>\n",
              "      <td>[7]</td>\n",
              "      <td>N</td>\n",
              "      <td>N</td>\n",
              "      <td>NaN</td>\n",
              "    </tr>\n",
              "  </tbody>\n",
              "</table>\n",
              "</div>\n",
              "      <button class=\"colab-df-convert\" onclick=\"convertToInteractive('df-940ca40f-e090-45cd-84ce-1b840b418ef8')\"\n",
              "              title=\"Convert this dataframe to an interactive table.\"\n",
              "              style=\"display:none;\">\n",
              "        \n",
              "  <svg xmlns=\"http://www.w3.org/2000/svg\" height=\"24px\"viewBox=\"0 0 24 24\"\n",
              "       width=\"24px\">\n",
              "    <path d=\"M0 0h24v24H0V0z\" fill=\"none\"/>\n",
              "    <path d=\"M18.56 5.44l.94 2.06.94-2.06 2.06-.94-2.06-.94-.94-2.06-.94 2.06-2.06.94zm-11 1L8.5 8.5l.94-2.06 2.06-.94-2.06-.94L8.5 2.5l-.94 2.06-2.06.94zm10 10l.94 2.06.94-2.06 2.06-.94-2.06-.94-.94-2.06-.94 2.06-2.06.94z\"/><path d=\"M17.41 7.96l-1.37-1.37c-.4-.4-.92-.59-1.43-.59-.52 0-1.04.2-1.43.59L10.3 9.45l-7.72 7.72c-.78.78-.78 2.05 0 2.83L4 21.41c.39.39.9.59 1.41.59.51 0 1.02-.2 1.41-.59l7.78-7.78 2.81-2.81c.8-.78.8-2.07 0-2.86zM5.41 20L4 18.59l7.72-7.72 1.47 1.35L5.41 20z\"/>\n",
              "  </svg>\n",
              "      </button>\n",
              "      \n",
              "  <style>\n",
              "    .colab-df-container {\n",
              "      display:flex;\n",
              "      flex-wrap:wrap;\n",
              "      gap: 12px;\n",
              "    }\n",
              "\n",
              "    .colab-df-convert {\n",
              "      background-color: #E8F0FE;\n",
              "      border: none;\n",
              "      border-radius: 50%;\n",
              "      cursor: pointer;\n",
              "      display: none;\n",
              "      fill: #1967D2;\n",
              "      height: 32px;\n",
              "      padding: 0 0 0 0;\n",
              "      width: 32px;\n",
              "    }\n",
              "\n",
              "    .colab-df-convert:hover {\n",
              "      background-color: #E2EBFA;\n",
              "      box-shadow: 0px 1px 2px rgba(60, 64, 67, 0.3), 0px 1px 3px 1px rgba(60, 64, 67, 0.15);\n",
              "      fill: #174EA6;\n",
              "    }\n",
              "\n",
              "    [theme=dark] .colab-df-convert {\n",
              "      background-color: #3B4455;\n",
              "      fill: #D2E3FC;\n",
              "    }\n",
              "\n",
              "    [theme=dark] .colab-df-convert:hover {\n",
              "      background-color: #434B5C;\n",
              "      box-shadow: 0px 1px 3px 1px rgba(0, 0, 0, 0.15);\n",
              "      filter: drop-shadow(0px 1px 2px rgba(0, 0, 0, 0.3));\n",
              "      fill: #FFFFFF;\n",
              "    }\n",
              "  </style>\n",
              "\n",
              "      <script>\n",
              "        const buttonEl =\n",
              "          document.querySelector('#df-940ca40f-e090-45cd-84ce-1b840b418ef8 button.colab-df-convert');\n",
              "        buttonEl.style.display =\n",
              "          google.colab.kernel.accessAllowed ? 'block' : 'none';\n",
              "\n",
              "        async function convertToInteractive(key) {\n",
              "          const element = document.querySelector('#df-940ca40f-e090-45cd-84ce-1b840b418ef8');\n",
              "          const dataTable =\n",
              "            await google.colab.kernel.invokeFunction('convertToInteractive',\n",
              "                                                     [key], {});\n",
              "          if (!dataTable) return;\n",
              "\n",
              "          const docLinkHtml = 'Like what you see? Visit the ' +\n",
              "            '<a target=\"_blank\" href=https://colab.research.google.com/notebooks/data_table.ipynb>data table notebook</a>'\n",
              "            + ' to learn more about interactive tables.';\n",
              "          element.innerHTML = '';\n",
              "          dataTable['output_type'] = 'display_data';\n",
              "          await google.colab.output.renderOutput(dataTable, element);\n",
              "          const docLink = document.createElement('div');\n",
              "          docLink.innerHTML = docLinkHtml;\n",
              "          element.appendChild(docLink);\n",
              "        }\n",
              "      </script>\n",
              "    </div>\n",
              "  </div>\n",
              "  "
            ]
          },
          "metadata": {},
          "execution_count": 196
        }
      ]
    },
    {
      "cell_type": "markdown",
      "source": [
        "### Исправление ошибок"
      ],
      "metadata": {
        "id": "AVOLrK6vLbA1"
      }
    },
    {
      "cell_type": "markdown",
      "source": [
        "#### Список ошибок"
      ],
      "metadata": {
        "id": "_nhkXkYgDJV-"
      }
    },
    {
      "cell_type": "code",
      "source": [
        "mistakes = list(set(list(stanza_df['comments'])))\n",
        "mistakes[1:]"
      ],
      "metadata": {
        "colab": {
          "base_uri": "https://localhost:8080/"
        },
        "id": "MBGiwdOyZeL3",
        "outputId": "69d102d8-9417-4b79-f29e-f35898531ec4"
      },
      "execution_count": 16,
      "outputs": [
        {
          "output_type": "execute_result",
          "data": {
            "text/plain": [
              "['лишние цифры',\n",
              " 'лишние знаки',\n",
              " 'пропуск части',\n",
              " 'несколько токенов',\n",
              " 'лишние слова, лишние цифры',\n",
              " 'лишние цифры, лишние знаки',\n",
              " 'пропуск части, лишние цифры',\n",
              " 'лишняя часть',\n",
              " 'перенос',\n",
              " 'перенос, пропуск части',\n",
              " 'пропуск части, лишние слова',\n",
              " 'лишние слова',\n",
              " 'через дефис со след.',\n",
              " 'словоерс',\n",
              " 'однородные',\n",
              " 'через дефис со след., пропуск части']"
            ]
          },
          "metadata": {},
          "execution_count": 16
        }
      ]
    },
    {
      "cell_type": "markdown",
      "source": [
        "#### Лишние символы"
      ],
      "metadata": {
        "id": "lJL184SLDNfZ"
      }
    },
    {
      "cell_type": "code",
      "source": [
        "stanza_df['entity'] = stanza_df['entity'].str.replace('[^A-ZА-ЯЁa-zа-яё\\- 0-9\\*]','',regex=True)\n",
        "stanza_df['entity'] = stanza_df['entity'].str.replace(' +',' ',regex=True)"
      ],
      "metadata": {
        "id": "vThPmGzqCUET"
      },
      "execution_count": null,
      "outputs": []
    },
    {
      "cell_type": "markdown",
      "source": [
        "#### Через дефис со след."
      ],
      "metadata": {
        "id": "ntWV9qAcDoza"
      }
    },
    {
      "cell_type": "code",
      "source": [
        "indexes = stanza_df.index.copy()\n",
        "ind_to_drop = []\n",
        "\n",
        "for i in tqdm(range(len(indexes))):\n",
        "  ent = stanza_df.loc[indexes[i], 'entity']\n",
        "  ent_text = stanza_df.loc[indexes[i], 'text']\n",
        "  ent_entry = stanza_df.loc[indexes[i], 'entries'].lstrip('[').rstrip(']').split(', ')[0]\n",
        "  text_df = sents_df[sents_df['text']==ent_text]\n",
        "  text = text_df[text_df['index']==int(ent_entry)]['sentence'].values[0]\n",
        "  if '-' in text:\n",
        "    sentence = re.sub (' +\\- +', '\\-', text)\n",
        "    set_of_words = re.findall('[А-ЯёЁа-яA-Za-z]+\\-[А-ЯёЁа-яA-Za-z]+[\\-[А-ЯёЁа-яA-Za-z]+]*', sentence)\n",
        "    new_ents = []\n",
        "    for w in set_of_words:\n",
        "      if ent in w and w != ent:\n",
        "        new_ents.append(w)\n",
        "    if new_ents:\n",
        "      ind_to_drop.append(indexes[i])\n",
        "      for e in new_ents:\n",
        "        data = {col: [stanza_df.loc[indexes[i], col]] for col in list(stanza_df.columns)}\n",
        "        data['index'] = [max(list(stanza_df['index']))+1]\n",
        "        data['entity'] = [e]\n",
        "        df = pd.DataFrame(data)\n",
        "        stanza_df = stanza_df.append(df, ignore_index=True)\n",
        "     \n",
        "\n",
        "ind_to_drop = list(set(ind_to_drop))\n"
      ],
      "metadata": {
        "colab": {
          "base_uri": "https://localhost:8080/",
          "height": 49,
          "referenced_widgets": [
            "7ee54c8bef6e44cfa7a94c57938d1a9e",
            "2b305767d7bb48ca8a012046fc7562ee",
            "2abefe6c06164127a6cd0863ac3d21cd",
            "ccf6d87ff9fd4b8b81e185bcd4b43feb",
            "4dbd6c4d9dc4466a8e29fa616e5d333e",
            "f57118f7dd4444118e44e3b5c6a48b0e",
            "dd7d205d57d6488c8723c4c2afceca5a",
            "77a6698e29274c39b3aef201cd857cf7",
            "729fdef13a36442ea354c5de45d6c76f",
            "05689fd08e1b4d35869db44786b3afa2",
            "6e82a27695284931bcff976746163c7a"
          ]
        },
        "id": "qD9n_iboWE3k",
        "outputId": "012e7907-c1ef-4d22-9f3f-51577e8cb94b"
      },
      "execution_count": null,
      "outputs": [
        {
          "output_type": "display_data",
          "data": {
            "text/plain": [
              "  0%|          | 0/64445 [00:00<?, ?it/s]"
            ],
            "application/vnd.jupyter.widget-view+json": {
              "version_major": 2,
              "version_minor": 0,
              "model_id": "7ee54c8bef6e44cfa7a94c57938d1a9e"
            }
          },
          "metadata": {}
        }
      ]
    },
    {
      "cell_type": "code",
      "source": [
        "stanza_df.drop(index=ind_to_drop, inplace=True)"
      ],
      "metadata": {
        "id": "NpBnbsKtbowk"
      },
      "execution_count": null,
      "outputs": []
    },
    {
      "cell_type": "markdown",
      "source": [
        "#### Лишняя часть (+ словоерс)"
      ],
      "metadata": {
        "id": "FS4elFU9Dme0"
      }
    },
    {
      "cell_type": "code",
      "source": [
        "end_particles = ['-де', '-ка', '-кое', '-кой', '-либо', '-нибудь', '-с', '-тка', '-тко', '-то', '-ка'] \n",
        "\n",
        "for part in end_particles:\n",
        "  query = '\\\\' + part + '$'\n",
        "  stanza_df['entity'] = stanza_df['entity'].str.replace(query,'',regex=True)"
      ],
      "metadata": {
        "id": "IiB9RjZ_Ndh9"
      },
      "execution_count": null,
      "outputs": []
    },
    {
      "cell_type": "markdown",
      "source": [
        "#### Перенос"
      ],
      "metadata": {
        "id": "lg3Zi_vCDfE7"
      }
    },
    {
      "cell_type": "code",
      "source": [
        "for i in tqdm(range(len(stanza_df))):\n",
        "  ent = stanza_df.iloc[i, 2]\n",
        "  if '-' in ent:\n",
        "    clear_ent = re.sub('\\-', '', ent)\n",
        "    if clear_ent in list(stanza_df['entity']):\n",
        "      stanza_df.iloc[i, 2] = clear_ent"
      ],
      "metadata": {
        "colab": {
          "base_uri": "https://localhost:8080/",
          "height": 49,
          "referenced_widgets": [
            "adb89ed2d61444039980b830842ffa2a",
            "2e1e64458ffe4cf8a429a0758b80e33c",
            "a7dcdb26eceb458ea796040227386c0c",
            "c410877cecd141f480de176c76894d9b",
            "0a4ca48f72e64292afd6b73a9e6ef256",
            "0ad915232e1b4de79d4d645d7cf44b28",
            "aff5ad35b7d84c29b032d27d9d1a9e3f",
            "fe40e91df9fc4082be5a54b04f373c8e",
            "8d32e296989f4a8599454e90423adc80",
            "5a32188b00804b68958433bd8063292e",
            "25f5584b16744fddb73488c3854e77fc"
          ]
        },
        "id": "15qdUntMEhTs",
        "outputId": "6674b6ae-2900-4a8d-ee0a-492ee38d5103"
      },
      "execution_count": null,
      "outputs": [
        {
          "output_type": "display_data",
          "data": {
            "text/plain": [
              "  0%|          | 0/64453 [00:00<?, ?it/s]"
            ],
            "application/vnd.jupyter.widget-view+json": {
              "version_major": 2,
              "version_minor": 0,
              "model_id": "adb89ed2d61444039980b830842ffa2a"
            }
          },
          "metadata": {}
        }
      ]
    },
    {
      "cell_type": "markdown",
      "source": [
        "#### Лишние цифры"
      ],
      "metadata": {
        "id": "p1ii92EMDU4C"
      }
    },
    {
      "cell_type": "code",
      "source": [
        "stanza_df['entity'] = stanza_df['entity'].str.replace(r'([^0-9])[0-9]+([^0-9])?',r'\\g<1>\\g<2>',regex=True)"
      ],
      "metadata": {
        "id": "0DKFpdCaK8Ti"
      },
      "execution_count": null,
      "outputs": []
    },
    {
      "cell_type": "markdown",
      "source": [
        "#### Лишние слова"
      ],
      "metadata": {
        "id": "7kV01BdWDRyR"
      }
    },
    {
      "cell_type": "code",
      "source": [
        "import copy"
      ],
      "metadata": {
        "id": "WGuwYfu8ArIX"
      },
      "execution_count": null,
      "outputs": []
    },
    {
      "cell_type": "code",
      "source": [
        "!pip install natasha"
      ],
      "metadata": {
        "id": "VVRuW1vOom1J"
      },
      "execution_count": null,
      "outputs": []
    },
    {
      "cell_type": "code",
      "source": [
        "from natasha import (\n",
        "    Segmenter,\n",
        "    MorphVocab,\n",
        "    \n",
        "    NewsEmbedding,\n",
        "    NewsMorphTagger,\n",
        "    NewsSyntaxParser,\n",
        "    NewsNERTagger,\n",
        "    \n",
        "    PER,\n",
        "    NamesExtractor,\n",
        "\n",
        "    Doc\n",
        ")\n",
        "\n",
        "\n",
        "segmenter = Segmenter()\n",
        "emb = NewsEmbedding()\n",
        "ner_tagger = NewsNERTagger(emb)"
      ],
      "metadata": {
        "id": "BmoCIUU2oq7E"
      },
      "execution_count": null,
      "outputs": []
    },
    {
      "cell_type": "code",
      "source": [
        "for i in tqdm(range(len(stanza_df.index))):\n",
        "  ent_text = stanza_df.loc[stanza_df.index[i], 'text']\n",
        "  ent_entry = stanza_df.loc[stanza_df.index[i], 'entries'].lstrip('[').rstrip(']').split(', ')[0]\n",
        "  text_df = sents_df[sents_df['text']==ent_text]\n",
        "  text = text_df[text_df['index']==int(ent_entry)]['sentence'].values[0]\n",
        "  doc = Doc(text)\n",
        "  doc.segment(segmenter)\n",
        "  doc.tag_ner(ner_tagger)\n",
        "  if len(doc.spans) > 0:\n",
        "    for span in doc.spans:\n",
        "      if span.type == 'LOC':\n",
        "        natasha_entity = re.sub('[^a-zA-Zа-яА-ЯёЁ\\-\\*]', ' ', span.text)\n",
        "        natasha_entity = re.sub(' +', ' ', natasha_entity)\n",
        "        natasha_words = natasha_entity.split(' ')\n",
        "\n",
        "        stanza_entity = re.sub('[^a-zA-Zа-яА-ЯёЁ\\-\\*]', ' ', stanza_df.iloc[i, 2])\n",
        "        stanza_entity = re.sub(' +', ' ', stanza_entity)\n",
        "        stanza_words = stanza_entity.split(' ')\n",
        "\n",
        "        intersection = list(set(stanza_words) & set(natasha_words))\n",
        "        if len(intersection) > 0:\n",
        "          stanza_df.loc[stanza_df.index[i], 'entity'] = ' '.join(intersection)\n"
      ],
      "metadata": {
        "colab": {
          "base_uri": "https://localhost:8080/",
          "height": 49,
          "referenced_widgets": [
            "33e735b8f70649f597e98d56d4070c08",
            "b7c3a35d432e4d7fb77f00ff4f75172f",
            "4f3e73af9d1f4f3b8f2015c03e2831d3",
            "81ed00adb10640b4883321cf922f2abe",
            "b0a546df1d784f14ab6459c1637d0f58",
            "c5e6ae78af984a95bed10f704bba4557",
            "3f2b3542d80546b2a5805406b867af97",
            "baf4041a936d416494ed0ceea92d501b",
            "4195673fa6684ac48218a98d900579ff",
            "fdf9f50eb46047fb8aadb889d0a8776c",
            "89cd4bb385dc41789a7645a7b75b5ce7"
          ]
        },
        "id": "do2zPen7mwKU",
        "outputId": "8450332c-b664-4d38-c585-c4b97b77e530"
      },
      "execution_count": null,
      "outputs": [
        {
          "output_type": "display_data",
          "data": {
            "text/plain": [
              "  0%|          | 0/312 [00:00<?, ?it/s]"
            ],
            "application/vnd.jupyter.widget-view+json": {
              "version_major": 2,
              "version_minor": 0,
              "model_id": "33e735b8f70649f597e98d56d4070c08"
            }
          },
          "metadata": {}
        }
      ]
    },
    {
      "cell_type": "markdown",
      "source": [
        "#### Несколько токенов"
      ],
      "metadata": {
        "id": "VFm9o8mdDaqN"
      }
    },
    {
      "cell_type": "code",
      "source": [
        "preps = ['на', 'из', 'к', 'в', 'во', 'с', 'у']\n",
        "conjs = ['и', 'да', 'или', 'аль', 'иль']\n",
        "seps = preps+conjs"
      ],
      "metadata": {
        "id": "lZitSKMOheed"
      },
      "execution_count": null,
      "outputs": []
    },
    {
      "cell_type": "code",
      "source": [
        "indexes = stanza_df.index.copy()\n",
        "ind_to_drop = []\n",
        "\n",
        "for i in tqdm(range(len(indexes))):\n",
        "  ent = stanza_df.loc[indexes[i], 'entity']\n",
        "  ent = re.sub('[^a-zA-Zа-яА-ЯёЁ\\-\\*]', ' ', ent)\n",
        "  ent = re.sub(' +', ' ', ent)\n",
        "  if len(ent.split(' ')) > 1:\n",
        "    ent = ' ' + ent\n",
        "    for sep in seps:\n",
        "      ent = re.sub(' '+sep+' ', '___', ent)\n",
        "    e = ent.split('___')\n",
        "    while '' in e:\n",
        "      del e[e.index('')]\n",
        "    if ent.lstrip(' ') != ' '.join(e).lstrip(' '):\n",
        "      for en in e:\n",
        "        en = en.lstrip(' ').rstrip(' ')\n",
        "        data = {col: [stanza_df.loc[indexes[i], col]] for col in list(stanza_df.columns)}\n",
        "        data['index'] = [int(max(list(stanza_df['index'])))+1]\n",
        "        data['entity'] = [en]\n",
        "        df = pd.DataFrame(data)\n",
        "\n",
        "        stanza_df = stanza_df.append(df, ignore_index=True)\n",
        "      ind_to_drop.append(indexes[i])\n",
        "\n",
        "    "
      ],
      "metadata": {
        "colab": {
          "base_uri": "https://localhost:8080/",
          "height": 49,
          "referenced_widgets": [
            "120f312f75e249b9aac6671812ca8172",
            "66f0cd24a9904867956ab500f94cc41a",
            "b6795a592887437a965824c7ba61d0f4",
            "2a0ddc0aaff240e1a704b3fcb59294f9",
            "a6ee86bde98846deb245eaa5cc10e5a6",
            "bce667b91f7d49c7a061780ef4040e97",
            "e3f29d3a97fe43a2a1fb6a44e0fa54a0",
            "ef07e9f2f5934c15978e5a5c1fe9bfda",
            "8403f3f9ccab4697b87f300c02720b53",
            "9e40688d6b8c4131bd82341dcb5b2174",
            "3b52573c037d423aa85837804b718180"
          ]
        },
        "id": "xTULDIbXnirj",
        "outputId": "71fff7f6-50b9-407a-c635-b34b90b21c27"
      },
      "execution_count": null,
      "outputs": [
        {
          "output_type": "display_data",
          "data": {
            "text/plain": [
              "  0%|          | 0/64453 [00:00<?, ?it/s]"
            ],
            "application/vnd.jupyter.widget-view+json": {
              "version_major": 2,
              "version_minor": 0,
              "model_id": "120f312f75e249b9aac6671812ca8172"
            }
          },
          "metadata": {}
        }
      ]
    },
    {
      "cell_type": "code",
      "source": [
        "stanza_df.drop(index=ind_to_drop, inplace=True)"
      ],
      "metadata": {
        "id": "ReMwx0qQ3edy"
      },
      "execution_count": null,
      "outputs": []
    },
    {
      "cell_type": "code",
      "source": [
        "conv_poses = ['ADJF', 'ADJS', 'NOUN']\n",
        "Y_entities = list(stanza_df[stanza_df['is_place']=='Y']['entity'])\n",
        "indexes = stanza_df.index.copy()"
      ],
      "metadata": {
        "id": "O2Mq3bJuZ-Cx"
      },
      "execution_count": null,
      "outputs": []
    },
    {
      "cell_type": "code",
      "source": [
        "for i in tqdm(range(len(indexes))):\n",
        "  ent = stanza_df.loc[indexes[i], 'entity'].split(' ')\n",
        "  new_ent = []\n",
        "  for w in ent:\n",
        "    p = morph.parse(w)[0]\n",
        "    if p.tag.POS not in conv_poses:\n",
        "      if w in Y_entities:\n",
        "        new_ent.append(w)\n",
        "    else:\n",
        "      new_ent.append(w)\n",
        "  if not new_ent:\n",
        "    if len(ent) != 1 and stanza_df.loc[indexes[i], 'is_place'] != 'Y':\n",
        "      stanza_df = stanza_df.drop(index=[indexes[i]])\n",
        "  else:\n",
        "    stanza_df.loc[indexes[i], 'entity'] = ' '.join(new_ent)"
      ],
      "metadata": {
        "colab": {
          "base_uri": "https://localhost:8080/",
          "height": 49,
          "referenced_widgets": [
            "2668efaee8104303b42cfd6777abee66",
            "49768c7e6ab94ba8a87ca71e331b3a7e",
            "ccab4a4e378242f6b0e9df1a460d4203",
            "528676b148024d629c38f871c0da92f6",
            "ac6ecea7c257476e81e0cc345737b0a8",
            "c98ea59383c84c99b908dfd85cdbe869",
            "a38e27155e1e4d14a3e5c150e524326e",
            "d56f8d627e474bf6a6b33a2faf1d783b",
            "61d1297691d342d0a2c23ebf7751ff16",
            "9b83dec6f0c74e79a98a545e5ab0cf45",
            "a7a4f46895de49d78ca45d04ea04b900"
          ]
        },
        "id": "BPgDu-xqYm_v",
        "outputId": "8e49be03-e79c-4461-f180-36202c941243"
      },
      "execution_count": null,
      "outputs": [
        {
          "output_type": "display_data",
          "data": {
            "text/plain": [
              "  0%|          | 0/64577 [00:00<?, ?it/s]"
            ],
            "application/vnd.jupyter.widget-view+json": {
              "version_major": 2,
              "version_minor": 0,
              "model_id": "2668efaee8104303b42cfd6777abee66"
            }
          },
          "metadata": {}
        }
      ]
    },
    {
      "cell_type": "code",
      "source": [
        "indexes = stanza_df.index.copy()\n",
        "ind_to_drop = []\n",
        "\n",
        "for i in tqdm(range(len(indexes))):\n",
        "  ent = stanza_df.loc[indexes[i], 'entity']\n",
        "  splitted_ent = []\n",
        "  if len(ent.split(' ')) > 1:\n",
        "    ent_text = stanza_df.loc[indexes[i], 'text']\n",
        "    ent_entry = stanza_df.loc[indexes[i], 'entries'].lstrip('[').rstrip(']').split(', ')[0]\n",
        "    text_df = sents_df[sents_df['text']==ent_text]\n",
        "    text = text_df[text_df['index']==int(ent_entry)]['sentence'].values[0]\n",
        "    doc = Doc(text)\n",
        "    doc.segment(segmenter)\n",
        "    doc.tag_ner(ner_tagger)\n",
        "    n_words = []\n",
        "    if len(doc.spans) > 0:\n",
        "      for span in doc.spans:\n",
        "        if span.type == 'LOC':\n",
        "          if span.text != ent:\n",
        "            natasha_entity = re.sub('[^a-zA-Zа-яА-ЯёЁ\\-\\*]', ' ', span.text)\n",
        "            natasha_entity = re.sub(' +', ' ', natasha_entity)\n",
        "            n_words.append(natasha_entity)\n",
        "    if len(n_words) > 0 and n_words[0] != ent:\n",
        "      stanza_entity = re.sub('[^a-zA-Zа-яА-ЯёЁ\\-\\*]', ' ', ent)\n",
        "      stanza_entity = re.sub(' +', ' ', stanza_entity).split(' ')\n",
        "      nat_entity = ' '.join(n_words).split(' ')\n",
        "      if set(nat_entity) == set(stanza_entity):\n",
        "        for n in n_words:\n",
        "          data = {col: [stanza_df.loc[indexes[i], col]] for col in list(stanza_df.columns)}\n",
        "          data['index'] = [max(list(stanza_df['index']))+1]\n",
        "          data['entity'] = [n]\n",
        "          df = pd.DataFrame(data)\n",
        "          stanza_df = stanza_df.append(df, ignore_index=True)\n",
        "          ind_to_drop.append(indexes[i])\n",
        "\n",
        "ind_to_drop = list(set(ind_to_drop))"
      ],
      "metadata": {
        "colab": {
          "base_uri": "https://localhost:8080/",
          "height": 49,
          "referenced_widgets": [
            "908a8dea91b6452c93ec113e80d9c0d5",
            "cfe37643009e448b9422dbd0ad4ecbb2",
            "bc54498cb3ce43a1a6395f0f57318729",
            "0d65e9324a75434ba18a84c705f55c34",
            "28ae8942967545c09b9d84afabb795c7",
            "82d301557b7042559cb26d7b292e7af4",
            "85d1a558f24b4b3d90de8437090c0924",
            "bfa571be4b47451a8bda310563c298e1",
            "a9c7411885df43abbda9c1e904f40c85",
            "4bc2e30842324db5a337f7427631cf3f",
            "a23b83cc5a794b959da57fd88ce71c64"
          ]
        },
        "id": "h8vHgwc6YnoP",
        "outputId": "6103e521-f7ac-4c27-c553-b1045537c8fb"
      },
      "execution_count": null,
      "outputs": [
        {
          "data": {
            "application/vnd.jupyter.widget-view+json": {
              "model_id": "908a8dea91b6452c93ec113e80d9c0d5",
              "version_major": 2,
              "version_minor": 0
            },
            "text/plain": [
              "  0%|          | 0/64494 [00:00<?, ?it/s]"
            ]
          },
          "metadata": {},
          "output_type": "display_data"
        }
      ]
    },
    {
      "cell_type": "code",
      "source": [
        "stanza_df.drop(index=ind_to_drop, inplace=True)"
      ],
      "metadata": {
        "id": "MIqQmW0V49XQ"
      },
      "execution_count": null,
      "outputs": []
    },
    {
      "cell_type": "code",
      "source": [
        "stanza_df.drop(columns=['index'], inplace=True)"
      ],
      "metadata": {
        "id": "p38IYyhOkihJ"
      },
      "execution_count": null,
      "outputs": []
    },
    {
      "cell_type": "code",
      "source": [
        "stanza_df.drop_duplicates(inplace=True)"
      ],
      "metadata": {
        "id": "4lU9Mk5qklZW"
      },
      "execution_count": null,
      "outputs": []
    },
    {
      "cell_type": "code",
      "source": [
        "stanza_df.to_csv('./drive/My Drive/course_work/half_clear_stanza_df_wo_inds.csv', sep=';', index=False)"
      ],
      "metadata": {
        "id": "RCcF9yTpkl7M"
      },
      "execution_count": null,
      "outputs": []
    },
    {
      "cell_type": "markdown",
      "source": [
        "## Лемматизация и нахождение микротопонимов Санкт-Петербурга"
      ],
      "metadata": {
        "id": "kCnHcYqqLe1H"
      }
    },
    {
      "cell_type": "markdown",
      "source": [
        "Определение топонимов Санкт-Петербурга"
      ],
      "metadata": {
        "id": "nGKIiWYH_fqf"
      }
    },
    {
      "cell_type": "code",
      "source": [
        "from google.colab import drive\n",
        "import pandas as pd\n",
        "from tqdm.auto import tqdm\n",
        "\n",
        "drive.mount('/content/drive')"
      ],
      "metadata": {
        "colab": {
          "base_uri": "https://localhost:8080/"
        },
        "id": "wifNgMAk4rl2",
        "outputId": "6771bd3d-4783-4148-9d31-7b60c0aae0df"
      },
      "execution_count": 1,
      "outputs": [
        {
          "output_type": "stream",
          "name": "stdout",
          "text": [
            "Mounted at /content/drive\n"
          ]
        }
      ]
    },
    {
      "cell_type": "code",
      "source": [
        "with open('./drive/My Drive/course_work/half_clear_stanza_df_wo_inds.csv', encoding='utf-8', errors='ignore') as csvfile:\n",
        "    stanza_df = pd.read_csv(csvfile, sep=';')"
      ],
      "metadata": {
        "id": "Tr0o90WMByFU"
      },
      "execution_count": 16,
      "outputs": []
    },
    {
      "cell_type": "code",
      "source": [
        "all_entities = []\n",
        "\n",
        "for i in range(1, 6):\n",
        "  filename = './drive/My Drive/course_work/saint_p_entities/sp_streets'+str(i)+'.txt'\n",
        "\n",
        "  with open(filename, encoding='utf-8', errors='ignore') as f:\n",
        "    \n",
        "    entities = f.read().split('\\n')\n",
        "    all_entities.extend(entities)\n",
        "\n",
        "all_entities = list(set(all_entities))"
      ],
      "metadata": {
        "id": "dge58sAQnK9-"
      },
      "execution_count": 17,
      "outputs": []
    },
    {
      "cell_type": "code",
      "source": [
        "lemm_ents = []\n",
        "for ent in all_entities:\n",
        "  ent = re.sub('[^a-zа-яё\\- ]', '', ent.lower())\n",
        "  lemm_ent = []\n",
        "  for e in ent.split(' '):\n",
        "    p = morph.parse(e)[0].normal_form\n",
        "    lemm_ent.append(p)\n",
        "  lemm_ents.append(' '.join(lemm_ent))"
      ],
      "metadata": {
        "id": "vj_A93WznStK"
      },
      "execution_count": null,
      "outputs": []
    },
    {
      "cell_type": "code",
      "source": [
        "lemm_words = list(set(' '.join(lemm_ents).split(' ')))"
      ],
      "metadata": {
        "id": "A8HYMB1nsI1I"
      },
      "execution_count": null,
      "outputs": []
    },
    {
      "cell_type": "code",
      "source": [
        "from nltk import word_tokenize \n",
        "from nltk.util import ngrams\n",
        "\n",
        "\n",
        "text = ' '.join(lemm_ents)\n",
        "token = word_tokenize(text)"
      ],
      "metadata": {
        "id": "5K-qHV6cxFpi"
      },
      "execution_count": null,
      "outputs": []
    },
    {
      "cell_type": "code",
      "source": [
        "n_grams = []\n",
        "for i in tqdm(range(2, 7)):\n",
        "  grams = []\n",
        "  gr = list(ngrams(token, i))\n",
        "  for g in gr:\n",
        "    grams.append(' '.join(g))\n",
        "  n_grams.append(grams)\n",
        "\n",
        "n_grams.insert(0, lemm_words)"
      ],
      "metadata": {
        "colab": {
          "base_uri": "https://localhost:8080/",
          "height": 49,
          "referenced_widgets": [
            "0e87d0312e00428d9b4d3550c04673f9",
            "977017fce86545b39489c73124922f02",
            "86d9eb4a600d403ba9d28d6d620c47d0",
            "f7a59c1eff07478a92bc7bb5b2276a66",
            "81d607a75cc9437cbfb2dfe21ffd9ec6",
            "1b3a08dac07e453c840d1d0e08cd5b50",
            "a8dfa527e8ab406eb9a50669aeadc981",
            "65eeef926c5f4604aa4690f987dae539",
            "59d6077068eb442e9c9f64c0761ff93f",
            "bae27089df52441fb1175e8b61322057",
            "735d4687e06f4c659f7d69bcd29e16ea"
          ]
        },
        "id": "8nsi_wNezsmD",
        "outputId": "0a574aad-c761-4e86-f71f-f46aaba49fca"
      },
      "execution_count": null,
      "outputs": [
        {
          "output_type": "display_data",
          "data": {
            "text/plain": [
              "  0%|          | 0/5 [00:00<?, ?it/s]"
            ],
            "application/vnd.jupyter.widget-view+json": {
              "version_major": 2,
              "version_minor": 0,
              "model_id": "0e87d0312e00428d9b4d3550c04673f9"
            }
          },
          "metadata": {}
        }
      ]
    },
    {
      "cell_type": "code",
      "source": [
        "indexes = stanza_df.index.copy()\n",
        "y_n_sp = []\n",
        "\n",
        "for i in tqdm(range(len(indexes))):\n",
        "  y_n = 'N'\n",
        "  if stanza_df.loc[indexes[i], 'is_place'] == 'Y':\n",
        "    ent = stanza_df.loc[indexes[i], 'entity']\n",
        "    ent = re.sub('[^a-zа-яё\\- ]', '', ent.lower())\n",
        "    lemm_ent = []\n",
        "    for e in ent.split(' '):\n",
        "      p = morph.parse(e)[0].normal_form\n",
        "      lemm_ent.append(p)\n",
        "    lemmatized_ent = ' '.join(lemm_ent)\n",
        "    for j in range(1, 7):\n",
        "      if len(lemm_ent) == j:\n",
        "        if lemmatized_ent in n_grams[j-1]:\n",
        "          y_n = 'Y'\n",
        "  y_n_sp.append(y_n)\n",
        "\n"
      ],
      "metadata": {
        "colab": {
          "base_uri": "https://localhost:8080/",
          "height": 49,
          "referenced_widgets": [
            "271b7ff00b9841e2800a63aee861fb1c",
            "973f0fb52eb14409bbe0e3b3dca65d64",
            "1cf3bf3aea8949f88398b87beade8f68",
            "438e81eb47954539b40d4a07ed1cc379",
            "d379cb3b74a24abba632bef3ee6f1530",
            "0a78aefe7b754c53a089603ad17de1c4",
            "fedc0f5f006341dbab4a21e117d4af9c",
            "d7862b909d534765acf62be1f6592fcd",
            "2b644821c89a4957ac2d5108c8231430",
            "b749a24202934cd5b77b6d9aaed2b340",
            "a51fdafa58e1461a8b9615c38ebb440b"
          ]
        },
        "id": "cULpRrXgvQM6",
        "outputId": "75bc006d-777e-4411-8f48-1a9f368b5d1b"
      },
      "execution_count": null,
      "outputs": [
        {
          "output_type": "display_data",
          "data": {
            "text/plain": [
              "  0%|          | 0/64473 [00:00<?, ?it/s]"
            ],
            "application/vnd.jupyter.widget-view+json": {
              "version_major": 2,
              "version_minor": 0,
              "model_id": "271b7ff00b9841e2800a63aee861fb1c"
            }
          },
          "metadata": {}
        }
      ]
    },
    {
      "cell_type": "code",
      "source": [
        "stanza_df['is_SP'] = y_n_sp"
      ],
      "metadata": {
        "id": "QmmIKZOQ1lVb"
      },
      "execution_count": null,
      "outputs": []
    },
    {
      "cell_type": "code",
      "source": [
        "stanza_df.drop(columns=['is_sp', 'comments'], inplace=True)\n",
        "stanza_df.drop_duplicates(inplace=True)"
      ],
      "metadata": {
        "id": "YoUeRYpz5J_-"
      },
      "execution_count": null,
      "outputs": []
    },
    {
      "cell_type": "code",
      "source": [
        "stanza_df.to_csv('./drive/My Drive/course_work/stanza_rez.csv', sep=';', index=False)"
      ],
      "metadata": {
        "id": "i9vOWp1q-0z6"
      },
      "execution_count": null,
      "outputs": []
    },
    {
      "cell_type": "markdown",
      "source": [
        "Посдчет топонимов Санкт-Петербурга"
      ],
      "metadata": {
        "id": "ASZaR_bb_YWV"
      }
    },
    {
      "cell_type": "code",
      "source": [
        "indexes = stanza_df.index.copy()\n",
        "\n",
        "lemm_sp_ents = []\n",
        "actual_ents = {}\n",
        "\n",
        "for i in tqdm(range(len(indexes))):\n",
        "  if stanza_df.loc[indexes[i], 'is_SP'] == 'Y':\n",
        "    ent = stanza_df.loc[indexes[i], 'entity']\n",
        "    ent = re.sub('[^a-zа-яё\\- ]', '', ent.lower())\n",
        "    lemm_ent = []\n",
        "    for e in ent.split(' '):\n",
        "      p = morph.parse(e)[0].normal_form\n",
        "      lemm_ent.append(p)\n",
        "    lemm_sp_ents.append(' '.join(lemm_ent))\n",
        "    if ' '.join(lemm_ent) in actual_ents.keys():\n",
        "      if ent not in actual_ents[' '.join(lemm_ent)]:\n",
        "        actual_ents[' '.join(lemm_ent)].append(ent)\n",
        "    else:\n",
        "      actual_ents[' '.join(lemm_ent)] = [ent]\n",
        "    "
      ],
      "metadata": {
        "colab": {
          "base_uri": "https://localhost:8080/",
          "height": 49,
          "referenced_widgets": [
            "83e2a088f53d482da22c95ef7a7a1132",
            "3865b589547547b69709b67e8653b5a0",
            "eeb1c2b767634a1aafa5bd2a6dffa269",
            "3481e475340e43779133438fe71d0f71",
            "515f738fded34f9a90400f20f443510c",
            "3ac7ba04ba57444fb72229a777addd63",
            "cbb222f29f3e47a499236e85d5350a14",
            "a82aa4be3a0f4061a49a0e0c79ba6910",
            "2498439822564e72bc65ed11309d9948",
            "02946caa812e48f5b91a2b3a164a5407",
            "e24c864c17094128a88d70b4566901ab"
          ]
        },
        "id": "vjJAj3AC3gbT",
        "outputId": "9aa2ca29-f0a7-442d-dd31-371ae118cf1c"
      },
      "execution_count": null,
      "outputs": [
        {
          "output_type": "display_data",
          "data": {
            "text/plain": [
              "  0%|          | 0/64454 [00:00<?, ?it/s]"
            ],
            "application/vnd.jupyter.widget-view+json": {
              "version_major": 2,
              "version_minor": 0,
              "model_id": "83e2a088f53d482da22c95ef7a7a1132"
            }
          },
          "metadata": {}
        }
      ]
    },
    {
      "cell_type": "code",
      "source": [
        "sp_df = pd.DataFrame({'lemma':actual_ents.keys(), 'all': list(actual_ents.values())})"
      ],
      "metadata": {
        "id": "W1s8_X2ZECdr"
      },
      "execution_count": null,
      "outputs": []
    },
    {
      "cell_type": "code",
      "source": [
        "entr_c = []\n",
        "for lemm in list(sp_df['lemma']):\n",
        "  entr_c.append(len(sp_df[sp_df['lemma']==lemm]['all'].values[0].split(', ')))\n",
        "\n",
        "sp_df['count'] = entr_c\n",
        "\n",
        "sp_df.sort_values('count', ascending=False, inplace=True)\n",
        "\n"
      ],
      "metadata": {
        "id": "cWagqSN9DzgE"
      },
      "execution_count": null,
      "outputs": []
    },
    {
      "cell_type": "code",
      "source": [
        "with open('./drive/My Drive/course_work/stanza_rez_features.csv', encoding='utf-8', errors='ignore') as csvfile:\n",
        "    stanza_df = pd.read_csv(csvfile, sep=';')\n",
        "\n",
        "sp_stanza_df = stanza_df[stanza_df['is_SP']=='Y']\n",
        "sp_stanza_df = sp_stanza_df[['text', 'entity', 'entries']]"
      ],
      "metadata": {
        "id": "ybwWroZf_Gzl"
      },
      "execution_count": null,
      "outputs": []
    },
    {
      "cell_type": "code",
      "source": [
        "def count_entries(df):\n",
        "  entries = list(df['entries'])\n",
        "  c_entries = []\n",
        "  for entry in entries:\n",
        "    c_entry = len(entry.rstrip(']').lstrip('[').split(', '))\n",
        "    c_entries.append(c_entry)\n",
        "  return c_entries"
      ],
      "metadata": {
        "id": "jQGz0vvX_JfU"
      },
      "execution_count": null,
      "outputs": []
    },
    {
      "cell_type": "code",
      "source": [
        "c_stanza = count_entries(sp_stanza_df)\n",
        "sp_stanza_df['count_entries'] = c_stanza"
      ],
      "metadata": {
        "id": "Gs_gxqS2_LPP"
      },
      "execution_count": null,
      "outputs": []
    },
    {
      "cell_type": "code",
      "source": [
        "stanza_ent_count = {}\n",
        "for text in list(set(list(sp_stanza_df['text']))):\n",
        "  text_df = sp_stanza_df[sp_stanza_df['text']==text]\n",
        "  for ent in list(text_df['entity']):\n",
        "    low_ent = ent.lower()\n",
        "    if low_ent not in stanza_ent_count.values():\n",
        "      stanza_ent_count[low_ent] = text_df[text_df['entity']==ent]['count_entries'].values[0]\n",
        "    else:\n",
        "      stanza_ent_count[low_ent] += text_df[text_df['entity']==ent]['count_entries'].values[0]"
      ],
      "metadata": {
        "id": "zCXINXRX_NWO"
      },
      "execution_count": null,
      "outputs": []
    },
    {
      "cell_type": "code",
      "source": [
        "f_c = {}\n",
        "for ent in list(sp_df['lemma']):\n",
        "  words = sp_df[sp_df['lemma']==ent]['all'].values[0]\n",
        "  words = re.sub('[\\[\\'\\]]', '', words).split(', ')\n",
        "  for word in words:\n",
        "    if ent not in f_c.keys():\n",
        "      f_c[ent] = stanza_ent_count[word]\n",
        "    else:\n",
        "      f_c[ent] += stanza_ent_count[word]"
      ],
      "metadata": {
        "id": "DydQHetz_PVT"
      },
      "execution_count": null,
      "outputs": []
    },
    {
      "cell_type": "code",
      "source": [
        "df = pd.DataFrame({'ent': f_c.keys(), 'count': f_c.values()})\n",
        "df.sort_values('count', ascending=False, inplace=True)\n",
        "\n",
        "df.to_csv('sp_counter.csv', sep=';', index=False)"
      ],
      "metadata": {
        "id": "XfZOIFse_E6c"
      },
      "execution_count": null,
      "outputs": []
    },
    {
      "cell_type": "markdown",
      "source": [
        "## ML"
      ],
      "metadata": {
        "id": "Y-mwebHiST2c"
      }
    },
    {
      "cell_type": "markdown",
      "source": [
        "##### Фичи"
      ],
      "metadata": {
        "id": "44KixungSG2T"
      }
    },
    {
      "cell_type": "code",
      "source": [
        "!pip install natasha\n",
        "!pip install pymorphy2"
      ],
      "metadata": {
        "id": "KhEE0mVgSS81"
      },
      "execution_count": null,
      "outputs": []
    },
    {
      "cell_type": "code",
      "source": [
        "import re\n",
        "from tqdm.auto import tqdm\n",
        "import pymorphy2\n",
        "from google.colab import drive\n",
        "import pandas as pd\n",
        "\n",
        "\n",
        "drive.mount('/content/drive')\n",
        "morph = pymorphy2.MorphAnalyzer()"
      ],
      "metadata": {
        "colab": {
          "base_uri": "https://localhost:8080/"
        },
        "id": "1ZdLpq5eTZI9",
        "outputId": "1f047f12-76e8-41a5-9e4f-bc6c33c517b2"
      },
      "execution_count": 43,
      "outputs": [
        {
          "output_type": "stream",
          "name": "stdout",
          "text": [
            "Drive already mounted at /content/drive; to attempt to forcibly remount, call drive.mount(\"/content/drive\", force_remount=True).\n"
          ]
        }
      ]
    },
    {
      "cell_type": "code",
      "source": [
        "from natasha import (\n",
        "    Segmenter,\n",
        "    MorphVocab,\n",
        "    \n",
        "    NewsEmbedding,\n",
        "    NewsMorphTagger,\n",
        "    NewsSyntaxParser,\n",
        "    NewsNERTagger,\n",
        "    \n",
        "    PER,\n",
        "    NamesExtractor,\n",
        "\n",
        "    Doc\n",
        ")\n",
        "\n",
        "\n",
        "segmenter = Segmenter()\n",
        "emb = NewsEmbedding()\n",
        "morph_tagger = NewsMorphTagger(emb)\n",
        "syntax_parser = NewsSyntaxParser(emb)"
      ],
      "metadata": {
        "id": "r5aUADyUT0Dy"
      },
      "execution_count": 44,
      "outputs": []
    },
    {
      "cell_type": "code",
      "source": [
        "with open('./drive/My Drive/course_work/sentences.csv', encoding='utf-8', errors='ignore') as csvfile:\n",
        "    sents_df = pd.read_csv(csvfile, sep='\\t')"
      ],
      "metadata": {
        "id": "3he_o5xWVjf4"
      },
      "execution_count": 45,
      "outputs": []
    },
    {
      "cell_type": "code",
      "source": [
        "with open('./drive/My Drive/course_work/stanza_rez.csv', encoding='utf-8', errors='ignore') as csvfile:\n",
        "    stanza_df = pd.read_csv(csvfile, sep=';')"
      ],
      "metadata": {
        "id": "_CFpuFqASGM4"
      },
      "execution_count": 21,
      "outputs": []
    },
    {
      "cell_type": "code",
      "source": [
        "stanza_df[stanza_df['is_place']=='Y'].shape"
      ],
      "metadata": {
        "colab": {
          "base_uri": "https://localhost:8080/"
        },
        "id": "NbQ5Q4j3vskr",
        "outputId": "14d43cce-d683-4ab6-9ea1-24e614cbd208"
      },
      "execution_count": 23,
      "outputs": [
        {
          "output_type": "execute_result",
          "data": {
            "text/plain": [
              "(37591, 5)"
            ]
          },
          "metadata": {},
          "execution_count": 23
        }
      ]
    },
    {
      "cell_type": "code",
      "source": [
        "indexes = stanza_df.index.copy()\n",
        "\n",
        "rels = []\n",
        "pos_natasha = []\n",
        "pos_pm2 = []\n",
        "full_length = []\n",
        "words_number = []\n",
        "main_word_length = []\n",
        "mean_length = []\n",
        "\n",
        "for i in tqdm(range(len(indexes))):\n",
        "  ent = stanza_df.loc[indexes[i], 'entity']\n",
        "  splitted_ent = []\n",
        "  ent_text = stanza_df.loc[indexes[i], 'text']\n",
        "  ent_entry = stanza_df.loc[indexes[i], 'entries'].lstrip('[').rstrip(']').split(', ')[0]\n",
        "  text_df = sents_df[sents_df['text']==ent_text]\n",
        "  text = text_df[text_df['index']==int(ent_entry)]['sentence'].values[0]\n",
        "  doc = Doc(text)\n",
        "  doc.segment(segmenter)\n",
        "  doc.tag_morph(morph_tagger)\n",
        "  doc.parse_syntax(syntax_parser)\n",
        "  ent_tokens = []\n",
        "  for tok in doc.tokens:\n",
        "    if tok.text in ent.split(' '):\n",
        "      if tok.pos == 'NOUN':\n",
        "        ent_tokens = [tok] + ent_tokens\n",
        "      else:\n",
        "        ent_tokens.append(tok)\n",
        "  if ent_tokens:\n",
        "    main_tok = ent_tokens[0]\n",
        "  rels.append(main_tok.rel)\n",
        "  pos_natasha.append(main_tok.pos)\n",
        "  pos_pm2.append(morph.parse(main_tok.text)[0].tag.POS)\n",
        "  main_word_length.append(len(main_tok.text))\n",
        "  full_length.append(len(ent))\n",
        "  mean_length.append(( len(ent) - (len(ent.split(' '))-1) )/ len(ent.split(' ')) )\n",
        "  words_number.append(len(ent.split(' ')))\n"
      ],
      "metadata": {
        "id": "QR9y7NgmUHhg"
      },
      "execution_count": null,
      "outputs": []
    },
    {
      "cell_type": "code",
      "source": [
        "print(rels[:5])\n",
        "print(pos_natasha[:5])\n",
        "print(pos_pm2[:5])\n",
        "print(full_length[:5])\n",
        "print(words_number[:5])\n",
        "print(main_word_length[:5])\n",
        "print(mean_length[:5])"
      ],
      "metadata": {
        "colab": {
          "base_uri": "https://localhost:8080/"
        },
        "id": "pvRUEK69W7RZ",
        "outputId": "2b59ac3a-fdbe-4b73-abc1-5a2464ed38ce"
      },
      "execution_count": null,
      "outputs": [
        {
          "output_type": "stream",
          "name": "stdout",
          "text": [
            "['root', 'obl', 'obj', 'obl', 'obl']\n",
            "['PROPN', 'PROPN', 'ADJ', 'PROPN', 'PROPN']\n",
            "['NOUN', 'NOUN', 'ADJF', 'NOUN', 'NOUN']\n",
            "[1, 6, 8, 9, 6]\n",
            "[1, 1, 1, 1, 1]\n",
            "[1, 6, 8, 9, 6]\n",
            "[1.0, 6.0, 8.0, 9.0, 6.0]\n"
          ]
        }
      ]
    },
    {
      "cell_type": "code",
      "source": [
        "stanza_df['relation'] = rels\n",
        "stanza_df['pos_natasha'] = pos_natasha\n",
        "stanza_df['pos_pymorphy2'] = pos_pm2\n",
        "stanza_df['length'] = full_length\n",
        "stanza_df['words_number'] = words_number\n",
        "stanza_df['main_word_length'] = main_word_length"
      ],
      "metadata": {
        "id": "zd9bZWryXr_g"
      },
      "execution_count": null,
      "outputs": []
    },
    {
      "cell_type": "code",
      "source": [
        "stanza_df.to_csv('/drive/My Drive/course_work/stanza_rez_features.csv', sep=';', index=False)"
      ],
      "metadata": {
        "id": "ezto7JJZPKyx"
      },
      "execution_count": null,
      "outputs": []
    },
    {
      "cell_type": "code",
      "source": [
        "with open('./drive/My Drive/course_work/stanza_rez_features.csv', encoding='utf-8', errors='ignore') as csvfile:\n",
        "    stanza_df = pd.read_csv(csvfile, sep=';')"
      ],
      "metadata": {
        "id": "T_-P1iKAPN8k"
      },
      "execution_count": null,
      "outputs": []
    },
    {
      "cell_type": "code",
      "source": [
        "indexes = stanza_df.index.copy()\n",
        "YN_binar = {'Y': 1, 'N': 0, 'y': 1, 'n': 0}\n",
        "\n",
        "for i in tqdm(range(len(indexes))):\n",
        "  Y_N_place = stanza_df.loc[indexes[i], 'is_place']\n",
        "  stanza_df.loc[indexes[i], 'is_place'] = YN_binar[Y_N_place]\n",
        "\n",
        "  Y_N_SP = stanza_df.loc[indexes[i], 'is_SP']\n",
        "  stanza_df.loc[indexes[i], 'is_SP'] = YN_binar[Y_N_SP]\n"
      ],
      "metadata": {
        "colab": {
          "base_uri": "https://localhost:8080/",
          "height": 49,
          "referenced_widgets": [
            "8f900fdf1fef4d578ec2988b071e5aae",
            "9188ef89315d40b68ba82c967236e528",
            "c7051a71278b4c058902062ffd01a4f1",
            "a4d53810fa0c4321a78b2f728527291d",
            "b3a764d949c84bafab804002cff792c4",
            "99cba4e1de6741c6bf97b802e399e618",
            "eb14cdae342c4f22acd43e89fdfab2b8",
            "e53ae67612ec47e489aac1a69a858041",
            "623036a197a14fc49b16905ecb7109ad",
            "f73659ef7264417996ef427275c71479",
            "0435bf2b052d4fdb8d0a10453e5a65fa"
          ]
        },
        "id": "aibn67l8dIf5",
        "outputId": "85678401-546b-4dae-8c52-a428da8da479"
      },
      "execution_count": null,
      "outputs": [
        {
          "output_type": "display_data",
          "data": {
            "text/plain": [
              "  0%|          | 0/64454 [00:00<?, ?it/s]"
            ],
            "application/vnd.jupyter.widget-view+json": {
              "version_major": 2,
              "version_minor": 0,
              "model_id": "8f900fdf1fef4d578ec2988b071e5aae"
            }
          },
          "metadata": {}
        }
      ]
    },
    {
      "cell_type": "code",
      "source": [
        "stanza_df.to_csv('./drive/My Drive/course_work/stanza_rez_features_bin.csv', sep=';', index=False)"
      ],
      "metadata": {
        "id": "mIsy_o-cekUK"
      },
      "execution_count": null,
      "outputs": []
    },
    {
      "cell_type": "markdown",
      "source": [
        "##### Обучение"
      ],
      "metadata": {
        "id": "BmtwXMaM7Bbv"
      }
    },
    {
      "cell_type": "code",
      "source": [
        "from google.colab import drive\n",
        "import pandas as pd\n",
        "\n",
        "\n",
        "drive.mount('/content/drive')"
      ],
      "metadata": {
        "id": "ajeXGM547G3j",
        "colab": {
          "base_uri": "https://localhost:8080/"
        },
        "outputId": "9f343bae-1522-44bf-dea4-916ab072d1e5"
      },
      "execution_count": 48,
      "outputs": [
        {
          "output_type": "stream",
          "name": "stdout",
          "text": [
            "Drive already mounted at /content/drive; to attempt to forcibly remount, call drive.mount(\"/content/drive\", force_remount=True).\n"
          ]
        }
      ]
    },
    {
      "cell_type": "code",
      "source": [
        "with open('./drive/My Drive/course_work/stanza_rez_features_bin.csv', encoding='utf-8', errors='ignore') as csvfile:\n",
        "    stanza_df = pd.read_csv(csvfile, sep=';')"
      ],
      "metadata": {
        "id": "QxfqkUue7H75"
      },
      "execution_count": 49,
      "outputs": []
    },
    {
      "cell_type": "code",
      "source": [
        "import numpy as np \n",
        "from sklearn import tree\n",
        "from sklearn.model_selection import train_test_split \n",
        "from sklearn.metrics import classification_report "
      ],
      "metadata": {
        "id": "pO4FrIPZyL48"
      },
      "execution_count": 50,
      "outputs": []
    },
    {
      "cell_type": "code",
      "source": [
        "import pandas as pd\n",
        "import matplotlib.pyplot as plt\n",
        "import seaborn as sns\n",
        "%matplotlib inline\n",
        "pd.set_option('display.max_columns', None)"
      ],
      "metadata": {
        "id": "jDA33afb-tYU"
      },
      "execution_count": 62,
      "outputs": []
    },
    {
      "cell_type": "code",
      "source": [
        "df = stanza_df"
      ],
      "metadata": {
        "id": "CWAzW6-wzVSi"
      },
      "execution_count": 51,
      "outputs": []
    },
    {
      "cell_type": "code",
      "source": [
        "df = df.fillna(method='ffill')"
      ],
      "metadata": {
        "id": "vXj92-Iuzcxz"
      },
      "execution_count": 52,
      "outputs": []
    },
    {
      "cell_type": "code",
      "source": [
        "df.groupby('is_place').size().reset_index(name='counts')"
      ],
      "metadata": {
        "colab": {
          "base_uri": "https://localhost:8080/",
          "height": 112
        },
        "id": "cMp-otj3zTi7",
        "outputId": "b396d6b8-0294-46cb-89f5-ee1c8963a14c"
      },
      "execution_count": 53,
      "outputs": [
        {
          "output_type": "execute_result",
          "data": {
            "text/plain": [
              "   is_place  counts\n",
              "0         0   26862\n",
              "1         1   37592"
            ],
            "text/html": [
              "\n",
              "  <div id=\"df-4e78d9b8-d9e1-4533-83b8-187d57d526a8\">\n",
              "    <div class=\"colab-df-container\">\n",
              "      <div>\n",
              "<style scoped>\n",
              "    .dataframe tbody tr th:only-of-type {\n",
              "        vertical-align: middle;\n",
              "    }\n",
              "\n",
              "    .dataframe tbody tr th {\n",
              "        vertical-align: top;\n",
              "    }\n",
              "\n",
              "    .dataframe thead th {\n",
              "        text-align: right;\n",
              "    }\n",
              "</style>\n",
              "<table border=\"1\" class=\"dataframe\">\n",
              "  <thead>\n",
              "    <tr style=\"text-align: right;\">\n",
              "      <th></th>\n",
              "      <th>is_place</th>\n",
              "      <th>counts</th>\n",
              "    </tr>\n",
              "  </thead>\n",
              "  <tbody>\n",
              "    <tr>\n",
              "      <th>0</th>\n",
              "      <td>0</td>\n",
              "      <td>26862</td>\n",
              "    </tr>\n",
              "    <tr>\n",
              "      <th>1</th>\n",
              "      <td>1</td>\n",
              "      <td>37592</td>\n",
              "    </tr>\n",
              "  </tbody>\n",
              "</table>\n",
              "</div>\n",
              "      <button class=\"colab-df-convert\" onclick=\"convertToInteractive('df-4e78d9b8-d9e1-4533-83b8-187d57d526a8')\"\n",
              "              title=\"Convert this dataframe to an interactive table.\"\n",
              "              style=\"display:none;\">\n",
              "        \n",
              "  <svg xmlns=\"http://www.w3.org/2000/svg\" height=\"24px\"viewBox=\"0 0 24 24\"\n",
              "       width=\"24px\">\n",
              "    <path d=\"M0 0h24v24H0V0z\" fill=\"none\"/>\n",
              "    <path d=\"M18.56 5.44l.94 2.06.94-2.06 2.06-.94-2.06-.94-.94-2.06-.94 2.06-2.06.94zm-11 1L8.5 8.5l.94-2.06 2.06-.94-2.06-.94L8.5 2.5l-.94 2.06-2.06.94zm10 10l.94 2.06.94-2.06 2.06-.94-2.06-.94-.94-2.06-.94 2.06-2.06.94z\"/><path d=\"M17.41 7.96l-1.37-1.37c-.4-.4-.92-.59-1.43-.59-.52 0-1.04.2-1.43.59L10.3 9.45l-7.72 7.72c-.78.78-.78 2.05 0 2.83L4 21.41c.39.39.9.59 1.41.59.51 0 1.02-.2 1.41-.59l7.78-7.78 2.81-2.81c.8-.78.8-2.07 0-2.86zM5.41 20L4 18.59l7.72-7.72 1.47 1.35L5.41 20z\"/>\n",
              "  </svg>\n",
              "      </button>\n",
              "      \n",
              "  <style>\n",
              "    .colab-df-container {\n",
              "      display:flex;\n",
              "      flex-wrap:wrap;\n",
              "      gap: 12px;\n",
              "    }\n",
              "\n",
              "    .colab-df-convert {\n",
              "      background-color: #E8F0FE;\n",
              "      border: none;\n",
              "      border-radius: 50%;\n",
              "      cursor: pointer;\n",
              "      display: none;\n",
              "      fill: #1967D2;\n",
              "      height: 32px;\n",
              "      padding: 0 0 0 0;\n",
              "      width: 32px;\n",
              "    }\n",
              "\n",
              "    .colab-df-convert:hover {\n",
              "      background-color: #E2EBFA;\n",
              "      box-shadow: 0px 1px 2px rgba(60, 64, 67, 0.3), 0px 1px 3px 1px rgba(60, 64, 67, 0.15);\n",
              "      fill: #174EA6;\n",
              "    }\n",
              "\n",
              "    [theme=dark] .colab-df-convert {\n",
              "      background-color: #3B4455;\n",
              "      fill: #D2E3FC;\n",
              "    }\n",
              "\n",
              "    [theme=dark] .colab-df-convert:hover {\n",
              "      background-color: #434B5C;\n",
              "      box-shadow: 0px 1px 3px 1px rgba(0, 0, 0, 0.15);\n",
              "      filter: drop-shadow(0px 1px 2px rgba(0, 0, 0, 0.3));\n",
              "      fill: #FFFFFF;\n",
              "    }\n",
              "  </style>\n",
              "\n",
              "      <script>\n",
              "        const buttonEl =\n",
              "          document.querySelector('#df-4e78d9b8-d9e1-4533-83b8-187d57d526a8 button.colab-df-convert');\n",
              "        buttonEl.style.display =\n",
              "          google.colab.kernel.accessAllowed ? 'block' : 'none';\n",
              "\n",
              "        async function convertToInteractive(key) {\n",
              "          const element = document.querySelector('#df-4e78d9b8-d9e1-4533-83b8-187d57d526a8');\n",
              "          const dataTable =\n",
              "            await google.colab.kernel.invokeFunction('convertToInteractive',\n",
              "                                                     [key], {});\n",
              "          if (!dataTable) return;\n",
              "\n",
              "          const docLinkHtml = 'Like what you see? Visit the ' +\n",
              "            '<a target=\"_blank\" href=https://colab.research.google.com/notebooks/data_table.ipynb>data table notebook</a>'\n",
              "            + ' to learn more about interactive tables.';\n",
              "          element.innerHTML = '';\n",
              "          dataTable['output_type'] = 'display_data';\n",
              "          await google.colab.output.renderOutput(dataTable, element);\n",
              "          const docLink = document.createElement('div');\n",
              "          docLink.innerHTML = docLinkHtml;\n",
              "          element.appendChild(docLink);\n",
              "        }\n",
              "      </script>\n",
              "    </div>\n",
              "  </div>\n",
              "  "
            ]
          },
          "metadata": {},
          "execution_count": 53
        }
      ]
    },
    {
      "cell_type": "code",
      "source": [
        "X = df[['entity', 'relation', 'pos_natasha', 'pos_pymorphy2', 'length', 'words_number', 'main_word_length', 'mean_word_length']]\n",
        "y = df[['is_place']]\n",
        "\n",
        "classes = np.unique(y)\n",
        "classes = classes.tolist()\n",
        "\n",
        "X_train, X_test, y_train, y_test = train_test_split(X, y, test_size = 0.20, random_state=0)\n",
        "\n",
        "X_train.shape, y_train.shape"
      ],
      "metadata": {
        "colab": {
          "base_uri": "https://localhost:8080/"
        },
        "id": "MPvspGK3yQdD",
        "outputId": "7300d347-b809-4dce-bdde-6630b041e6cc"
      },
      "execution_count": 54,
      "outputs": [
        {
          "output_type": "execute_result",
          "data": {
            "text/plain": [
              "((51563, 8), (51563, 1))"
            ]
          },
          "metadata": {},
          "execution_count": 54
        }
      ]
    },
    {
      "cell_type": "code",
      "source": [
        "from sklearn.pipeline import Pipeline\n",
        "from sklearn.preprocessing import OneHotEncoder, StandardScaler\n",
        "from sklearn.compose import ColumnTransformer\n",
        "from sklearn.impute import SimpleImputer\n",
        "\n",
        "\n",
        "numeric_features = ['length', 'words_number', 'main_word_length', 'mean_word_length']\n",
        "numeric_transformer = Pipeline(\n",
        "    steps=[(\"imputer\", SimpleImputer(strategy=\"median\")), (\"scaler\", StandardScaler())]\n",
        ")\n",
        "\n",
        "categorical_features = ['entity', 'relation', 'pos_natasha', 'pos_pymorphy2']\n",
        "categorical_transformer = OneHotEncoder(handle_unknown=\"ignore\")\n",
        "\n",
        "preprocessor = ColumnTransformer(\n",
        "    transformers=[\n",
        "        (\"num\", numeric_transformer, numeric_features),\n",
        "        (\"cat\", categorical_transformer, categorical_features),\n",
        "    ]\n",
        ")\n"
      ],
      "metadata": {
        "id": "fAswahVQ2FNi"
      },
      "execution_count": 55,
      "outputs": []
    },
    {
      "cell_type": "code",
      "source": [
        "from sklearn.metrics import confusion_matrix\n",
        "\n",
        "def cm_analysis(y_true, y_pred, filename, labels, ymap=None, figsize=(10, 10)):\n",
        "    if ymap is not None:\n",
        "        y_pred = [ymap[yi] for yi in y_pred]\n",
        "        y_true = [ymap[yi] for yi in y_true]\n",
        "        labels = [ymap[yi] for yi in labels]\n",
        "    cm = confusion_matrix(y_true, y_pred, labels=labels)\n",
        "    cm_sum = np.sum(cm, axis=1, keepdims=True)\n",
        "    cm_perc = cm / cm_sum.astype(float) * 100\n",
        "    annot = np.empty_like(cm).astype(str)\n",
        "    nrows, ncols = cm.shape\n",
        "    for i in range(nrows):\n",
        "        for j in range(ncols):\n",
        "            c = cm[i, j]\n",
        "            p = cm_perc[i, j]\n",
        "            if i == j:\n",
        "                s = cm_sum[i]\n",
        "                annot[i, j] = '%.1f%%\\n%d/%d' % (p, c, s)\n",
        "            elif c == 0:\n",
        "                annot[i, j] = ''\n",
        "            else:\n",
        "                annot[i, j] = '%.1f%%\\n%d' % (p, c)\n",
        "    cm = pd.DataFrame(cm, index=labels, columns=labels)\n",
        "    cm.index.name = 'Actual'\n",
        "    cm.columns.name = 'Predicted'\n",
        "    fig, ax = plt.subplots(figsize=figsize)\n",
        "    sns.heatmap(cm, annot=annot, fmt='', ax=ax, cmap='rocket_r')\n",
        "    plt.savefig(filename)"
      ],
      "metadata": {
        "id": "7zRBoCBC-ZQs"
      },
      "execution_count": 57,
      "outputs": []
    },
    {
      "cell_type": "code",
      "source": [
        "dtc = Pipeline(\n",
        "    steps=[(\"preprocessor\", preprocessor), (\"classifier\", tree.DecisionTreeClassifier(random_state=0, max_depth=1000))]\n",
        ")\n",
        "\n",
        "result = dtc.fit(X_train, y_train)\n",
        "pred = result.predict(X_test)"
      ],
      "metadata": {
        "id": "3qr04WmA59xX"
      },
      "execution_count": 58,
      "outputs": []
    },
    {
      "cell_type": "code",
      "source": [
        "labels = dtc.classes_\n",
        "cm_analysis(y_test, pred, 'cm_decisiontree_stanza.png', labels, figsize=(len(labels), len(labels)))"
      ],
      "metadata": {
        "colab": {
          "base_uri": "https://localhost:8080/",
          "height": 171
        },
        "id": "WVL8iw9Z-BPz",
        "outputId": "4bb35326-f71c-4d5c-b654-da93eb36a491"
      },
      "execution_count": 63,
      "outputs": [
        {
          "output_type": "display_data",
          "data": {
            "text/plain": [
              "<Figure size 144x144 with 2 Axes>"
            ],
            "image/png": "[encoded data removed]"
          },
          "metadata": {
            "needs_background": "light"
          }
        }
      ]
    },
    {
      "cell_type": "code",
      "source": [
        "print(classification_report(y_pred=dtc.predict(X_test), y_true=y_test, labels=classes))"
      ],
      "metadata": {
        "colab": {
          "base_uri": "https://localhost:8080/"
        },
        "id": "3XH_ZNow6Y6X",
        "outputId": "8cac9f1e-9b6f-404a-dbf0-9e469868c06e"
      },
      "execution_count": 89,
      "outputs": [
        {
          "output_type": "stream",
          "name": "stdout",
          "text": [
            "              precision    recall  f1-score   support\n",
            "\n",
            "           0       0.83      0.75      0.79      5372\n",
            "           1       0.83      0.89      0.86      7519\n",
            "\n",
            "    accuracy                           0.83     12891\n",
            "   macro avg       0.83      0.82      0.82     12891\n",
            "weighted avg       0.83      0.83      0.83     12891\n",
            "\n"
          ]
        }
      ]
    },
    {
      "cell_type": "code",
      "source": [
        "from sklearn import svm"
      ],
      "metadata": {
        "id": "VPXzswRe6qyT"
      },
      "execution_count": 65,
      "outputs": []
    },
    {
      "cell_type": "code",
      "source": [
        "svc_c = Pipeline(\n",
        "    steps=[(\"preprocessor\", preprocessor), (\"classifier\", svm.SVC(decision_function_shape='ovo'))]\n",
        ")\n",
        "\n",
        "result = svc_c.fit(X_train, y_train)\n",
        "pred = result.predict(X_test)\n"
      ],
      "metadata": {
        "colab": {
          "base_uri": "https://localhost:8080/"
        },
        "id": "SxT8DDwK6qz4",
        "outputId": "31d3fac6-9db8-4a9b-f1f1-0d223d31df00"
      },
      "execution_count": 66,
      "outputs": [
        {
          "output_type": "stream",
          "name": "stderr",
          "text": [
            "/usr/local/lib/python3.7/dist-packages/sklearn/utils/validation.py:993: DataConversionWarning: A column-vector y was passed when a 1d array was expected. Please change the shape of y to (n_samples, ), for example using ravel().\n",
            "  y = column_or_1d(y, warn=True)\n"
          ]
        }
      ]
    },
    {
      "cell_type": "code",
      "source": [
        "labels = svc_c.classes_\n",
        "cm_analysis(y_test, pred, 'cm_svc_stanza.png', labels, figsize=(len(labels), len(labels)))"
      ],
      "metadata": {
        "colab": {
          "base_uri": "https://localhost:8080/",
          "height": 171
        },
        "id": "LDNqoKTH_Dx_",
        "outputId": "7a4798e4-8b18-4324-c925-e400a608e958"
      },
      "execution_count": 68,
      "outputs": [
        {
          "output_type": "display_data",
          "data": {
            "text/plain": [
              "<Figure size 144x144 with 2 Axes>"
            ],
            "image/png": "[encoded data removed]"
          },
          "metadata": {
            "needs_background": "light"
          }
        }
      ]
    },
    {
      "cell_type": "code",
      "source": [
        "print(classification_report(y_pred=svc_c.predict(X_test), y_true=y_test, labels=classes))"
      ],
      "metadata": {
        "colab": {
          "base_uri": "https://localhost:8080/"
        },
        "id": "zeCg1J2Py6eX",
        "outputId": "029bf3a9-6f9f-43a1-b88e-6ea9aca0560b"
      },
      "execution_count": 11,
      "outputs": [
        {
          "output_type": "stream",
          "name": "stdout",
          "text": [
            "              precision    recall  f1-score   support\n",
            "\n",
            "           0       0.84      0.68      0.75      5372\n",
            "           1       0.80      0.91      0.85      7519\n",
            "\n",
            "    accuracy                           0.81     12891\n",
            "   macro avg       0.82      0.79      0.80     12891\n",
            "weighted avg       0.82      0.81      0.81     12891\n",
            "\n"
          ]
        }
      ]
    },
    {
      "cell_type": "code",
      "source": [
        "from sklearn.linear_model import LogisticRegression"
      ],
      "metadata": {
        "id": "_26V27tvFQF4"
      },
      "execution_count": 69,
      "outputs": []
    },
    {
      "cell_type": "code",
      "source": [
        "lr = Pipeline(\n",
        "    steps=[(\"preprocessor\", preprocessor), (\"classifier\", LogisticRegression())]\n",
        ")\n",
        "\n",
        "result = lr.fit(X_train, y_train)\n",
        "pred = result.predict(X_test)"
      ],
      "metadata": {
        "colab": {
          "base_uri": "https://localhost:8080/"
        },
        "id": "CGuMYE9x76Ke",
        "outputId": "0cfb6248-8445-4064-d3e1-048dff8f38bb"
      },
      "execution_count": 70,
      "outputs": [
        {
          "output_type": "stream",
          "name": "stderr",
          "text": [
            "/usr/local/lib/python3.7/dist-packages/sklearn/utils/validation.py:993: DataConversionWarning: A column-vector y was passed when a 1d array was expected. Please change the shape of y to (n_samples, ), for example using ravel().\n",
            "  y = column_or_1d(y, warn=True)\n",
            "/usr/local/lib/python3.7/dist-packages/sklearn/linear_model/_logistic.py:818: ConvergenceWarning: lbfgs failed to converge (status=1):\n",
            "STOP: TOTAL NO. of ITERATIONS REACHED LIMIT.\n",
            "\n",
            "Increase the number of iterations (max_iter) or scale the data as shown in:\n",
            "    https://scikit-learn.org/stable/modules/preprocessing.html\n",
            "Please also refer to the documentation for alternative solver options:\n",
            "    https://scikit-learn.org/stable/modules/linear_model.html#logistic-regression\n",
            "  extra_warning_msg=_LOGISTIC_SOLVER_CONVERGENCE_MSG,\n"
          ]
        }
      ]
    },
    {
      "cell_type": "code",
      "source": [
        "labels = lr.classes_\n",
        "cm_analysis(y_test, pred, 'cm_svc_stanza.png', labels, figsize=(len(labels), len(labels)))"
      ],
      "metadata": {
        "colab": {
          "base_uri": "https://localhost:8080/",
          "height": 171
        },
        "id": "8RRcnj2m_QJL",
        "outputId": "96dea8a8-615e-46f5-d361-ce730acd3d26"
      },
      "execution_count": 71,
      "outputs": [
        {
          "output_type": "display_data",
          "data": {
            "text/plain": [
              "<Figure size 144x144 with 2 Axes>"
            ],
            "image/png": "[encoded data removed]"
          },
          "metadata": {
            "needs_background": "light"
          }
        }
      ]
    },
    {
      "cell_type": "code",
      "source": [
        "print(classification_report(y_pred=lr.predict(X_test), y_true=y_test, labels=classes))"
      ],
      "metadata": {
        "colab": {
          "base_uri": "https://localhost:8080/"
        },
        "id": "hoeDCuKDFwD2",
        "outputId": "b5d57a47-34d2-4ce8-bd99-d98a6fffea93"
      },
      "execution_count": 14,
      "outputs": [
        {
          "output_type": "stream",
          "name": "stdout",
          "text": [
            "              precision    recall  f1-score   support\n",
            "\n",
            "           0       0.86      0.72      0.78      5372\n",
            "           1       0.82      0.91      0.86      7519\n",
            "\n",
            "    accuracy                           0.83     12891\n",
            "   macro avg       0.84      0.82      0.82     12891\n",
            "weighted avg       0.83      0.83      0.83     12891\n",
            "\n"
          ]
        }
      ]
    },
    {
      "cell_type": "markdown",
      "source": [
        "## Сравнение инструментов"
      ],
      "metadata": {
        "id": "LwGvGmJBAWgz"
      }
    },
    {
      "cell_type": "markdown",
      "source": [
        "##### Обработка текстов"
      ],
      "metadata": {
        "id": "6ZcTZdbwF8fL"
      }
    },
    {
      "cell_type": "code",
      "source": [
        "!pip install prereform2modern"
      ],
      "metadata": {
        "id": "U7k718JWGCnv"
      },
      "execution_count": null,
      "outputs": []
    },
    {
      "cell_type": "code",
      "source": [
        "from os import listdir, remove\n",
        "from prereform2modern import Processor\n",
        "from tqdm.auto import tqdm"
      ],
      "metadata": {
        "id": "pXSYG5t0GAA_"
      },
      "execution_count": null,
      "outputs": []
    },
    {
      "cell_type": "code",
      "source": [
        "files = listdir('lit')\n",
        "\n",
        "for file in files:\n",
        "    if '.old.txt' in file:\n",
        "        new_name = file.split('.')\n",
        "        del new_name[-2]\n",
        "        new_name = '.'.join(new_name)\n",
        "        with open('lit/'+file, 'r', encoding='utf-8') as f:\n",
        "            orig_text = f.read()\n",
        "            text_res, changes, s_json = Processor.process_text(\n",
        "                text=orig_text,\n",
        "                show=False,\n",
        "                delimiters=False,\n",
        "                check_brackets=False\n",
        "                )\n",
        "            with open('lit/'+new_name, 'w', encoding='utf-8') as f_to_write:\n",
        "                f_to_write.write(text_res)\n",
        "        remove('lit/'+file)"
      ],
      "metadata": {
        "id": "r69WyLDXGVxa"
      },
      "execution_count": null,
      "outputs": []
    },
    {
      "cell_type": "code",
      "source": [
        "files = listdir('lit')\n",
        "sp_count = []\n",
        "for i in tqdm(range(len(files))):\n",
        "    with open('lit/'+files[i], 'r', encoding='utf-8') as f:\n",
        "        words = f.read().split(' ')\n",
        "        n = 0\n",
        "        for word in words:\n",
        "            if 'петербур' in word.lower() or 'ленинград' in word.lower():\n",
        "                n+=1\n",
        "        if n != 0:\n",
        "            sp_count.append((files[i], n))"
      ],
      "metadata": {
        "id": "XvaObwX_GaPT"
      },
      "execution_count": null,
      "outputs": []
    },
    {
      "cell_type": "code",
      "source": [
        "for narrative in sp_count:\n",
        "    with open('lit/'+narrative[0], 'r', encoding='utf-8') as file:\n",
        "        text = file.read()\n",
        "        with open('lit/saint_p/'+narrative[0], 'w', encoding='utf-8') as f2write:\n",
        "            f2write.write(text)"
      ],
      "metadata": {
        "id": "gMqbITi5Gaze"
      },
      "execution_count": null,
      "outputs": []
    },
    {
      "cell_type": "markdown",
      "source": [
        "##### Поиск сущностей с помощью *библиотек*"
      ],
      "metadata": {
        "id": "0HzYlhyFhxYP"
      }
    },
    {
      "cell_type": "code",
      "source": [
        "from tqdm.auto import tqdm\n",
        "from google.colab import drive\n",
        "import csv\n",
        "import pandas as pd\n",
        "from statistics import mean\n",
        "\n",
        "\n",
        "drive.mount('/content/drive')"
      ],
      "metadata": {
        "colab": {
          "base_uri": "https://localhost:8080/"
        },
        "id": "HSywLTLosxqu",
        "outputId": "ce454894-1379-4e62-dbd0-851c6ef0ba20"
      },
      "execution_count": null,
      "outputs": [
        {
          "output_type": "stream",
          "name": "stdout",
          "text": [
            "Mounted at /content/drive\n"
          ]
        }
      ]
    },
    {
      "cell_type": "code",
      "source": [
        "with open('./drive/My Drive/course_work/sentences.csv', encoding='utf-8', errors='ignore') as csvfile:\n",
        "    sents_df = pd.read_csv(csvfile, sep='\\t')"
      ],
      "metadata": {
        "id": "crALtzbrsqy1"
      },
      "execution_count": 3,
      "outputs": []
    },
    {
      "cell_type": "code",
      "source": [
        "texts = list(set(list(stanza_sents_df['text'])))"
      ],
      "metadata": {
        "id": "chs_mabJtAIq"
      },
      "execution_count": 4,
      "outputs": []
    },
    {
      "cell_type": "code",
      "source": [
        "lengths = []\n",
        "for text in texts:\n",
        "  lengths.append(len(sents_df[sents_df['text']==text]['sentence']))"
      ],
      "metadata": {
        "id": "cfA4QNRx3ul0"
      },
      "execution_count": 7,
      "outputs": []
    },
    {
      "cell_type": "code",
      "source": [
        "print(max(lengths), min(lengths), mean(lengths))"
      ],
      "metadata": {
        "colab": {
          "base_uri": "https://localhost:8080/"
        },
        "id": "NjI7-Nre4F7c",
        "outputId": "3e92f188-1420-4556-ad16-d62bfe6b1bcc"
      },
      "execution_count": 10,
      "outputs": [
        {
          "output_type": "stream",
          "name": "stdout",
          "text": [
            "30657 355 4822.105651105651\n"
          ]
        }
      ]
    },
    {
      "cell_type": "code",
      "source": [
        "def save_results(ents, mod):\n",
        "    with open('./drive/My Drive/course_work/course_results_' + mod + '.csv', 'a', encoding='utf-8') as csv_file:\n",
        "        file_writer = csv.writer(csv_file, delimiter = '\\t')\n",
        "        file_writer.writerow(['text', 'entity', 'entries'])\n",
        "        for text_ent in ents:\n",
        "            all_ents = text_ent[list(text_ent)[0]]\n",
        "            for one_ent in list(all_ents):\n",
        "                file_writer.writerow([list(text_ent)[0], one_ent, list(set(all_ents[one_ent]))])"
      ],
      "metadata": {
        "id": "DY9QwBRCshbT"
      },
      "execution_count": null,
      "outputs": []
    },
    {
      "cell_type": "code",
      "source": [
        "!pip install polyglot\n",
        "!pip install pyicu\n",
        "!pip install pycld2\n",
        "!pip install morfessor"
      ],
      "metadata": {
        "id": "hm4KW3eGDfs6"
      },
      "execution_count": null,
      "outputs": []
    },
    {
      "cell_type": "code",
      "source": [
        "import polyglot\n",
        "from polyglot.text import Text\n",
        "\n",
        "!polyglot download embeddings2.ru ner2.ru"
      ],
      "metadata": {
        "id": "h_W4k1-9Dg0K"
      },
      "execution_count": null,
      "outputs": []
    },
    {
      "cell_type": "code",
      "source": [
        "def find_with_polyglot(texts): \n",
        "    all_texts_ents = []\n",
        "    for i in tqdm(range(len(texts))):\n",
        "        al = {}\n",
        "        text_df = stanza_sents_df[stanza_sents_df['text'] == texts[i]]\n",
        "        inds = list(text_df['index'])\n",
        "        for j in inds:\n",
        "            txt = text_df[text_df['index']==j]['sentence'].values[0]\n",
        "            text = Text(txt)\n",
        "            text.hint_language_code = 'ru'\n",
        "            entities = text.entities\n",
        "            for ent in entities:\n",
        "                if ent.tag == 'I-LOC':\n",
        "                    try:\n",
        "                        if j not in al[ent[0]]:\n",
        "                            al[ent[0]].append(j)\n",
        "                    except:\n",
        "                        al[ent[0]] = [j]\n",
        "        all_texts_ents.append({texts[i]: al})\n",
        "    return all_texts_ents"
      ],
      "metadata": {
        "id": "YS8U-AKzrX5A"
      },
      "execution_count": null,
      "outputs": []
    },
    {
      "cell_type": "code",
      "source": [
        "polyglot_results = find_with_polyglot(texts)\n",
        "save_results(polyglot_results, 'polyglot')"
      ],
      "metadata": {
        "colab": {
          "base_uri": "https://localhost:8080/",
          "height": 49,
          "referenced_widgets": [
            "aac2031343964883946eabb60c23e84c",
            "068b61f17c274de3be70200c90b52da5",
            "d3d5e0e0bc184bbbbf519f58c8b6d51d",
            "5b092537b1d84eb697a7330d2bedcb70",
            "1b4a63e1845d4fcca7fb213c36482b7d",
            "0865fc48f9c54519ab7e4467798d18cf",
            "36167d87a4004ea9bd5983675ee5ad36",
            "de19d43ef18143e3a6cc6728bb60b69a",
            "be0c4e56f5af45f4b2edf150ddd3677f",
            "4b04e07cf75c47598d2edf156cbb4954",
            "6848f20e9a1e4e1e9228919d205143c3"
          ]
        },
        "id": "aHiEJOCZrYK5",
        "outputId": "1b7d4233-9324-4f54-c0c2-7fb14f259996"
      },
      "execution_count": null,
      "outputs": [
        {
          "output_type": "display_data",
          "data": {
            "text/plain": [
              "  0%|          | 0/407 [00:00<?, ?it/s]"
            ],
            "application/vnd.jupyter.widget-view+json": {
              "version_major": 2,
              "version_minor": 0,
              "model_id": "aac2031343964883946eabb60c23e84c"
            }
          },
          "metadata": {}
        }
      ]
    },
    {
      "cell_type": "code",
      "source": [
        "!pip install spacy"
      ],
      "metadata": {
        "id": "2AuZGrFEB_8s"
      },
      "execution_count": null,
      "outputs": []
    },
    {
      "cell_type": "code",
      "source": [
        "def find_with_spacy(texts):\n",
        "    all_texts_ents = []\n",
        "    nlp = spacy.load('ru_core_news_lg')\n",
        "    for i in tqdm(range(len(texts))):\n",
        "        text_df = stanza_sents_df[stanza_sents_df['text'] == texts[i]]\n",
        "        inds = list(text_df['index'])\n",
        "        al = {}\n",
        "        for j in inds:\n",
        "            txt = text_df[text_df['index']==j]['sentence'].values[0]\n",
        "            entities = nlp(txt).ents\n",
        "            for ent in entities:\n",
        "                if ent.label_ == 'LOC':\n",
        "                    s = re.sub('\\t', ' ', ent.text.strip())\n",
        "                    s = re.sub('\\n', ' ', s)\n",
        "                    s = re.sub('[!\\?\\*\\{\\}\\[\\]\\`\\®\\^\\…\\'\\\"]', ' ', s)\n",
        "                    s = re.sub(' +', ' ', s)\n",
        "                    if s[0] == ' ':\n",
        "                        s = s.lstrip(' ')\n",
        "                    if s[-1] == ' ':\n",
        "                        s = s.rstrip(' ')\n",
        "                    try:\n",
        "                        if j not in al[s]:\n",
        "                            al[s].append(j)\n",
        "                    except:\n",
        "                        al[s] = [j]\n",
        "        all_texts_ents.append({texts[i]: al})\n",
        "    return all_texts_ents\n"
      ],
      "metadata": {
        "id": "ulaNApz1B4E8"
      },
      "execution_count": null,
      "outputs": []
    },
    {
      "cell_type": "code",
      "source": [
        "spacy_results = find_with_spacy(texts)\n",
        "save_results(spacy_results, 'spacy')"
      ],
      "metadata": {
        "id": "i0RgUda7B5jv"
      },
      "execution_count": null,
      "outputs": []
    },
    {
      "cell_type": "code",
      "source": [
        "!pip install natasha"
      ],
      "metadata": {
        "id": "77RP3f1ntgSI"
      },
      "execution_count": null,
      "outputs": []
    },
    {
      "cell_type": "code",
      "source": [
        "from natasha import (\n",
        "    Segmenter,\n",
        "    MorphVocab,\n",
        "    \n",
        "    NewsEmbedding,\n",
        "    NewsMorphTagger,\n",
        "    NewsSyntaxParser,\n",
        "    NewsNERTagger,\n",
        "\n",
        "    Doc\n",
        ")\n",
        "emb = NewsEmbedding()\n",
        "segmenter = Segmenter()\n",
        "ner_tagger = NewsNERTagger(emb)\n"
      ],
      "metadata": {
        "id": "2L9nnCRhtZIY"
      },
      "execution_count": null,
      "outputs": []
    },
    {
      "cell_type": "code",
      "source": [
        "def find_with_natasha(texts): \n",
        "    all_texts_ents = []\n",
        "    for i in tqdm(range(len(texts))):\n",
        "        al = {}\n",
        "        text_df = stanza_sents_df[stanza_sents_df['text'] == texts[i]]\n",
        "        inds = list(text_df['index'])\n",
        "        for j in inds:\n",
        "            txt = text_df[text_df['index']==j]['sentence'].values[0]\n",
        "            doc = Doc(txt)\n",
        "            doc.segment(segmenter)\n",
        "            doc.tag_ner(ner_tagger)\n",
        "            entities = doc.spans\n",
        "            for ent in entities:\n",
        "                if ent.type == 'LOC':\n",
        "                    try:\n",
        "                        if j not in al[ent.text]:\n",
        "                            al[ent.text].append(j)\n",
        "                    except:\n",
        "                        al[ent.text] = [j]\n",
        "        all_texts_ents.append({texts[i]: al})\n",
        "    return all_texts_ents"
      ],
      "metadata": {
        "id": "RTwJj1iFrYQa"
      },
      "execution_count": null,
      "outputs": []
    },
    {
      "cell_type": "code",
      "source": [
        "natasha_results = find_with_natasha(texts)\n",
        "save_results(natasha_results, 'natasha')"
      ],
      "metadata": {
        "colab": {
          "base_uri": "https://localhost:8080/",
          "height": 49,
          "referenced_widgets": [
            "12d1b5049ad441399f1026332e8c1944",
            "e97179c91ca142bb82a2a95dc3e7b773",
            "5544d451afb444b2acef2c3e004a9cda",
            "3bd28b93180a43db8b3e6fe6315ef0c2",
            "f1d3cf2ab86c4377ad1ce0575040ee70",
            "f680db95bf0f42c7bd431a6cdb20c007",
            "580f91dcea4f4ff3a99321aea2f50e14",
            "fe0f19f2fa1f4d02b0357674be3dcddf",
            "75af7155738c4c3e94d42a59ecfb6d3d",
            "cfd4022054ec412899ad4d5c2576300f",
            "eeb4c2aff1ef4f5bb28eed137885960d"
          ]
        },
        "id": "IrPSVJhhtei9",
        "outputId": "fa935585-1a1a-4d38-90fb-513eca047ea6"
      },
      "execution_count": null,
      "outputs": [
        {
          "output_type": "display_data",
          "data": {
            "text/plain": [
              "  0%|          | 0/407 [00:00<?, ?it/s]"
            ],
            "application/vnd.jupyter.widget-view+json": {
              "version_major": 2,
              "version_minor": 0,
              "model_id": "12d1b5049ad441399f1026332e8c1944"
            }
          },
          "metadata": {}
        }
      ]
    },
    {
      "cell_type": "code",
      "source": [
        "!pip install stanza"
      ],
      "metadata": {
        "id": "mX4fmT3WCIjN"
      },
      "execution_count": null,
      "outputs": []
    },
    {
      "cell_type": "code",
      "source": [
        "import stanza\n",
        "stanza.download('ru')"
      ],
      "metadata": {
        "id": "Nm1__dY0CHNT"
      },
      "execution_count": null,
      "outputs": []
    },
    {
      "cell_type": "code",
      "source": [
        "def find_with_stanza(files): \n",
        "    all_texts_ents = []\n",
        "    nlp = stanza.Pipeline(lang='ru', processors='tokenize,ner')\n",
        "    for i in tqdm(range(len(texts))):\n",
        "        al = {}\n",
        "        text_df = stanza_sents_df[stanza_sents_df['text'] == texts[i]]\n",
        "        inds = list(text_df['index'])\n",
        "        for j in inds:\n",
        "            txt = text_df[text_df['index']==j]['sentence'].values[0]\n",
        "            doc = nlp(txt)\n",
        "            nrrtv_text = doc.sentences\n",
        "            al = {}\n",
        "            for j in range(len(nrrtv_text)):\n",
        "                for ent in nrrtv_text[j].ents:\n",
        "                    if ent.type == 'LOC':\n",
        "                        s = re.sub('\\t', ' ', ent.text)\n",
        "                        s = re.sub('\\n', ' ', s)\n",
        "                        s = re.sub('[!\\?\\*\\{\\}\\[\\]\\`\\®\\^\\…\\'\\\"]', ' ', s)\n",
        "                        s = re.sub(' +', ' ', s)\n",
        "                        if s[0] == ' ':\n",
        "                            s = s.lstrip(' ')\n",
        "                        if s[-1] == ' ':\n",
        "                            s = s.rstrip(' ')\n",
        "                        try:\n",
        "                            if j+1 not in al[s]:\n",
        "                                al[s].append(j+1)\n",
        "                        except:\n",
        "                            al[s] = [j+1]\n",
        "            all_texts_ents.append({texts[i]: al})\n",
        "    return all_texts_ents"
      ],
      "metadata": {
        "id": "ox955wSeCMsn"
      },
      "execution_count": null,
      "outputs": []
    },
    {
      "cell_type": "code",
      "source": [
        "stanza_results = find_with_stanza(texts)\n",
        "save_results(stanza_results, 'stanza')"
      ],
      "metadata": {
        "id": "WMdINTSsCSRK"
      },
      "execution_count": null,
      "outputs": []
    },
    {
      "cell_type": "markdown",
      "source": [
        "##### Сравнение работы библиотек"
      ],
      "metadata": {
        "id": "EklVfSBph13Y"
      }
    },
    {
      "cell_type": "code",
      "source": [
        "from tqdm.auto import tqdm\n",
        "from google.colab import drive\n",
        "import pandas as pd\n",
        "import re\n",
        "\n",
        "\n",
        "drive.mount('/content/drive')"
      ],
      "metadata": {
        "colab": {
          "base_uri": "https://localhost:8080/"
        },
        "id": "KL5LZlOxh_1Y",
        "outputId": "eb4f550a-d43b-4d01-acd2-d039526355b9"
      },
      "execution_count": 1,
      "outputs": [
        {
          "output_type": "stream",
          "name": "stdout",
          "text": [
            "Mounted at /content/drive\n"
          ]
        }
      ]
    },
    {
      "cell_type": "code",
      "source": [
        "with open('./drive/My Drive/course_work/stanza_rez_features.csv', encoding='utf-8', errors='ignore') as csvfile:\n",
        "  stanza_df_first = pd.read_csv(csvfile, sep=';')"
      ],
      "metadata": {
        "id": "UZwtDIfnh442"
      },
      "execution_count": 24,
      "outputs": []
    },
    {
      "cell_type": "code",
      "source": [
        "with open('./drive/My Drive/course_work/course_results_natasha.csv', encoding='utf-8', errors='ignore') as csvfile:\n",
        "  natasha_df = pd.read_csv(csvfile, sep='\\t')\n",
        "with open('./drive/My Drive/course_work/stanza_rez.csv', encoding='utf-8', errors='ignore') as csvfile:\n",
        "  stanza_df = pd.read_csv(csvfile, sep=';')\n",
        "with open('./drive/My Drive/course_work/course_results_spacy.csv', encoding='utf-8', errors='ignore') as csvfile:\n",
        "  spacy_df = pd.read_csv(csvfile, sep='\\t')\n",
        "with open('./drive/My Drive/course_work/course_results_polyglot.csv', encoding='utf-8', errors='ignore') as csvfile:\n",
        "  polyglot_df = pd.read_csv(csvfile, sep='\\t')"
      ],
      "metadata": {
        "id": "9JJs_VH-7uLg"
      },
      "execution_count": 48,
      "outputs": []
    },
    {
      "cell_type": "code",
      "source": [
        "def count_entries(df):\n",
        "  entries = list(df['entries'])\n",
        "  c_entries = []\n",
        "  for entry in entries:\n",
        "    c_entry = len(entry.rstrip(']').lstrip('[').split(', '))\n",
        "    c_entries.append(c_entry)\n",
        "  return c_entries"
      ],
      "metadata": {
        "id": "gWGDKCNQjv6h"
      },
      "execution_count": 39,
      "outputs": []
    },
    {
      "cell_type": "code",
      "source": [
        "c_stanza_first = count_entries(stanza_df_first)\n",
        "stanza_df_first['count_entries'] = c_stanza_first"
      ],
      "metadata": {
        "id": "KCw06MWryBtu"
      },
      "execution_count": 40,
      "outputs": []
    },
    {
      "cell_type": "code",
      "source": [
        "c_polyglot = count_entries(polyglot_df)\n",
        "polyglot_df['count_entries'] = c_polyglot\n",
        "\n",
        "c_spacy = count_entries(spacy_df)\n",
        "spacy_df['count_entries'] = c_spacy\n",
        "\n",
        "c_natasha = count_entries(natasha_df)\n",
        "natasha_df['count_entries'] = c_natasha\n",
        "\n",
        "c_stanza = count_entries(stanza_df)\n",
        "stanza_df['count_entries'] = c_stanza"
      ],
      "metadata": {
        "id": "S4OKTFe-kZka"
      },
      "execution_count": null,
      "outputs": []
    },
    {
      "cell_type": "code",
      "source": [
        "texts = list(set(list(stanza_df['text'])))"
      ],
      "metadata": {
        "id": "2cJveYLIie7W"
      },
      "execution_count": 51,
      "outputs": []
    },
    {
      "cell_type": "code",
      "source": [
        "def clear_ents(df):\n",
        "  clear = []\n",
        "  for ent in list(df['entity']):\n",
        "    ent = re.sub('[\\n\\t]+', ' ', ent)\n",
        "    ent = re.sub('[^a-zA-Zа-яёА-ЯЁ\\- ]+', ' ', ent)\n",
        "    ent = re.sub(' +', ' ', ent)\n",
        "    clear.append(ent)\n",
        "  return clear"
      ],
      "metadata": {
        "id": "zEgJp6hLtFT0"
      },
      "execution_count": 43,
      "outputs": []
    },
    {
      "cell_type": "code",
      "source": [
        "stanza_df_first['clear_entity'] = clear_ents(stanza_df_first)"
      ],
      "metadata": {
        "id": "gszkTd33yL6S"
      },
      "execution_count": 52,
      "outputs": []
    },
    {
      "cell_type": "code",
      "source": [
        "polyglot_df['clear_entity'] = clear_ents(polyglot_df)\n",
        "\n",
        "spacy_df['clear_entity'] = clear_ents(spacy_df)\n",
        "\n",
        "natasha_df['clear_entity'] = clear_ents(natasha_df)"
      ],
      "metadata": {
        "id": "_thjd5vutaQD"
      },
      "execution_count": null,
      "outputs": []
    },
    {
      "cell_type": "code",
      "source": [
        "def compare_df(stanza_df, df, texts):\n",
        "  y_n_df = []\n",
        "  stanza_c = []\n",
        "  y_n_sp = []\n",
        "  missing = {}\n",
        "  for text in texts:\n",
        "    text_df = df[df['text']==text]\n",
        "\n",
        "    stanza_text_df = stanza_df[stanza_df['text']==text]\n",
        "    text_ents_stanza = list(stanza_text_df[stanza_text_df['is_place']=='Y']['entity'])\n",
        "    text_ents_df = list(text_df['clear_entity'])\n",
        "\n",
        "    for s_ent in text_ents_stanza:\n",
        "      if s_ent not in text_ents_df:\n",
        "        if s_ent not in missing.values():\n",
        "          missing[s_ent] = stanza_text_df[stanza_text_df['entity'] == s_ent]['count_entries'].values[0]\n",
        "        else:\n",
        "          missing[s_ent] += stanza_text_df[stanza_text_df['entity'] == s_ent]['count_entries'].values[0]\n",
        "\n",
        "    for ent in list(text_df['clear_entity']):\n",
        "      if ent not in text_ents_stanza:\n",
        "        stanza_c.append(0)\n",
        "        y_n_df.append('N')\n",
        "        y_n_sp.append('N')\n",
        "      else:\n",
        "        stanza_c.append(stanza_text_df[stanza_text_df['entity']==ent]['count_entries'].values[0])\n",
        "        y_n_df.append(stanza_text_df[stanza_text_df['entity']==ent]['is_place'].values[0])\n",
        "        y_n_sp.append(stanza_text_df[stanza_text_df['entity']==ent]['is_SP'].values[0])\n",
        "    \n",
        "  return stanza_c, y_n_df, y_n_sp, missing"
      ],
      "metadata": {
        "id": "lc7vCAUomICr"
      },
      "execution_count": 45,
      "outputs": []
    },
    {
      "cell_type": "code",
      "source": [
        "stanza_df_first['stanza_count'], stanza_df_first['is_place'], stanza_df_first['is_SP'], missing_in_stanza_first = compare_df(stanza_df, stanza_df_first, texts)\n"
      ],
      "metadata": {
        "id": "Y8qVn-2sySIb"
      },
      "execution_count": 53,
      "outputs": []
    },
    {
      "cell_type": "code",
      "source": [
        "polyglot_df['stanza_count'], polyglot_df['is_place'], polyglot_df['is_SP'], missing_in_polyglot = compare_df(stanza_df, polyglot_df, texts)\n",
        "\n",
        "spacy_df['stanza_count'], spacy_df['is_place'], spacy_df['is_SP'], missing_in_spacy = compare_df(stanza_df, spacy_df, texts)\n",
        "\n",
        "natasha_df['stanza_count'], natasha_df['is_place'], natasha_df['is_SP'], missing_in_natasha = compare_df(stanza_df, natasha_df, texts)"
      ],
      "metadata": {
        "id": "AqLU8Mg5nPPY"
      },
      "execution_count": null,
      "outputs": []
    },
    {
      "cell_type": "code",
      "source": [
        "print('stanza (первоначальный датасет)\\nВсего уникальных сущностей:', len(missing_in_stanza_first), '\\nВ сумме не угадано:', sum(list(missing_in_stanza_first.values())))"
      ],
      "metadata": {
        "colab": {
          "base_uri": "https://localhost:8080/"
        },
        "id": "eIToNLELzOhK",
        "outputId": "4a26de8e-afe5-4a21-8866-cfe7652786a9"
      },
      "execution_count": 56,
      "outputs": [
        {
          "output_type": "stream",
          "name": "stdout",
          "text": [
            "stanza (первоначальный датасет)\n",
            "Всего уникальных сущностей: 3 \n",
            "В сумме не угадано: 4\n"
          ]
        }
      ]
    },
    {
      "cell_type": "code",
      "source": [
        "print('polyglot\\nВсего уникальных сущностей:', len(missing_in_polyglot), '\\nВ сумме не угадано:', sum(list(missing_in_polyglot.values())))\n",
        "print('\\nspacy\\nВсего уникальных сущностей:', len(missing_in_spacy), '\\nВ сумме не угадано:', sum(list(missing_in_spacy.values())))\n",
        "print('\\nnatasha\\nВсего уникальных сущностей:', len(missing_in_natasha), '\\nВ сумме не угадано:', sum(list(missing_in_natasha.values())))"
      ],
      "metadata": {
        "colab": {
          "base_uri": "https://localhost:8080/"
        },
        "id": "nLOj3DL4vOAD",
        "outputId": "e1710e4f-8a15-4d4b-935c-dacb37541e22"
      },
      "execution_count": null,
      "outputs": [
        {
          "output_type": "stream",
          "name": "stdout",
          "text": [
            "polyglot\n",
            "Всего уникальных сущностей: 12611 \n",
            "В сумме не угадано: 18125\n",
            "\n",
            "spacy\n",
            "Всего уникальных сущностей: 6268 \n",
            "В сумме не угадано: 7912\n",
            "\n",
            "natasha\n",
            "Всего уникальных сущностей: 6103 \n",
            "В сумме не угадано: 7600\n"
          ]
        }
      ]
    },
    {
      "cell_type": "code",
      "source": [
        "polyglot_df['lib_difference'] = polyglot_df['stanza_count'] - polyglot_df['count_entries']\n",
        "spacy_df['lib_difference'] = spacy_df['stanza_count'] - spacy_df['count_entries']\n",
        "natasha_df['lib_difference'] = natasha_df['stanza_count'] - natasha_df['count_entries']"
      ],
      "metadata": {
        "id": "mAOzqCxvop3M"
      },
      "execution_count": null,
      "outputs": []
    },
    {
      "cell_type": "code",
      "source": [
        "stanza_df_first['lib_difference'] = stanza_df_first['stanza_count'] - stanza_df_first['count_entries']"
      ],
      "metadata": {
        "id": "q8HmEmdszcEP"
      },
      "execution_count": 55,
      "outputs": []
    },
    {
      "cell_type": "code",
      "source": [
        "stanza_right = sum(list(stanza_df[stanza_df['is_place']=='Y']['count_entries']))\n",
        "stanza_guessed = sum(list(stanza_df['count_entries']))"
      ],
      "metadata": {
        "id": "KaI2ay8yyig4"
      },
      "execution_count": 58,
      "outputs": []
    },
    {
      "cell_type": "code",
      "source": [
        "print('Точность stanza (первоначальный датасет):')\n",
        "sf_guessed_right = sum(list(stanza_df_first[stanza_df_first['is_place']=='Y']['count_entries']))\n",
        "sf_guessed = sum(list(stanza_df_first['count_entries']))\n",
        "sf_not_guessed = sum(list(missing_in_stanza_first.values()))\n",
        "sf_partly_not_guessed = sum(list(stanza_df_first[stanza_df_first['is_place']=='Y']['lib_difference']))\n",
        "\n",
        "print(sf_guessed_right/(sf_guessed+sf_not_guessed+sf_partly_not_guessed))\n",
        "\n",
        "print('\\nПолнота stanza (первоначальный датасет):')\n",
        "\n",
        "print(sf_guessed_right/stanza_right)\n"
      ],
      "metadata": {
        "colab": {
          "base_uri": "https://localhost:8080/"
        },
        "id": "aSa4Z-NEzhDX",
        "outputId": "2e72b7e2-95bd-4545-d582-613a653a50fc"
      },
      "execution_count": 59,
      "outputs": [
        {
          "output_type": "stream",
          "name": "stdout",
          "text": [
            "Точность stanza (первоначальный датасет):\n",
            "0.505895087535082\n",
            "\n",
            "Полнота stanza (первоначальный датасет):\n",
            "0.809336665387766\n"
          ]
        }
      ]
    },
    {
      "cell_type": "code",
      "source": [
        "print('Точность stanza (первоначальный датасет) (если учитывать только уникальные вхождения):')\n",
        "sf_guessed_right = len(list(stanza_df_first[stanza_df_first['is_place']=='Y']['count_entries']))\n",
        "sf_guessed = len(list(stanza_df_first['count_entries']))\n",
        "sf_not_guessed = len(list(missing_in_stanza_first.values()))\n",
        "sf_partly_not_guessed = len(list(stanza_df_first[stanza_df_first['is_place']=='Y']['lib_difference']))\n",
        "\n",
        "print(sf_guessed_right/(sf_guessed+sf_not_guessed+sf_partly_not_guessed))\n",
        "\n",
        "print('\\nПолнота stanza (первоначальный датасет) (если учитывать только уникальные вхождения):')\n",
        "\n",
        "print(sf_guessed_right/len(list(stanza_df[stanza_df['is_place']=='Y']['count_entries'])))"
      ],
      "metadata": {
        "colab": {
          "base_uri": "https://localhost:8080/"
        },
        "id": "uEIdExR4zhFA",
        "outputId": "14461ee6-ebf6-49f8-9b15-441f0e4276d5"
      },
      "execution_count": 60,
      "outputs": [
        {
          "output_type": "stream",
          "name": "stdout",
          "text": [
            "Точность stanza (первоначальный датасет) (если учитывать только уникальные вхождения):\n",
            "0.36839062438756714\n",
            "\n",
            "Полнота stanza (первоначальный датасет) (если учитывать только уникальные вхождения):\n",
            "1.000106408448831\n"
          ]
        }
      ]
    },
    {
      "cell_type": "code",
      "source": [
        "print('Точность polyglot:')\n",
        "p_guessed_right = sum(list(polyglot_df[polyglot_df['is_place']=='Y']['count_entries']))\n",
        "p_guessed = sum(list(polyglot_df['count_entries']))\n",
        "p_not_guessed = sum(list(missing_in_polyglot.values()))\n",
        "p_partly_not_guessed = sum(list(polyglot_df[polyglot_df['is_place']=='Y']['lib_difference']))\n",
        "\n",
        "print(p_guessed_right/(p_guessed+p_not_guessed+p_partly_not_guessed))\n",
        "\n",
        "print('\\nПолнота polyglot:')\n",
        "\n",
        "print(p_guessed_right/stanza_right)\n"
      ],
      "metadata": {
        "colab": {
          "base_uri": "https://localhost:8080/"
        },
        "id": "NxFSHEeFwImw",
        "outputId": "688b402e-9bb6-440b-f2e9-36c56113386b"
      },
      "execution_count": null,
      "outputs": [
        {
          "output_type": "stream",
          "name": "stdout",
          "text": [
            "Точность polyglot:\n",
            "0.10619528240091844\n",
            "\n",
            "Полнота polyglot:\n",
            "0.31269118699254433\n"
          ]
        }
      ]
    },
    {
      "cell_type": "code",
      "source": [
        "print('Точность polyglot (если учитывать только уникальные вхождения):')\n",
        "p_guessed_right = len(list(polyglot_df[polyglot_df['is_place']=='Y']['count_entries']))\n",
        "p_guessed = len(list(polyglot_df['count_entries']))\n",
        "p_not_guessed = len(list(missing_in_polyglot.values()))\n",
        "p_partly_not_guessed = len(list(polyglot_df[polyglot_df['is_place']=='Y']['lib_difference']))\n",
        "\n",
        "print(p_guessed_right/(p_guessed+p_not_guessed+p_partly_not_guessed))\n",
        "\n",
        "print('\\nПолнота polyglot (если учитывать только уникальные вхождения):')\n",
        "\n",
        "print(p_guessed_right/len(list(stanza_df[stanza_df['is_place']=='Y']['count_entries'])))"
      ],
      "metadata": {
        "colab": {
          "base_uri": "https://localhost:8080/"
        },
        "id": "rCgj7iYozoHR",
        "outputId": "9455b4c5-ba9a-4e05-e354-4c9e6a8b1412"
      },
      "execution_count": null,
      "outputs": [
        {
          "output_type": "stream",
          "name": "stdout",
          "text": [
            "Точность polyglot (если учитывать только уникальные вхождения):\n",
            "0.1101791598416816\n",
            "\n",
            "Полнота polyglot (если учитывать только уникальные вхождения):\n",
            "0.45987071373467053\n"
          ]
        }
      ]
    },
    {
      "cell_type": "code",
      "source": [
        "print('Точность natasha:')\n",
        "n_guessed_right = sum(list(natasha_df[natasha_df['is_place']=='Y']['count_entries']))\n",
        "n_guessed = sum(list(natasha_df['count_entries']))\n",
        "n_not_guessed = sum(list(missing_in_natasha.values()))\n",
        "n_partly_not_guessed = sum(list(natasha_df[natasha_df['is_place']=='Y']['lib_difference']))\n",
        "\n",
        "print(n_guessed_right/(n_guessed+n_not_guessed+n_partly_not_guessed))\n",
        "\n",
        "print('\\nПолнота natasha:')\n",
        "\n",
        "print(n_guessed_right/stanza_right)"
      ],
      "metadata": {
        "colab": {
          "base_uri": "https://localhost:8080/"
        },
        "id": "frMZJ6DLv0xl",
        "outputId": "56945c77-f798-40b3-9057-dcd285a1e8ad"
      },
      "execution_count": null,
      "outputs": [
        {
          "output_type": "stream",
          "name": "stdout",
          "text": [
            "Точность natasha:\n",
            "0.4618115579684263\n",
            "\n",
            "Полнота natasha:\n",
            "0.6703754782915271\n"
          ]
        }
      ]
    },
    {
      "cell_type": "code",
      "source": [
        "print('Точность natasha (если учитывать только уникальные вхождения):')\n",
        "n_guessed_right = len(list(natasha_df[natasha_df['is_place']=='Y']['count_entries']))\n",
        "n_guessed = len(list(natasha_df['count_entries']))\n",
        "n_not_guessed = len(list(missing_in_natasha.values()))\n",
        "n_partly_not_guessed = len(list(natasha_df[natasha_df['is_place']=='Y']['lib_difference']))\n",
        "\n",
        "print(n_guessed_right/(n_guessed+n_not_guessed+n_partly_not_guessed))\n",
        "\n",
        "print('\\nПолнота natasha (если учитывать только уникальные вхождения):')\n",
        "\n",
        "print(n_guessed_right/len(list(stanza_df[stanza_df['is_place']=='Y']['count_entries'])))"
      ],
      "metadata": {
        "colab": {
          "base_uri": "https://localhost:8080/"
        },
        "id": "GGeLR87F0BFQ",
        "outputId": "22ebf16e-63d0-4eca-8850-f36303d73766"
      },
      "execution_count": null,
      "outputs": [
        {
          "output_type": "stream",
          "name": "stdout",
          "text": [
            "Точность natasha (если учитывать только уникальные вхождения):\n",
            "0.34230742611945464\n",
            "\n",
            "Полнота natasha (если учитывать только уникальные вхождения):\n",
            "0.7894442818759809\n"
          ]
        }
      ]
    },
    {
      "cell_type": "code",
      "source": [
        "print('Точность spacy:')\n",
        "s_guessed_right = sum(list(spacy_df[spacy_df['is_place']=='Y']['count_entries']))\n",
        "s_guessed = sum(list(spacy_df['count_entries']))\n",
        "s_not_guessed = sum(list(missing_in_spacy.values()))\n",
        "s_partly_not_guessed = sum(list(spacy_df[spacy_df['is_place']=='Y']['lib_difference']))\n",
        "\n",
        "print(s_guessed_right/(s_guessed+s_not_guessed+s_partly_not_guessed))\n",
        "\n",
        "print('\\nПолнота spacy:')\n",
        "\n",
        "print(s_guessed_right/stanza_right)"
      ],
      "metadata": {
        "colab": {
          "base_uri": "https://localhost:8080/"
        },
        "id": "MSy7yWIjxwpx",
        "outputId": "eb668feb-09d1-4acf-be95-2d224662274a"
      },
      "execution_count": null,
      "outputs": [
        {
          "output_type": "stream",
          "name": "stdout",
          "text": [
            "Точность spacy:\n",
            "0.38202122613907247\n",
            "\n",
            "Полнота spacy:\n",
            "0.6431141574292025\n"
          ]
        }
      ]
    },
    {
      "cell_type": "code",
      "source": [
        "print('Точность spacy (если учитывать только уникальные вхождения):')\n",
        "s_guessed_right = len(list(spacy_df[spacy_df['is_place']=='Y']['count_entries']))\n",
        "s_guessed = len(list(spacy_df['count_entries']))\n",
        "s_not_guessed = len(list(missing_in_spacy.values()))\n",
        "s_partly_not_guessed = len(list(spacy_df[spacy_df['is_place']=='Y']['lib_difference']))\n",
        "\n",
        "print(s_guessed_right/(s_guessed+s_not_guessed+s_partly_not_guessed))\n",
        "\n",
        "print('\\nПолнота spacy (если учитывать только уникальные вхождения):')\n",
        "\n",
        "print(s_guessed_right/len(list(stanza_df[stanza_df['is_place']=='Y']['count_entries'])))"
      ],
      "metadata": {
        "colab": {
          "base_uri": "https://localhost:8080/"
        },
        "id": "W4d740y60Qy0",
        "outputId": "9ba0959e-0f29-468a-a067-0bc264ada520"
      },
      "execution_count": null,
      "outputs": [
        {
          "output_type": "stream",
          "name": "stdout",
          "text": [
            "Точность spacy (если учитывать только уникальные вхождения):\n",
            "0.2993329742718648\n",
            "\n",
            "Полнота spacy (если учитывать только уникальные вхождения):\n",
            "0.7688010428027986\n"
          ]
        }
      ]
    },
    {
      "cell_type": "code",
      "source": [
        "print('Точночть stanza:')\n",
        "\n",
        "print(stanza_right/stanza_guessed)"
      ],
      "metadata": {
        "colab": {
          "base_uri": "https://localhost:8080/"
        },
        "id": "O8-njnC1zC1b",
        "outputId": "6d552deb-d37b-4508-acb9-efecd1b5de06"
      },
      "execution_count": null,
      "outputs": [
        {
          "output_type": "stream",
          "name": "stdout",
          "text": [
            "Точночть stanza:\n",
            "0.7237135374062873\n"
          ]
        }
      ]
    },
    {
      "cell_type": "code",
      "source": [
        "print('Точночть stanza (если учитывать только уникальные вхождения):')\n",
        "\n",
        "print(len(list(stanza_df[stanza_df['is_place']=='Y']['count_entries']))/len(list(stanza_df['count_entries'])))"
      ],
      "metadata": {
        "colab": {
          "base_uri": "https://localhost:8080/"
        },
        "id": "lCErk2D-0roG",
        "outputId": "c224de1b-743c-4cba-c181-e47a78c47c20"
      },
      "execution_count": null,
      "outputs": [
        {
          "output_type": "stream",
          "name": "stdout",
          "text": [
            "Точночть stanza (если учитывать только уникальные вхождения):\n",
            "0.5832221429236355\n"
          ]
        }
      ]
    },
    {
      "cell_type": "code",
      "source": [
        "polyglot_df.to_csv('./drive/My Drive/course_work/polyglot_rez_final.csv', sep=';', index=False)\n",
        "spacy_df.to_csv('./drive/My Drive/course_work/spacy_rez_final.csv', sep=';', index=False)\n",
        "natasha_df.to_csv('./drive/My Drive/course_work/natasha_rez_final.csv', sep=';', index=False)"
      ],
      "metadata": {
        "id": "uWOoXcO4oNcj"
      },
      "execution_count": null,
      "outputs": []
    }
  ]
}